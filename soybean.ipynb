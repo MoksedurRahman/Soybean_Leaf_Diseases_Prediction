{
 "cells": [
  {
   "cell_type": "code",
   "execution_count": 43,
   "metadata": {},
   "outputs": [],
   "source": [
    "# Importing libraries\n",
    "import numpy as np\n",
    "import matplotlib.pyplot as plt\n",
    "import pandas as pd\n",
    "import sklearn as sk\n",
    "%matplotlib inline"
   ]
  },
  {
   "cell_type": "code",
   "execution_count": 44,
   "metadata": {},
   "outputs": [],
   "source": [
    "\n",
    "data = pd.read_csv('soybean-large.data', sep = ',', engine = 'python', names=['class','date','plant-stand','precip','temp','hail','crop-hist','area-damaged','severity','seed-tmt','germination','plant-growth','leaves','leafspots-halo','leafspots-marg','leafspot-size','leaf-shread','leaf-malf','leaf-mild','stem','lodging','stem-cankers','canker-lesion','fruiting-bodies','external decay','mycelium','int-discolor','sclerotia','fruit-pods','fruit spots','seed','mold-growth','seed-discolor','seed-size','shriveling','roots'])"
   ]
  },
  {
   "cell_type": "code",
   "execution_count": 45,
   "metadata": {},
   "outputs": [
    {
     "data": {
      "text/plain": [
       "pandas.core.frame.DataFrame"
      ]
     },
     "execution_count": 45,
     "metadata": {},
     "output_type": "execute_result"
    }
   ],
   "source": [
    "type(data)"
   ]
  },
  {
   "cell_type": "code",
   "execution_count": 46,
   "metadata": {},
   "outputs": [
    {
     "data": {
      "text/html": [
       "<div>\n",
       "<style scoped>\n",
       "    .dataframe tbody tr th:only-of-type {\n",
       "        vertical-align: middle;\n",
       "    }\n",
       "\n",
       "    .dataframe tbody tr th {\n",
       "        vertical-align: top;\n",
       "    }\n",
       "\n",
       "    .dataframe thead th {\n",
       "        text-align: right;\n",
       "    }\n",
       "</style>\n",
       "<table border=\"1\" class=\"dataframe\">\n",
       "  <thead>\n",
       "    <tr style=\"text-align: right;\">\n",
       "      <th></th>\n",
       "      <th>class</th>\n",
       "      <th>date</th>\n",
       "      <th>plant-stand</th>\n",
       "      <th>precip</th>\n",
       "      <th>temp</th>\n",
       "      <th>hail</th>\n",
       "      <th>crop-hist</th>\n",
       "      <th>area-damaged</th>\n",
       "      <th>severity</th>\n",
       "      <th>seed-tmt</th>\n",
       "      <th>...</th>\n",
       "      <th>int-discolor</th>\n",
       "      <th>sclerotia</th>\n",
       "      <th>fruit-pods</th>\n",
       "      <th>fruit spots</th>\n",
       "      <th>seed</th>\n",
       "      <th>mold-growth</th>\n",
       "      <th>seed-discolor</th>\n",
       "      <th>seed-size</th>\n",
       "      <th>shriveling</th>\n",
       "      <th>roots</th>\n",
       "    </tr>\n",
       "  </thead>\n",
       "  <tbody>\n",
       "    <tr>\n",
       "      <th>0</th>\n",
       "      <td>diaporthe-stem-canker</td>\n",
       "      <td>6</td>\n",
       "      <td>0</td>\n",
       "      <td>2</td>\n",
       "      <td>1</td>\n",
       "      <td>0</td>\n",
       "      <td>1</td>\n",
       "      <td>1</td>\n",
       "      <td>1</td>\n",
       "      <td>0</td>\n",
       "      <td>...</td>\n",
       "      <td>0</td>\n",
       "      <td>0</td>\n",
       "      <td>0</td>\n",
       "      <td>4</td>\n",
       "      <td>0</td>\n",
       "      <td>0</td>\n",
       "      <td>0</td>\n",
       "      <td>0</td>\n",
       "      <td>0</td>\n",
       "      <td>0</td>\n",
       "    </tr>\n",
       "    <tr>\n",
       "      <th>1</th>\n",
       "      <td>diaporthe-stem-canker</td>\n",
       "      <td>4</td>\n",
       "      <td>0</td>\n",
       "      <td>2</td>\n",
       "      <td>1</td>\n",
       "      <td>0</td>\n",
       "      <td>2</td>\n",
       "      <td>0</td>\n",
       "      <td>2</td>\n",
       "      <td>1</td>\n",
       "      <td>...</td>\n",
       "      <td>0</td>\n",
       "      <td>0</td>\n",
       "      <td>0</td>\n",
       "      <td>4</td>\n",
       "      <td>0</td>\n",
       "      <td>0</td>\n",
       "      <td>0</td>\n",
       "      <td>0</td>\n",
       "      <td>0</td>\n",
       "      <td>0</td>\n",
       "    </tr>\n",
       "    <tr>\n",
       "      <th>2</th>\n",
       "      <td>diaporthe-stem-canker</td>\n",
       "      <td>3</td>\n",
       "      <td>0</td>\n",
       "      <td>2</td>\n",
       "      <td>1</td>\n",
       "      <td>0</td>\n",
       "      <td>1</td>\n",
       "      <td>0</td>\n",
       "      <td>2</td>\n",
       "      <td>1</td>\n",
       "      <td>...</td>\n",
       "      <td>0</td>\n",
       "      <td>0</td>\n",
       "      <td>0</td>\n",
       "      <td>4</td>\n",
       "      <td>0</td>\n",
       "      <td>0</td>\n",
       "      <td>0</td>\n",
       "      <td>0</td>\n",
       "      <td>0</td>\n",
       "      <td>0</td>\n",
       "    </tr>\n",
       "    <tr>\n",
       "      <th>3</th>\n",
       "      <td>diaporthe-stem-canker</td>\n",
       "      <td>3</td>\n",
       "      <td>0</td>\n",
       "      <td>2</td>\n",
       "      <td>1</td>\n",
       "      <td>0</td>\n",
       "      <td>1</td>\n",
       "      <td>0</td>\n",
       "      <td>2</td>\n",
       "      <td>0</td>\n",
       "      <td>...</td>\n",
       "      <td>0</td>\n",
       "      <td>0</td>\n",
       "      <td>0</td>\n",
       "      <td>4</td>\n",
       "      <td>0</td>\n",
       "      <td>0</td>\n",
       "      <td>0</td>\n",
       "      <td>0</td>\n",
       "      <td>0</td>\n",
       "      <td>0</td>\n",
       "    </tr>\n",
       "    <tr>\n",
       "      <th>4</th>\n",
       "      <td>diaporthe-stem-canker</td>\n",
       "      <td>6</td>\n",
       "      <td>0</td>\n",
       "      <td>2</td>\n",
       "      <td>1</td>\n",
       "      <td>0</td>\n",
       "      <td>2</td>\n",
       "      <td>0</td>\n",
       "      <td>1</td>\n",
       "      <td>0</td>\n",
       "      <td>...</td>\n",
       "      <td>0</td>\n",
       "      <td>0</td>\n",
       "      <td>0</td>\n",
       "      <td>4</td>\n",
       "      <td>0</td>\n",
       "      <td>0</td>\n",
       "      <td>0</td>\n",
       "      <td>0</td>\n",
       "      <td>0</td>\n",
       "      <td>0</td>\n",
       "    </tr>\n",
       "    <tr>\n",
       "      <th>...</th>\n",
       "      <td>...</td>\n",
       "      <td>...</td>\n",
       "      <td>...</td>\n",
       "      <td>...</td>\n",
       "      <td>...</td>\n",
       "      <td>...</td>\n",
       "      <td>...</td>\n",
       "      <td>...</td>\n",
       "      <td>...</td>\n",
       "      <td>...</td>\n",
       "      <td>...</td>\n",
       "      <td>...</td>\n",
       "      <td>...</td>\n",
       "      <td>...</td>\n",
       "      <td>...</td>\n",
       "      <td>...</td>\n",
       "      <td>...</td>\n",
       "      <td>...</td>\n",
       "      <td>...</td>\n",
       "      <td>...</td>\n",
       "      <td>...</td>\n",
       "    </tr>\n",
       "    <tr>\n",
       "      <th>302</th>\n",
       "      <td>2-4-d-injury</td>\n",
       "      <td>?</td>\n",
       "      <td>?</td>\n",
       "      <td>?</td>\n",
       "      <td>?</td>\n",
       "      <td>?</td>\n",
       "      <td>?</td>\n",
       "      <td>?</td>\n",
       "      <td>?</td>\n",
       "      <td>?</td>\n",
       "      <td>...</td>\n",
       "      <td>?</td>\n",
       "      <td>?</td>\n",
       "      <td>?</td>\n",
       "      <td>?</td>\n",
       "      <td>?</td>\n",
       "      <td>?</td>\n",
       "      <td>?</td>\n",
       "      <td>?</td>\n",
       "      <td>?</td>\n",
       "      <td>?</td>\n",
       "    </tr>\n",
       "    <tr>\n",
       "      <th>303</th>\n",
       "      <td>herbicide-injury</td>\n",
       "      <td>1</td>\n",
       "      <td>1</td>\n",
       "      <td>?</td>\n",
       "      <td>0</td>\n",
       "      <td>?</td>\n",
       "      <td>1</td>\n",
       "      <td>0</td>\n",
       "      <td>?</td>\n",
       "      <td>?</td>\n",
       "      <td>...</td>\n",
       "      <td>?</td>\n",
       "      <td>?</td>\n",
       "      <td>3</td>\n",
       "      <td>?</td>\n",
       "      <td>?</td>\n",
       "      <td>?</td>\n",
       "      <td>?</td>\n",
       "      <td>?</td>\n",
       "      <td>?</td>\n",
       "      <td>1</td>\n",
       "    </tr>\n",
       "    <tr>\n",
       "      <th>304</th>\n",
       "      <td>herbicide-injury</td>\n",
       "      <td>0</td>\n",
       "      <td>1</td>\n",
       "      <td>?</td>\n",
       "      <td>0</td>\n",
       "      <td>?</td>\n",
       "      <td>0</td>\n",
       "      <td>3</td>\n",
       "      <td>?</td>\n",
       "      <td>?</td>\n",
       "      <td>...</td>\n",
       "      <td>?</td>\n",
       "      <td>?</td>\n",
       "      <td>3</td>\n",
       "      <td>?</td>\n",
       "      <td>?</td>\n",
       "      <td>?</td>\n",
       "      <td>?</td>\n",
       "      <td>?</td>\n",
       "      <td>?</td>\n",
       "      <td>1</td>\n",
       "    </tr>\n",
       "    <tr>\n",
       "      <th>305</th>\n",
       "      <td>herbicide-injury</td>\n",
       "      <td>1</td>\n",
       "      <td>1</td>\n",
       "      <td>?</td>\n",
       "      <td>0</td>\n",
       "      <td>?</td>\n",
       "      <td>0</td>\n",
       "      <td>0</td>\n",
       "      <td>?</td>\n",
       "      <td>?</td>\n",
       "      <td>...</td>\n",
       "      <td>?</td>\n",
       "      <td>?</td>\n",
       "      <td>3</td>\n",
       "      <td>?</td>\n",
       "      <td>?</td>\n",
       "      <td>?</td>\n",
       "      <td>?</td>\n",
       "      <td>?</td>\n",
       "      <td>?</td>\n",
       "      <td>1</td>\n",
       "    </tr>\n",
       "    <tr>\n",
       "      <th>306</th>\n",
       "      <td>herbicide-injury</td>\n",
       "      <td>1</td>\n",
       "      <td>1</td>\n",
       "      <td>?</td>\n",
       "      <td>0</td>\n",
       "      <td>?</td>\n",
       "      <td>1</td>\n",
       "      <td>3</td>\n",
       "      <td>?</td>\n",
       "      <td>?</td>\n",
       "      <td>...</td>\n",
       "      <td>?</td>\n",
       "      <td>?</td>\n",
       "      <td>3</td>\n",
       "      <td>?</td>\n",
       "      <td>?</td>\n",
       "      <td>?</td>\n",
       "      <td>?</td>\n",
       "      <td>?</td>\n",
       "      <td>?</td>\n",
       "      <td>1</td>\n",
       "    </tr>\n",
       "  </tbody>\n",
       "</table>\n",
       "<p>307 rows × 36 columns</p>\n",
       "</div>"
      ],
      "text/plain": [
       "                     class date plant-stand precip temp hail crop-hist  \\\n",
       "0    diaporthe-stem-canker    6           0      2    1    0         1   \n",
       "1    diaporthe-stem-canker    4           0      2    1    0         2   \n",
       "2    diaporthe-stem-canker    3           0      2    1    0         1   \n",
       "3    diaporthe-stem-canker    3           0      2    1    0         1   \n",
       "4    diaporthe-stem-canker    6           0      2    1    0         2   \n",
       "..                     ...  ...         ...    ...  ...  ...       ...   \n",
       "302           2-4-d-injury    ?           ?      ?    ?    ?         ?   \n",
       "303       herbicide-injury    1           1      ?    0    ?         1   \n",
       "304       herbicide-injury    0           1      ?    0    ?         0   \n",
       "305       herbicide-injury    1           1      ?    0    ?         0   \n",
       "306       herbicide-injury    1           1      ?    0    ?         1   \n",
       "\n",
       "    area-damaged severity seed-tmt  ... int-discolor sclerotia  fruit-pods  \\\n",
       "0              1        1        0  ...            0         0           0   \n",
       "1              0        2        1  ...            0         0           0   \n",
       "2              0        2        1  ...            0         0           0   \n",
       "3              0        2        0  ...            0         0           0   \n",
       "4              0        1        0  ...            0         0           0   \n",
       "..           ...      ...      ...  ...          ...       ...         ...   \n",
       "302            ?        ?        ?  ...            ?         ?           ?   \n",
       "303            0        ?        ?  ...            ?         ?           3   \n",
       "304            3        ?        ?  ...            ?         ?           3   \n",
       "305            0        ?        ?  ...            ?         ?           3   \n",
       "306            3        ?        ?  ...            ?         ?           3   \n",
       "\n",
       "    fruit spots seed mold-growth seed-discolor seed-size shriveling roots  \n",
       "0             4    0           0             0         0          0     0  \n",
       "1             4    0           0             0         0          0     0  \n",
       "2             4    0           0             0         0          0     0  \n",
       "3             4    0           0             0         0          0     0  \n",
       "4             4    0           0             0         0          0     0  \n",
       "..          ...  ...         ...           ...       ...        ...   ...  \n",
       "302           ?    ?           ?             ?         ?          ?     ?  \n",
       "303           ?    ?           ?             ?         ?          ?     1  \n",
       "304           ?    ?           ?             ?         ?          ?     1  \n",
       "305           ?    ?           ?             ?         ?          ?     1  \n",
       "306           ?    ?           ?             ?         ?          ?     1  \n",
       "\n",
       "[307 rows x 36 columns]"
      ]
     },
     "execution_count": 46,
     "metadata": {},
     "output_type": "execute_result"
    }
   ],
   "source": [
    "data"
   ]
  },
  {
   "cell_type": "code",
   "execution_count": 47,
   "metadata": {},
   "outputs": [
    {
     "name": "stdout",
     "output_type": "stream",
     "text": [
      "                     class date plant-stand precip temp hail crop-hist  \\\n",
      "0    diaporthe-stem-canker    6           0      2    1    0         1   \n",
      "1    diaporthe-stem-canker    4           0      2    1    0         2   \n",
      "2    diaporthe-stem-canker    3           0      2    1    0         1   \n",
      "3    diaporthe-stem-canker    3           0      2    1    0         1   \n",
      "4    diaporthe-stem-canker    6           0      2    1    0         2   \n",
      "..                     ...  ...         ...    ...  ...  ...       ...   \n",
      "302           2-4-d-injury    ?           ?      ?    ?    ?         ?   \n",
      "303       herbicide-injury    1           1      ?    0    ?         1   \n",
      "304       herbicide-injury    0           1      ?    0    ?         0   \n",
      "305       herbicide-injury    1           1      ?    0    ?         0   \n",
      "306       herbicide-injury    1           1      ?    0    ?         1   \n",
      "\n",
      "    area-damaged severity seed-tmt  ... int-discolor sclerotia  fruit-pods  \\\n",
      "0              1        1        0  ...            0         0           0   \n",
      "1              0        2        1  ...            0         0           0   \n",
      "2              0        2        1  ...            0         0           0   \n",
      "3              0        2        0  ...            0         0           0   \n",
      "4              0        1        0  ...            0         0           0   \n",
      "..           ...      ...      ...  ...          ...       ...         ...   \n",
      "302            ?        ?        ?  ...            ?         ?           ?   \n",
      "303            0        ?        ?  ...            ?         ?           3   \n",
      "304            3        ?        ?  ...            ?         ?           3   \n",
      "305            0        ?        ?  ...            ?         ?           3   \n",
      "306            3        ?        ?  ...            ?         ?           3   \n",
      "\n",
      "    fruit spots seed mold-growth seed-discolor seed-size shriveling roots  \n",
      "0             4    0           0             0         0          0     0  \n",
      "1             4    0           0             0         0          0     0  \n",
      "2             4    0           0             0         0          0     0  \n",
      "3             4    0           0             0         0          0     0  \n",
      "4             4    0           0             0         0          0     0  \n",
      "..          ...  ...         ...           ...       ...        ...   ...  \n",
      "302           ?    ?           ?             ?         ?          ?     ?  \n",
      "303           ?    ?           ?             ?         ?          ?     1  \n",
      "304           ?    ?           ?             ?         ?          ?     1  \n",
      "305           ?    ?           ?             ?         ?          ?     1  \n",
      "306           ?    ?           ?             ?         ?          ?     1  \n",
      "\n",
      "[307 rows x 36 columns]\n"
     ]
    }
   ],
   "source": [
    "print(data)"
   ]
  },
  {
   "cell_type": "code",
   "execution_count": 48,
   "metadata": {},
   "outputs": [
    {
     "data": {
      "text/plain": [
       "RangeIndex(start=0, stop=307, step=1)"
      ]
     },
     "execution_count": 48,
     "metadata": {},
     "output_type": "execute_result"
    }
   ],
   "source": [
    "data.index"
   ]
  },
  {
   "cell_type": "code",
   "execution_count": 49,
   "metadata": {},
   "outputs": [
    {
     "data": {
      "text/html": [
       "<div>\n",
       "<style scoped>\n",
       "    .dataframe tbody tr th:only-of-type {\n",
       "        vertical-align: middle;\n",
       "    }\n",
       "\n",
       "    .dataframe tbody tr th {\n",
       "        vertical-align: top;\n",
       "    }\n",
       "\n",
       "    .dataframe thead th {\n",
       "        text-align: right;\n",
       "    }\n",
       "</style>\n",
       "<table border=\"1\" class=\"dataframe\">\n",
       "  <thead>\n",
       "    <tr style=\"text-align: right;\">\n",
       "      <th></th>\n",
       "      <th>class</th>\n",
       "      <th>date</th>\n",
       "      <th>plant-stand</th>\n",
       "      <th>precip</th>\n",
       "      <th>temp</th>\n",
       "      <th>hail</th>\n",
       "      <th>crop-hist</th>\n",
       "      <th>area-damaged</th>\n",
       "      <th>severity</th>\n",
       "      <th>seed-tmt</th>\n",
       "      <th>...</th>\n",
       "      <th>int-discolor</th>\n",
       "      <th>sclerotia</th>\n",
       "      <th>fruit-pods</th>\n",
       "      <th>fruit spots</th>\n",
       "      <th>seed</th>\n",
       "      <th>mold-growth</th>\n",
       "      <th>seed-discolor</th>\n",
       "      <th>seed-size</th>\n",
       "      <th>shriveling</th>\n",
       "      <th>roots</th>\n",
       "    </tr>\n",
       "  </thead>\n",
       "  <tbody>\n",
       "    <tr>\n",
       "      <th>0</th>\n",
       "      <td>diaporthe-stem-canker</td>\n",
       "      <td>6</td>\n",
       "      <td>0</td>\n",
       "      <td>2</td>\n",
       "      <td>1</td>\n",
       "      <td>0</td>\n",
       "      <td>1</td>\n",
       "      <td>1</td>\n",
       "      <td>1</td>\n",
       "      <td>0</td>\n",
       "      <td>...</td>\n",
       "      <td>0</td>\n",
       "      <td>0</td>\n",
       "      <td>0</td>\n",
       "      <td>4</td>\n",
       "      <td>0</td>\n",
       "      <td>0</td>\n",
       "      <td>0</td>\n",
       "      <td>0</td>\n",
       "      <td>0</td>\n",
       "      <td>0</td>\n",
       "    </tr>\n",
       "    <tr>\n",
       "      <th>1</th>\n",
       "      <td>diaporthe-stem-canker</td>\n",
       "      <td>4</td>\n",
       "      <td>0</td>\n",
       "      <td>2</td>\n",
       "      <td>1</td>\n",
       "      <td>0</td>\n",
       "      <td>2</td>\n",
       "      <td>0</td>\n",
       "      <td>2</td>\n",
       "      <td>1</td>\n",
       "      <td>...</td>\n",
       "      <td>0</td>\n",
       "      <td>0</td>\n",
       "      <td>0</td>\n",
       "      <td>4</td>\n",
       "      <td>0</td>\n",
       "      <td>0</td>\n",
       "      <td>0</td>\n",
       "      <td>0</td>\n",
       "      <td>0</td>\n",
       "      <td>0</td>\n",
       "    </tr>\n",
       "    <tr>\n",
       "      <th>2</th>\n",
       "      <td>diaporthe-stem-canker</td>\n",
       "      <td>3</td>\n",
       "      <td>0</td>\n",
       "      <td>2</td>\n",
       "      <td>1</td>\n",
       "      <td>0</td>\n",
       "      <td>1</td>\n",
       "      <td>0</td>\n",
       "      <td>2</td>\n",
       "      <td>1</td>\n",
       "      <td>...</td>\n",
       "      <td>0</td>\n",
       "      <td>0</td>\n",
       "      <td>0</td>\n",
       "      <td>4</td>\n",
       "      <td>0</td>\n",
       "      <td>0</td>\n",
       "      <td>0</td>\n",
       "      <td>0</td>\n",
       "      <td>0</td>\n",
       "      <td>0</td>\n",
       "    </tr>\n",
       "    <tr>\n",
       "      <th>3</th>\n",
       "      <td>diaporthe-stem-canker</td>\n",
       "      <td>3</td>\n",
       "      <td>0</td>\n",
       "      <td>2</td>\n",
       "      <td>1</td>\n",
       "      <td>0</td>\n",
       "      <td>1</td>\n",
       "      <td>0</td>\n",
       "      <td>2</td>\n",
       "      <td>0</td>\n",
       "      <td>...</td>\n",
       "      <td>0</td>\n",
       "      <td>0</td>\n",
       "      <td>0</td>\n",
       "      <td>4</td>\n",
       "      <td>0</td>\n",
       "      <td>0</td>\n",
       "      <td>0</td>\n",
       "      <td>0</td>\n",
       "      <td>0</td>\n",
       "      <td>0</td>\n",
       "    </tr>\n",
       "    <tr>\n",
       "      <th>4</th>\n",
       "      <td>diaporthe-stem-canker</td>\n",
       "      <td>6</td>\n",
       "      <td>0</td>\n",
       "      <td>2</td>\n",
       "      <td>1</td>\n",
       "      <td>0</td>\n",
       "      <td>2</td>\n",
       "      <td>0</td>\n",
       "      <td>1</td>\n",
       "      <td>0</td>\n",
       "      <td>...</td>\n",
       "      <td>0</td>\n",
       "      <td>0</td>\n",
       "      <td>0</td>\n",
       "      <td>4</td>\n",
       "      <td>0</td>\n",
       "      <td>0</td>\n",
       "      <td>0</td>\n",
       "      <td>0</td>\n",
       "      <td>0</td>\n",
       "      <td>0</td>\n",
       "    </tr>\n",
       "  </tbody>\n",
       "</table>\n",
       "<p>5 rows × 36 columns</p>\n",
       "</div>"
      ],
      "text/plain": [
       "                   class date plant-stand precip temp hail crop-hist  \\\n",
       "0  diaporthe-stem-canker    6           0      2    1    0         1   \n",
       "1  diaporthe-stem-canker    4           0      2    1    0         2   \n",
       "2  diaporthe-stem-canker    3           0      2    1    0         1   \n",
       "3  diaporthe-stem-canker    3           0      2    1    0         1   \n",
       "4  diaporthe-stem-canker    6           0      2    1    0         2   \n",
       "\n",
       "  area-damaged severity seed-tmt  ... int-discolor sclerotia  fruit-pods  \\\n",
       "0            1        1        0  ...            0         0           0   \n",
       "1            0        2        1  ...            0         0           0   \n",
       "2            0        2        1  ...            0         0           0   \n",
       "3            0        2        0  ...            0         0           0   \n",
       "4            0        1        0  ...            0         0           0   \n",
       "\n",
       "  fruit spots seed mold-growth seed-discolor seed-size shriveling roots  \n",
       "0           4    0           0             0         0          0     0  \n",
       "1           4    0           0             0         0          0     0  \n",
       "2           4    0           0             0         0          0     0  \n",
       "3           4    0           0             0         0          0     0  \n",
       "4           4    0           0             0         0          0     0  \n",
       "\n",
       "[5 rows x 36 columns]"
      ]
     },
     "execution_count": 49,
     "metadata": {},
     "output_type": "execute_result"
    }
   ],
   "source": [
    "data.head()"
   ]
  },
  {
   "cell_type": "code",
   "execution_count": 50,
   "metadata": {},
   "outputs": [
    {
     "data": {
      "text/html": [
       "<div>\n",
       "<style scoped>\n",
       "    .dataframe tbody tr th:only-of-type {\n",
       "        vertical-align: middle;\n",
       "    }\n",
       "\n",
       "    .dataframe tbody tr th {\n",
       "        vertical-align: top;\n",
       "    }\n",
       "\n",
       "    .dataframe thead th {\n",
       "        text-align: right;\n",
       "    }\n",
       "</style>\n",
       "<table border=\"1\" class=\"dataframe\">\n",
       "  <thead>\n",
       "    <tr style=\"text-align: right;\">\n",
       "      <th></th>\n",
       "      <th>class</th>\n",
       "      <th>date</th>\n",
       "      <th>plant-stand</th>\n",
       "      <th>precip</th>\n",
       "      <th>temp</th>\n",
       "      <th>hail</th>\n",
       "      <th>crop-hist</th>\n",
       "      <th>area-damaged</th>\n",
       "      <th>severity</th>\n",
       "      <th>seed-tmt</th>\n",
       "      <th>...</th>\n",
       "      <th>int-discolor</th>\n",
       "      <th>sclerotia</th>\n",
       "      <th>fruit-pods</th>\n",
       "      <th>fruit spots</th>\n",
       "      <th>seed</th>\n",
       "      <th>mold-growth</th>\n",
       "      <th>seed-discolor</th>\n",
       "      <th>seed-size</th>\n",
       "      <th>shriveling</th>\n",
       "      <th>roots</th>\n",
       "    </tr>\n",
       "  </thead>\n",
       "  <tbody>\n",
       "    <tr>\n",
       "      <th>302</th>\n",
       "      <td>2-4-d-injury</td>\n",
       "      <td>?</td>\n",
       "      <td>?</td>\n",
       "      <td>?</td>\n",
       "      <td>?</td>\n",
       "      <td>?</td>\n",
       "      <td>?</td>\n",
       "      <td>?</td>\n",
       "      <td>?</td>\n",
       "      <td>?</td>\n",
       "      <td>...</td>\n",
       "      <td>?</td>\n",
       "      <td>?</td>\n",
       "      <td>?</td>\n",
       "      <td>?</td>\n",
       "      <td>?</td>\n",
       "      <td>?</td>\n",
       "      <td>?</td>\n",
       "      <td>?</td>\n",
       "      <td>?</td>\n",
       "      <td>?</td>\n",
       "    </tr>\n",
       "    <tr>\n",
       "      <th>303</th>\n",
       "      <td>herbicide-injury</td>\n",
       "      <td>1</td>\n",
       "      <td>1</td>\n",
       "      <td>?</td>\n",
       "      <td>0</td>\n",
       "      <td>?</td>\n",
       "      <td>1</td>\n",
       "      <td>0</td>\n",
       "      <td>?</td>\n",
       "      <td>?</td>\n",
       "      <td>...</td>\n",
       "      <td>?</td>\n",
       "      <td>?</td>\n",
       "      <td>3</td>\n",
       "      <td>?</td>\n",
       "      <td>?</td>\n",
       "      <td>?</td>\n",
       "      <td>?</td>\n",
       "      <td>?</td>\n",
       "      <td>?</td>\n",
       "      <td>1</td>\n",
       "    </tr>\n",
       "    <tr>\n",
       "      <th>304</th>\n",
       "      <td>herbicide-injury</td>\n",
       "      <td>0</td>\n",
       "      <td>1</td>\n",
       "      <td>?</td>\n",
       "      <td>0</td>\n",
       "      <td>?</td>\n",
       "      <td>0</td>\n",
       "      <td>3</td>\n",
       "      <td>?</td>\n",
       "      <td>?</td>\n",
       "      <td>...</td>\n",
       "      <td>?</td>\n",
       "      <td>?</td>\n",
       "      <td>3</td>\n",
       "      <td>?</td>\n",
       "      <td>?</td>\n",
       "      <td>?</td>\n",
       "      <td>?</td>\n",
       "      <td>?</td>\n",
       "      <td>?</td>\n",
       "      <td>1</td>\n",
       "    </tr>\n",
       "    <tr>\n",
       "      <th>305</th>\n",
       "      <td>herbicide-injury</td>\n",
       "      <td>1</td>\n",
       "      <td>1</td>\n",
       "      <td>?</td>\n",
       "      <td>0</td>\n",
       "      <td>?</td>\n",
       "      <td>0</td>\n",
       "      <td>0</td>\n",
       "      <td>?</td>\n",
       "      <td>?</td>\n",
       "      <td>...</td>\n",
       "      <td>?</td>\n",
       "      <td>?</td>\n",
       "      <td>3</td>\n",
       "      <td>?</td>\n",
       "      <td>?</td>\n",
       "      <td>?</td>\n",
       "      <td>?</td>\n",
       "      <td>?</td>\n",
       "      <td>?</td>\n",
       "      <td>1</td>\n",
       "    </tr>\n",
       "    <tr>\n",
       "      <th>306</th>\n",
       "      <td>herbicide-injury</td>\n",
       "      <td>1</td>\n",
       "      <td>1</td>\n",
       "      <td>?</td>\n",
       "      <td>0</td>\n",
       "      <td>?</td>\n",
       "      <td>1</td>\n",
       "      <td>3</td>\n",
       "      <td>?</td>\n",
       "      <td>?</td>\n",
       "      <td>...</td>\n",
       "      <td>?</td>\n",
       "      <td>?</td>\n",
       "      <td>3</td>\n",
       "      <td>?</td>\n",
       "      <td>?</td>\n",
       "      <td>?</td>\n",
       "      <td>?</td>\n",
       "      <td>?</td>\n",
       "      <td>?</td>\n",
       "      <td>1</td>\n",
       "    </tr>\n",
       "  </tbody>\n",
       "</table>\n",
       "<p>5 rows × 36 columns</p>\n",
       "</div>"
      ],
      "text/plain": [
       "                class date plant-stand precip temp hail crop-hist  \\\n",
       "302      2-4-d-injury    ?           ?      ?    ?    ?         ?   \n",
       "303  herbicide-injury    1           1      ?    0    ?         1   \n",
       "304  herbicide-injury    0           1      ?    0    ?         0   \n",
       "305  herbicide-injury    1           1      ?    0    ?         0   \n",
       "306  herbicide-injury    1           1      ?    0    ?         1   \n",
       "\n",
       "    area-damaged severity seed-tmt  ... int-discolor sclerotia  fruit-pods  \\\n",
       "302            ?        ?        ?  ...            ?         ?           ?   \n",
       "303            0        ?        ?  ...            ?         ?           3   \n",
       "304            3        ?        ?  ...            ?         ?           3   \n",
       "305            0        ?        ?  ...            ?         ?           3   \n",
       "306            3        ?        ?  ...            ?         ?           3   \n",
       "\n",
       "    fruit spots seed mold-growth seed-discolor seed-size shriveling roots  \n",
       "302           ?    ?           ?             ?         ?          ?     ?  \n",
       "303           ?    ?           ?             ?         ?          ?     1  \n",
       "304           ?    ?           ?             ?         ?          ?     1  \n",
       "305           ?    ?           ?             ?         ?          ?     1  \n",
       "306           ?    ?           ?             ?         ?          ?     1  \n",
       "\n",
       "[5 rows x 36 columns]"
      ]
     },
     "execution_count": 50,
     "metadata": {},
     "output_type": "execute_result"
    }
   ],
   "source": [
    "data.tail()"
   ]
  },
  {
   "cell_type": "code",
   "execution_count": 51,
   "metadata": {},
   "outputs": [
    {
     "data": {
      "text/html": [
       "<div>\n",
       "<style scoped>\n",
       "    .dataframe tbody tr th:only-of-type {\n",
       "        vertical-align: middle;\n",
       "    }\n",
       "\n",
       "    .dataframe tbody tr th {\n",
       "        vertical-align: top;\n",
       "    }\n",
       "\n",
       "    .dataframe thead th {\n",
       "        text-align: right;\n",
       "    }\n",
       "</style>\n",
       "<table border=\"1\" class=\"dataframe\">\n",
       "  <thead>\n",
       "    <tr style=\"text-align: right;\">\n",
       "      <th></th>\n",
       "      <th>leaves</th>\n",
       "    </tr>\n",
       "  </thead>\n",
       "  <tbody>\n",
       "    <tr>\n",
       "      <th>count</th>\n",
       "      <td>307.000000</td>\n",
       "    </tr>\n",
       "    <tr>\n",
       "      <th>mean</th>\n",
       "      <td>0.892508</td>\n",
       "    </tr>\n",
       "    <tr>\n",
       "      <th>std</th>\n",
       "      <td>0.310243</td>\n",
       "    </tr>\n",
       "    <tr>\n",
       "      <th>min</th>\n",
       "      <td>0.000000</td>\n",
       "    </tr>\n",
       "    <tr>\n",
       "      <th>25%</th>\n",
       "      <td>1.000000</td>\n",
       "    </tr>\n",
       "    <tr>\n",
       "      <th>50%</th>\n",
       "      <td>1.000000</td>\n",
       "    </tr>\n",
       "    <tr>\n",
       "      <th>75%</th>\n",
       "      <td>1.000000</td>\n",
       "    </tr>\n",
       "    <tr>\n",
       "      <th>max</th>\n",
       "      <td>1.000000</td>\n",
       "    </tr>\n",
       "  </tbody>\n",
       "</table>\n",
       "</div>"
      ],
      "text/plain": [
       "           leaves\n",
       "count  307.000000\n",
       "mean     0.892508\n",
       "std      0.310243\n",
       "min      0.000000\n",
       "25%      1.000000\n",
       "50%      1.000000\n",
       "75%      1.000000\n",
       "max      1.000000"
      ]
     },
     "execution_count": 51,
     "metadata": {},
     "output_type": "execute_result"
    }
   ],
   "source": [
    "data.describe()"
   ]
  },
  {
   "cell_type": "code",
   "execution_count": 52,
   "metadata": {},
   "outputs": [
    {
     "data": {
      "text/html": [
       "<div>\n",
       "<style scoped>\n",
       "    .dataframe tbody tr th:only-of-type {\n",
       "        vertical-align: middle;\n",
       "    }\n",
       "\n",
       "    .dataframe tbody tr th {\n",
       "        vertical-align: top;\n",
       "    }\n",
       "\n",
       "    .dataframe thead th {\n",
       "        text-align: right;\n",
       "    }\n",
       "</style>\n",
       "<table border=\"1\" class=\"dataframe\">\n",
       "  <thead>\n",
       "    <tr style=\"text-align: right;\">\n",
       "      <th></th>\n",
       "      <th>class</th>\n",
       "      <th>date</th>\n",
       "      <th>plant-stand</th>\n",
       "      <th>precip</th>\n",
       "      <th>temp</th>\n",
       "      <th>hail</th>\n",
       "      <th>crop-hist</th>\n",
       "      <th>area-damaged</th>\n",
       "      <th>severity</th>\n",
       "      <th>seed-tmt</th>\n",
       "      <th>...</th>\n",
       "      <th>int-discolor</th>\n",
       "      <th>sclerotia</th>\n",
       "      <th>fruit-pods</th>\n",
       "      <th>fruit spots</th>\n",
       "      <th>seed</th>\n",
       "      <th>mold-growth</th>\n",
       "      <th>seed-discolor</th>\n",
       "      <th>seed-size</th>\n",
       "      <th>shriveling</th>\n",
       "      <th>roots</th>\n",
       "    </tr>\n",
       "  </thead>\n",
       "  <tbody>\n",
       "    <tr>\n",
       "      <th>count</th>\n",
       "      <td>307</td>\n",
       "      <td>307</td>\n",
       "      <td>307</td>\n",
       "      <td>307</td>\n",
       "      <td>307</td>\n",
       "      <td>307</td>\n",
       "      <td>307</td>\n",
       "      <td>307</td>\n",
       "      <td>307</td>\n",
       "      <td>307</td>\n",
       "      <td>...</td>\n",
       "      <td>307</td>\n",
       "      <td>307</td>\n",
       "      <td>307</td>\n",
       "      <td>307</td>\n",
       "      <td>307</td>\n",
       "      <td>307</td>\n",
       "      <td>307</td>\n",
       "      <td>307</td>\n",
       "      <td>307</td>\n",
       "      <td>307</td>\n",
       "    </tr>\n",
       "    <tr>\n",
       "      <th>unique</th>\n",
       "      <td>19</td>\n",
       "      <td>8</td>\n",
       "      <td>3</td>\n",
       "      <td>4</td>\n",
       "      <td>4</td>\n",
       "      <td>3</td>\n",
       "      <td>5</td>\n",
       "      <td>5</td>\n",
       "      <td>4</td>\n",
       "      <td>4</td>\n",
       "      <td>...</td>\n",
       "      <td>4</td>\n",
       "      <td>3</td>\n",
       "      <td>5</td>\n",
       "      <td>5</td>\n",
       "      <td>3</td>\n",
       "      <td>3</td>\n",
       "      <td>3</td>\n",
       "      <td>3</td>\n",
       "      <td>3</td>\n",
       "      <td>4</td>\n",
       "    </tr>\n",
       "    <tr>\n",
       "      <th>top</th>\n",
       "      <td>frog-eye-leaf-spot</td>\n",
       "      <td>5</td>\n",
       "      <td>0</td>\n",
       "      <td>2</td>\n",
       "      <td>1</td>\n",
       "      <td>0</td>\n",
       "      <td>2</td>\n",
       "      <td>1</td>\n",
       "      <td>1</td>\n",
       "      <td>0</td>\n",
       "      <td>...</td>\n",
       "      <td>0</td>\n",
       "      <td>0</td>\n",
       "      <td>0</td>\n",
       "      <td>0</td>\n",
       "      <td>0</td>\n",
       "      <td>0</td>\n",
       "      <td>0</td>\n",
       "      <td>0</td>\n",
       "      <td>0</td>\n",
       "      <td>0</td>\n",
       "    </tr>\n",
       "    <tr>\n",
       "      <th>freq</th>\n",
       "      <td>40</td>\n",
       "      <td>65</td>\n",
       "      <td>160</td>\n",
       "      <td>210</td>\n",
       "      <td>179</td>\n",
       "      <td>211</td>\n",
       "      <td>99</td>\n",
       "      <td>101</td>\n",
       "      <td>151</td>\n",
       "      <td>140</td>\n",
       "      <td>...</td>\n",
       "      <td>266</td>\n",
       "      <td>286</td>\n",
       "      <td>193</td>\n",
       "      <td>164</td>\n",
       "      <td>227</td>\n",
       "      <td>247</td>\n",
       "      <td>244</td>\n",
       "      <td>251</td>\n",
       "      <td>256</td>\n",
       "      <td>260</td>\n",
       "    </tr>\n",
       "  </tbody>\n",
       "</table>\n",
       "<p>4 rows × 35 columns</p>\n",
       "</div>"
      ],
      "text/plain": [
       "                     class date plant-stand precip temp hail crop-hist  \\\n",
       "count                  307  307         307    307  307  307       307   \n",
       "unique                  19    8           3      4    4    3         5   \n",
       "top     frog-eye-leaf-spot    5           0      2    1    0         2   \n",
       "freq                    40   65         160    210  179  211        99   \n",
       "\n",
       "       area-damaged severity seed-tmt  ... int-discolor sclerotia fruit-pods  \\\n",
       "count           307      307      307  ...          307       307        307   \n",
       "unique            5        4        4  ...            4         3          5   \n",
       "top               1        1        0  ...            0         0          0   \n",
       "freq            101      151      140  ...          266       286        193   \n",
       "\n",
       "       fruit spots seed mold-growth seed-discolor seed-size shriveling roots  \n",
       "count          307  307         307           307       307        307   307  \n",
       "unique           5    3           3             3         3          3     4  \n",
       "top              0    0           0             0         0          0     0  \n",
       "freq           164  227         247           244       251        256   260  \n",
       "\n",
       "[4 rows x 35 columns]"
      ]
     },
     "execution_count": 52,
     "metadata": {},
     "output_type": "execute_result"
    }
   ],
   "source": [
    "data.describe(include=[object])"
   ]
  },
  {
   "cell_type": "markdown",
   "metadata": {},
   "source": [
    "### Let's replace the values \"no data\" (?) and \"not applicable data\" (dna) with nan"
   ]
  },
  {
   "cell_type": "code",
   "execution_count": 53,
   "metadata": {},
   "outputs": [],
   "source": [
    "data = data.replace(to_replace=['?'], value = [np.nan])"
   ]
  },
  {
   "cell_type": "markdown",
   "metadata": {},
   "source": [
    "### dna match 'leafspots-marg' and 'leafspot-size' feature value 2, 'canker-lesion' feature value 0, 'fruit-pods' feature value 3, and 'fruit spots' feature value 4"
   ]
  },
  {
   "cell_type": "code",
   "execution_count": 54,
   "metadata": {},
   "outputs": [],
   "source": [
    "data.at[data['leafspots-marg'] == '2', 'leafspots-marg'] = np.nan\n",
    "data.at[data['leafspot-size'] == '2', 'leafspot-size'] = np.nan\n",
    "data.at[data['canker-lesion'] == '0', 'canker-lesion'] = np.nan\n",
    "data.at[data['fruit-pods'] == '3', 'fruit-pods'] = np.nan\n",
    "data.at[data['fruit spots'] == '4', 'fruit spots'] = np.nan"
   ]
  },
  {
   "cell_type": "code",
   "execution_count": 55,
   "metadata": {},
   "outputs": [],
   "source": [
    "from scipy import stats, integrate\n",
    "import seaborn as sns"
   ]
  },
  {
   "cell_type": "markdown",
   "metadata": {},
   "source": [
    "### Number of instances of each class\n",
    "    \n",
    "#### From left to right:\n",
    "\n",
    "    diaporthe-stem-canker (stem cancer),\n",
    "    charcoal-rot (charcoal rot),\n",
    "    rhizoctonia-root-rot (root rot),\n",
    "    phytophthora-rot (damage by phytophthora),\n",
    "    brown-stem-rot (brown rot on the stem),\n",
    "    powdery-mildew (powdery mildew),\n",
    "    downy-mildew (downy mildew, or downy mildew),\n",
    "    brown-spot (brown spots),\n",
    "    bacterial-blight (bacterial burn),\n",
    "    bacterial-pustule (bacterial pustule),\n",
    "    purple-seed-stain (purple cercospora seed),\n",
    "    anthracnose (anthracnose),\n",
    "    phyllosticta-leaf-spot (phyllosticosis),\n",
    "    alternarialeaf-spot (alternariosis),\n",
    "    frog-eye-leaf-spot (gray round leaf spot, or cercosporosis),\n",
    "    diaporthe-pod-&-stem-blight (bean spot + bacterial blight),\n",
    "    cyst-nematode (nematode cyst),\n",
    "    2-4-d-injury (herbicide damage 2,4-d),\n",
    "    herbicide-injury (herbicide damage)."
   ]
  },
  {
   "cell_type": "code",
   "execution_count": 56,
   "metadata": {},
   "outputs": [
    {
     "name": "stderr",
     "output_type": "stream",
     "text": [
      "C:\\Python39\\lib\\site-packages\\seaborn\\_decorators.py:36: FutureWarning: Pass the following variable as a keyword arg: x. From version 0.12, the only valid positional argument will be `data`, and passing other arguments without an explicit keyword will result in an error or misinterpretation.\n",
      "  warnings.warn(\n"
     ]
    },
    {
     "data": {
      "text/plain": [
       "<AxesSubplot:xlabel='class', ylabel='count'>"
      ]
     },
     "execution_count": 56,
     "metadata": {},
     "output_type": "execute_result"
    },
    {
     "data": {
      "image/png": "[encoded data removed]",
      "text/plain": [
       "<Figure size 432x288 with 1 Axes>"
      ]
     },
     "metadata": {
      "needs_background": "light"
     },
     "output_type": "display_data"
    }
   ],
   "source": [
    "sns.countplot(data['class'])"
   ]
  },
  {
   "cell_type": "markdown",
   "metadata": {},
   "source": [
    "The class 2-4-d-injury is represented by exactly one observation, so it will have to be discarded, \n",
    "since otherwise some methods won't work:"
   ]
  },
  {
   "cell_type": "code",
   "execution_count": 57,
   "metadata": {},
   "outputs": [],
   "source": [
    "data = data[data['class'] != '2-4-d-injury']"
   ]
  },
  {
   "cell_type": "markdown",
   "metadata": {},
   "source": [
    "Let's see if rainfall and temperature affect the development of the disease:\n",
    "\n",
    "The amount of precipitation:\n",
    "\n",
    "0 - below normal,\n",
    "\n",
    "1 - within the normal range,\n",
    "\n",
    "2 - above the norm."
   ]
  },
  {
   "cell_type": "code",
   "execution_count": 58,
   "metadata": {},
   "outputs": [
    {
     "data": {
      "text/plain": [
       "<AxesSubplot:xlabel='precip', ylabel='count'>"
      ]
     },
     "execution_count": 58,
     "metadata": {},
     "output_type": "execute_result"
    },
    {
     "data": {
      "image/png": "[encoded data removed]",
      "text/plain": [
       "<Figure size 432x288 with 1 Axes>"
      ]
     },
     "metadata": {
      "needs_background": "light"
     },
     "output_type": "display_data"
    }
   ],
   "source": [
    "sns.countplot(data = data, hue= 'class', x = 'precip')"
   ]
  },
  {
   "cell_type": "markdown",
   "metadata": {},
   "source": [
    "Temperature:\n",
    "\n",
    "0 - below normal,\n",
    "\n",
    "1 - within the normal range,\n",
    "\n",
    "2 - above the norm."
   ]
  },
  {
   "cell_type": "code",
   "execution_count": 59,
   "metadata": {},
   "outputs": [
    {
     "data": {
      "text/plain": [
       "<AxesSubplot:xlabel='temp', ylabel='count'>"
      ]
     },
     "execution_count": 59,
     "metadata": {},
     "output_type": "execute_result"
    },
    {
     "data": {
      "image/png": "[encoded data removed]",
      "text/plain": [
       "<Figure size 432x288 with 1 Axes>"
      ]
     },
     "metadata": {
      "needs_background": "light"
     },
     "output_type": "display_data"
    }
   ],
   "source": [
    "sns.countplot(data = data, hue= 'class', x = 'temp')"
   ]
  },
  {
   "cell_type": "markdown",
   "metadata": {},
   "source": [
    "We will also consider how lodging of plants affects the development of the disease.\n",
    "\n",
    "Plant lodging:\n",
    "\n",
    "0 - the plant died,\n",
    "\n",
    "1 - the plant did not die."
   ]
  },
  {
   "cell_type": "code",
   "execution_count": 60,
   "metadata": {},
   "outputs": [
    {
     "data": {
      "text/plain": [
       "<AxesSubplot:xlabel='lodging', ylabel='count'>"
      ]
     },
     "execution_count": 60,
     "metadata": {},
     "output_type": "execute_result"
    },
    {
     "data": {
      "image/png": "[encoded data removed]",
      "text/plain": [
       "<Figure size 432x288 with 1 Axes>"
      ]
     },
     "metadata": {
      "needs_background": "light"
     },
     "output_type": "display_data"
    }
   ],
   "source": [
    "sns.countplot(data = data, hue= 'class', x = 'lodging')"
   ]
  },
  {
   "cell_type": "markdown",
   "metadata": {},
   "source": [
    "# Data preparation\n",
    "All variables in the data are categorical, some are nominal and some are ordered.\n",
    "\n",
    "Note that the ordered ones are:\n",
    "\n",
    "precip: lt-norm,norm,gt-norm,?. - atmospheric precipitation (less than norm, norm, more than norm)\n",
    "\n",
    "temp: lt-norm,norm,gt-norm,?. - temperature (less than normal, normal, above normal)\n",
    "\n",
    "severity: minor,pot-severe,severe,?. - severity of damage (minor, possibly serious, serious)\n",
    "\n",
    "germination: 90-100%,80-89%,lt-80%,?. - germination\n",
    "\n",
    "We consider the month both as an ordered and as a nominal sign."
   ]
  },
  {
   "cell_type": "code",
   "execution_count": 61,
   "metadata": {},
   "outputs": [],
   "source": [
    "ordered_columns = ['precip', 'temp', 'severity', 'germination', 'date']"
   ]
  },
  {
   "cell_type": "code",
   "execution_count": 62,
   "metadata": {},
   "outputs": [
    {
     "name": "stdout",
     "output_type": "stream",
     "text": [
      "['class', 'date', 'plant-stand', 'hail', 'crop-hist', 'area-damaged', 'seed-tmt', 'plant-growth', 'leaves', 'leafspots-halo', 'leafspots-marg', 'leafspot-size', 'leaf-shread', 'leaf-malf', 'leaf-mild', 'stem', 'lodging', 'stem-cankers', 'canker-lesion', 'fruiting-bodies', 'external decay', 'mycelium', 'int-discolor', 'sclerotia', 'fruit-pods', 'fruit spots', 'seed', 'mold-growth', 'seed-discolor', 'seed-size', 'shriveling', 'roots']\n"
     ]
    }
   ],
   "source": [
    "categorical_columns = [c for c in data.columns if c == 'date' or c not in ordered_columns]\n",
    "print(categorical_columns)"
   ]
  },
  {
   "cell_type": "code",
   "execution_count": 63,
   "metadata": {},
   "outputs": [
    {
     "name": "stdout",
     "output_type": "stream",
     "text": [
      "Ordered:\n",
      "precip ['2' '0' '1' nan]\n",
      "temp ['1' '2' '0' nan]\n",
      "severity ['1' '2' nan '0']\n",
      "germination ['0' '1' '2' nan]\n",
      "date ['6' '4' '3' '5' '1' '0' '2']\n",
      "\n",
      "Categorical:\n",
      "class ['diaporthe-stem-canker' 'charcoal-rot' 'rhizoctonia-root-rot'\n",
      " 'phytophthora-rot' 'brown-stem-rot' 'powdery-mildew' 'downy-mildew'\n",
      " 'brown-spot' 'bacterial-blight' 'bacterial-pustule' 'purple-seed-stain'\n",
      " 'anthracnose' 'phyllosticta-leaf-spot' 'alternarialeaf-spot'\n",
      " 'frog-eye-leaf-spot' 'diaporthe-pod-&-stem-blight' 'cyst-nematode'\n",
      " 'herbicide-injury']\n",
      "date ['6' '4' '3' '5' '1' '0' '2']\n",
      "plant-stand ['0' '1' nan]\n",
      "hail ['0' '1' nan]\n",
      "crop-hist ['1' '2' '3' '0']\n",
      "area-damaged ['1' '0' '3' '2']\n",
      "seed-tmt ['0' '1' nan '2']\n",
      "plant-growth ['1' '0']\n",
      "leaves [1 0]\n",
      "leafspots-halo ['0' nan '2' '1']\n",
      "leafspots-marg [nan '0' '1']\n",
      "leafspot-size [nan '1' '0']\n",
      "leaf-shread ['0' nan '1']\n",
      "leaf-malf ['0' nan '1']\n",
      "leaf-mild ['0' nan '1' '2']\n",
      "stem ['1' '0']\n",
      "lodging ['1' '0' nan]\n",
      "stem-cankers ['3' '0' '1' '2' nan]\n",
      "canker-lesion ['1' nan '3' '2']\n",
      "fruiting-bodies ['1' '0' nan]\n",
      "external decay ['1' '0' nan]\n",
      "mycelium ['0' '1' nan]\n",
      "int-discolor ['0' '2' '1' nan]\n",
      "sclerotia ['0' '1' nan]\n",
      "fruit-pods ['0' nan '1' '2']\n",
      "fruit spots [nan '0' '1' '2']\n",
      "seed ['0' nan '1']\n",
      "mold-growth ['0' nan '1']\n",
      "seed-discolor ['0' nan '1']\n",
      "seed-size ['0' nan '1']\n",
      "shriveling ['0' nan '1']\n",
      "roots ['0' '1' '2' nan]\n"
     ]
    }
   ],
   "source": [
    "print (\"Ordered:\")\n",
    "for c in ordered_columns:\n",
    "    print (c, data[c].unique())\n",
    "print (\"\\nCategorical:\")\n",
    "for c in categorical_columns:\n",
    "    print (c, data[c].unique())"
   ]
  },
  {
   "cell_type": "code",
   "execution_count": 167,
   "metadata": {},
   "outputs": [
    {
     "ename": "KeyError",
     "evalue": "\"['date', 'plant-stand', 'hail', 'crop-hist', 'area-damaged', 'seed-tmt', 'leafspots-halo', 'leafspots-marg', 'leafspot-size', 'leaf-shread', 'leaf-malf', 'leaf-mild', 'lodging', 'stem-cankers', 'canker-lesion', 'fruiting-bodies', 'external decay', 'mycelium', 'int-discolor', 'sclerotia', 'fruit-pods', 'fruit spots', 'seed', 'mold-growth', 'seed-discolor', 'seed-size', 'shriveling', 'roots'] not in index\"",
     "output_type": "error",
     "traceback": [
      "\u001b[1;31m---------------------------------------------------------------------------\u001b[0m",
      "\u001b[1;31mKeyError\u001b[0m                                  Traceback (most recent call last)",
      "\u001b[1;32m~\\AppData\\Local\\Temp/ipykernel_10104/2366447838.py\u001b[0m in \u001b[0;36m<module>\u001b[1;34m\u001b[0m\n\u001b[1;32m----> 1\u001b[1;33m \u001b[0mdata\u001b[0m \u001b[1;33m=\u001b[0m \u001b[0mpd\u001b[0m\u001b[1;33m.\u001b[0m\u001b[0mconcat\u001b[0m\u001b[1;33m(\u001b[0m\u001b[1;33m(\u001b[0m\u001b[0mdata\u001b[0m\u001b[1;33m[\u001b[0m\u001b[0mcategorical_columns\u001b[0m\u001b[1;33m]\u001b[0m\u001b[1;33m,\u001b[0m \u001b[0mdata\u001b[0m\u001b[1;33m[\u001b[0m\u001b[0mordered_columns\u001b[0m\u001b[1;33m]\u001b[0m\u001b[1;33m.\u001b[0m\u001b[0mapply\u001b[0m\u001b[1;33m(\u001b[0m\u001b[0mpd\u001b[0m\u001b[1;33m.\u001b[0m\u001b[0mto_numeric\u001b[0m\u001b[1;33m,\u001b[0m \u001b[0merrors\u001b[0m\u001b[1;33m=\u001b[0m\u001b[1;34m'ignore'\u001b[0m\u001b[1;33m)\u001b[0m\u001b[1;33m.\u001b[0m\u001b[0mrename\u001b[0m\u001b[1;33m(\u001b[0m\u001b[0mcolumns\u001b[0m\u001b[1;33m=\u001b[0m\u001b[1;33m{\u001b[0m\u001b[1;34m\"date\"\u001b[0m\u001b[1;33m:\u001b[0m \u001b[1;34m\"date_num\"\u001b[0m\u001b[1;33m}\u001b[0m\u001b[1;33m)\u001b[0m\u001b[1;33m)\u001b[0m\u001b[1;33m,\u001b[0m \u001b[0maxis\u001b[0m \u001b[1;33m=\u001b[0m \u001b[1;36m1\u001b[0m\u001b[1;33m)\u001b[0m\u001b[1;33m\u001b[0m\u001b[1;33m\u001b[0m\u001b[0m\n\u001b[0m\u001b[0;32m      2\u001b[0m \u001b[0mordered_columns\u001b[0m\u001b[1;33m.\u001b[0m\u001b[0mremove\u001b[0m\u001b[1;33m(\u001b[0m\u001b[1;34m\"date\"\u001b[0m\u001b[1;33m)\u001b[0m\u001b[1;33m\u001b[0m\u001b[1;33m\u001b[0m\u001b[0m\n\u001b[0;32m      3\u001b[0m \u001b[0mordered_columns\u001b[0m\u001b[1;33m.\u001b[0m\u001b[0mappend\u001b[0m\u001b[1;33m(\u001b[0m\u001b[1;34m\"date_num\"\u001b[0m\u001b[1;33m)\u001b[0m\u001b[1;33m\u001b[0m\u001b[1;33m\u001b[0m\u001b[0m\n\u001b[0;32m      4\u001b[0m \u001b[0mdata\u001b[0m\u001b[1;33m.\u001b[0m\u001b[0mat\u001b[0m\u001b[1;33m[\u001b[0m\u001b[0mdata\u001b[0m\u001b[1;33m[\u001b[0m\u001b[1;34m'leaves'\u001b[0m\u001b[1;33m]\u001b[0m \u001b[1;33m==\u001b[0m \u001b[1;36m1\u001b[0m\u001b[1;33m,\u001b[0m \u001b[1;34m'leaves'\u001b[0m\u001b[1;33m]\u001b[0m \u001b[1;33m=\u001b[0m \u001b[1;34m'1'\u001b[0m\u001b[1;33m\u001b[0m\u001b[1;33m\u001b[0m\u001b[0m\n\u001b[0;32m      5\u001b[0m \u001b[0mdata\u001b[0m\u001b[1;33m.\u001b[0m\u001b[0mat\u001b[0m\u001b[1;33m[\u001b[0m\u001b[0mdata\u001b[0m\u001b[1;33m[\u001b[0m\u001b[1;34m'leaves'\u001b[0m\u001b[1;33m]\u001b[0m \u001b[1;33m==\u001b[0m \u001b[1;36m0\u001b[0m\u001b[1;33m,\u001b[0m \u001b[1;34m'leaves'\u001b[0m\u001b[1;33m]\u001b[0m \u001b[1;33m=\u001b[0m \u001b[1;34m'0'\u001b[0m\u001b[1;33m\u001b[0m\u001b[1;33m\u001b[0m\u001b[0m\n",
      "\u001b[1;32mC:\\Python39\\lib\\site-packages\\pandas\\core\\frame.py\u001b[0m in \u001b[0;36m__getitem__\u001b[1;34m(self, key)\u001b[0m\n\u001b[0;32m   3462\u001b[0m             \u001b[1;32mif\u001b[0m \u001b[0mis_iterator\u001b[0m\u001b[1;33m(\u001b[0m\u001b[0mkey\u001b[0m\u001b[1;33m)\u001b[0m\u001b[1;33m:\u001b[0m\u001b[1;33m\u001b[0m\u001b[1;33m\u001b[0m\u001b[0m\n\u001b[0;32m   3463\u001b[0m                 \u001b[0mkey\u001b[0m \u001b[1;33m=\u001b[0m \u001b[0mlist\u001b[0m\u001b[1;33m(\u001b[0m\u001b[0mkey\u001b[0m\u001b[1;33m)\u001b[0m\u001b[1;33m\u001b[0m\u001b[1;33m\u001b[0m\u001b[0m\n\u001b[1;32m-> 3464\u001b[1;33m             \u001b[0mindexer\u001b[0m \u001b[1;33m=\u001b[0m \u001b[0mself\u001b[0m\u001b[1;33m.\u001b[0m\u001b[0mloc\u001b[0m\u001b[1;33m.\u001b[0m\u001b[0m_get_listlike_indexer\u001b[0m\u001b[1;33m(\u001b[0m\u001b[0mkey\u001b[0m\u001b[1;33m,\u001b[0m \u001b[0maxis\u001b[0m\u001b[1;33m=\u001b[0m\u001b[1;36m1\u001b[0m\u001b[1;33m)\u001b[0m\u001b[1;33m[\u001b[0m\u001b[1;36m1\u001b[0m\u001b[1;33m]\u001b[0m\u001b[1;33m\u001b[0m\u001b[1;33m\u001b[0m\u001b[0m\n\u001b[0m\u001b[0;32m   3465\u001b[0m \u001b[1;33m\u001b[0m\u001b[0m\n\u001b[0;32m   3466\u001b[0m         \u001b[1;31m# take() does not accept boolean indexers\u001b[0m\u001b[1;33m\u001b[0m\u001b[1;33m\u001b[0m\u001b[0m\n",
      "\u001b[1;32mC:\\Python39\\lib\\site-packages\\pandas\\core\\indexing.py\u001b[0m in \u001b[0;36m_get_listlike_indexer\u001b[1;34m(self, key, axis)\u001b[0m\n\u001b[0;32m   1312\u001b[0m             \u001b[0mkeyarr\u001b[0m\u001b[1;33m,\u001b[0m \u001b[0mindexer\u001b[0m\u001b[1;33m,\u001b[0m \u001b[0mnew_indexer\u001b[0m \u001b[1;33m=\u001b[0m \u001b[0max\u001b[0m\u001b[1;33m.\u001b[0m\u001b[0m_reindex_non_unique\u001b[0m\u001b[1;33m(\u001b[0m\u001b[0mkeyarr\u001b[0m\u001b[1;33m)\u001b[0m\u001b[1;33m\u001b[0m\u001b[1;33m\u001b[0m\u001b[0m\n\u001b[0;32m   1313\u001b[0m \u001b[1;33m\u001b[0m\u001b[0m\n\u001b[1;32m-> 1314\u001b[1;33m         \u001b[0mself\u001b[0m\u001b[1;33m.\u001b[0m\u001b[0m_validate_read_indexer\u001b[0m\u001b[1;33m(\u001b[0m\u001b[0mkeyarr\u001b[0m\u001b[1;33m,\u001b[0m \u001b[0mindexer\u001b[0m\u001b[1;33m,\u001b[0m \u001b[0maxis\u001b[0m\u001b[1;33m)\u001b[0m\u001b[1;33m\u001b[0m\u001b[1;33m\u001b[0m\u001b[0m\n\u001b[0m\u001b[0;32m   1315\u001b[0m \u001b[1;33m\u001b[0m\u001b[0m\n\u001b[0;32m   1316\u001b[0m         if needs_i8_conversion(ax.dtype) or isinstance(\n",
      "\u001b[1;32mC:\\Python39\\lib\\site-packages\\pandas\\core\\indexing.py\u001b[0m in \u001b[0;36m_validate_read_indexer\u001b[1;34m(self, key, indexer, axis)\u001b[0m\n\u001b[0;32m   1375\u001b[0m \u001b[1;33m\u001b[0m\u001b[0m\n\u001b[0;32m   1376\u001b[0m             \u001b[0mnot_found\u001b[0m \u001b[1;33m=\u001b[0m \u001b[0mlist\u001b[0m\u001b[1;33m(\u001b[0m\u001b[0mensure_index\u001b[0m\u001b[1;33m(\u001b[0m\u001b[0mkey\u001b[0m\u001b[1;33m)\u001b[0m\u001b[1;33m[\u001b[0m\u001b[0mmissing_mask\u001b[0m\u001b[1;33m.\u001b[0m\u001b[0mnonzero\u001b[0m\u001b[1;33m(\u001b[0m\u001b[1;33m)\u001b[0m\u001b[1;33m[\u001b[0m\u001b[1;36m0\u001b[0m\u001b[1;33m]\u001b[0m\u001b[1;33m]\u001b[0m\u001b[1;33m.\u001b[0m\u001b[0munique\u001b[0m\u001b[1;33m(\u001b[0m\u001b[1;33m)\u001b[0m\u001b[1;33m)\u001b[0m\u001b[1;33m\u001b[0m\u001b[1;33m\u001b[0m\u001b[0m\n\u001b[1;32m-> 1377\u001b[1;33m             \u001b[1;32mraise\u001b[0m \u001b[0mKeyError\u001b[0m\u001b[1;33m(\u001b[0m\u001b[1;34mf\"{not_found} not in index\"\u001b[0m\u001b[1;33m)\u001b[0m\u001b[1;33m\u001b[0m\u001b[1;33m\u001b[0m\u001b[0m\n\u001b[0m\u001b[0;32m   1378\u001b[0m \u001b[1;33m\u001b[0m\u001b[0m\n\u001b[0;32m   1379\u001b[0m \u001b[1;33m\u001b[0m\u001b[0m\n",
      "\u001b[1;31mKeyError\u001b[0m: \"['date', 'plant-stand', 'hail', 'crop-hist', 'area-damaged', 'seed-tmt', 'leafspots-halo', 'leafspots-marg', 'leafspot-size', 'leaf-shread', 'leaf-malf', 'leaf-mild', 'lodging', 'stem-cankers', 'canker-lesion', 'fruiting-bodies', 'external decay', 'mycelium', 'int-discolor', 'sclerotia', 'fruit-pods', 'fruit spots', 'seed', 'mold-growth', 'seed-discolor', 'seed-size', 'shriveling', 'roots'] not in index\""
     ]
    }
   ],
   "source": [
    "data = pd.concat((data[categorical_columns], data[ordered_columns].apply(pd.to_numeric, errors='ignore').rename(columns={\"date\": \"date_num\"})), axis = 1)\n",
    "ordered_columns.remove(\"date\")\n",
    "ordered_columns.append(\"date_num\")\n",
    "data.at[data['leaves'] == 1, 'leaves'] = '1'\n",
    "data.at[data['leaves'] == 0, 'leaves'] = '0'\n",
    "data"
   ]
  },
  {
   "cell_type": "code",
   "execution_count": 65,
   "metadata": {},
   "outputs": [
    {
     "data": {
      "text/html": [
       "<div>\n",
       "<style scoped>\n",
       "    .dataframe tbody tr th:only-of-type {\n",
       "        vertical-align: middle;\n",
       "    }\n",
       "\n",
       "    .dataframe tbody tr th {\n",
       "        vertical-align: top;\n",
       "    }\n",
       "\n",
       "    .dataframe thead th {\n",
       "        text-align: right;\n",
       "    }\n",
       "</style>\n",
       "<table border=\"1\" class=\"dataframe\">\n",
       "  <thead>\n",
       "    <tr style=\"text-align: right;\">\n",
       "      <th></th>\n",
       "      <th>class</th>\n",
       "      <th>date</th>\n",
       "      <th>plant-stand</th>\n",
       "      <th>hail</th>\n",
       "      <th>crop-hist</th>\n",
       "      <th>area-damaged</th>\n",
       "      <th>seed-tmt</th>\n",
       "      <th>plant-growth</th>\n",
       "      <th>leaves</th>\n",
       "      <th>leafspots-halo</th>\n",
       "      <th>...</th>\n",
       "      <th>int-discolor</th>\n",
       "      <th>sclerotia</th>\n",
       "      <th>fruit-pods</th>\n",
       "      <th>fruit spots</th>\n",
       "      <th>seed</th>\n",
       "      <th>mold-growth</th>\n",
       "      <th>seed-discolor</th>\n",
       "      <th>seed-size</th>\n",
       "      <th>shriveling</th>\n",
       "      <th>roots</th>\n",
       "    </tr>\n",
       "  </thead>\n",
       "  <tbody>\n",
       "    <tr>\n",
       "      <th>count</th>\n",
       "      <td>306</td>\n",
       "      <td>306</td>\n",
       "      <td>299</td>\n",
       "      <td>266</td>\n",
       "      <td>306</td>\n",
       "      <td>306</td>\n",
       "      <td>266</td>\n",
       "      <td>306</td>\n",
       "      <td>306</td>\n",
       "      <td>281</td>\n",
       "      <td>...</td>\n",
       "      <td>296</td>\n",
       "      <td>296</td>\n",
       "      <td>252</td>\n",
       "      <td>218</td>\n",
       "      <td>278</td>\n",
       "      <td>278</td>\n",
       "      <td>272</td>\n",
       "      <td>278</td>\n",
       "      <td>272</td>\n",
       "      <td>300</td>\n",
       "    </tr>\n",
       "    <tr>\n",
       "      <th>unique</th>\n",
       "      <td>18</td>\n",
       "      <td>7</td>\n",
       "      <td>2</td>\n",
       "      <td>2</td>\n",
       "      <td>4</td>\n",
       "      <td>4</td>\n",
       "      <td>3</td>\n",
       "      <td>2</td>\n",
       "      <td>2</td>\n",
       "      <td>3</td>\n",
       "      <td>...</td>\n",
       "      <td>3</td>\n",
       "      <td>2</td>\n",
       "      <td>3</td>\n",
       "      <td>3</td>\n",
       "      <td>2</td>\n",
       "      <td>2</td>\n",
       "      <td>2</td>\n",
       "      <td>2</td>\n",
       "      <td>2</td>\n",
       "      <td>3</td>\n",
       "    </tr>\n",
       "    <tr>\n",
       "      <th>top</th>\n",
       "      <td>frog-eye-leaf-spot</td>\n",
       "      <td>5</td>\n",
       "      <td>0</td>\n",
       "      <td>0</td>\n",
       "      <td>2</td>\n",
       "      <td>1</td>\n",
       "      <td>0</td>\n",
       "      <td>0</td>\n",
       "      <td>1</td>\n",
       "      <td>2</td>\n",
       "      <td>...</td>\n",
       "      <td>0</td>\n",
       "      <td>0</td>\n",
       "      <td>0</td>\n",
       "      <td>0</td>\n",
       "      <td>0</td>\n",
       "      <td>0</td>\n",
       "      <td>0</td>\n",
       "      <td>0</td>\n",
       "      <td>0</td>\n",
       "      <td>0</td>\n",
       "    </tr>\n",
       "    <tr>\n",
       "      <th>freq</th>\n",
       "      <td>40</td>\n",
       "      <td>65</td>\n",
       "      <td>160</td>\n",
       "      <td>211</td>\n",
       "      <td>99</td>\n",
       "      <td>101</td>\n",
       "      <td>140</td>\n",
       "      <td>202</td>\n",
       "      <td>273</td>\n",
       "      <td>152</td>\n",
       "      <td>...</td>\n",
       "      <td>266</td>\n",
       "      <td>286</td>\n",
       "      <td>193</td>\n",
       "      <td>164</td>\n",
       "      <td>227</td>\n",
       "      <td>247</td>\n",
       "      <td>244</td>\n",
       "      <td>251</td>\n",
       "      <td>256</td>\n",
       "      <td>260</td>\n",
       "    </tr>\n",
       "  </tbody>\n",
       "</table>\n",
       "<p>4 rows × 32 columns</p>\n",
       "</div>"
      ],
      "text/plain": [
       "                     class date plant-stand hail crop-hist area-damaged  \\\n",
       "count                  306  306         299  266       306          306   \n",
       "unique                  18    7           2    2         4            4   \n",
       "top     frog-eye-leaf-spot    5           0    0         2            1   \n",
       "freq                    40   65         160  211        99          101   \n",
       "\n",
       "       seed-tmt plant-growth leaves leafspots-halo  ... int-discolor  \\\n",
       "count       266          306    306            281  ...          296   \n",
       "unique        3            2      2              3  ...            3   \n",
       "top           0            0      1              2  ...            0   \n",
       "freq        140          202    273            152  ...          266   \n",
       "\n",
       "       sclerotia fruit-pods fruit spots seed mold-growth seed-discolor  \\\n",
       "count        296        252         218  278         278           272   \n",
       "unique         2          3           3    2           2             2   \n",
       "top            0          0           0    0           0             0   \n",
       "freq         286        193         164  227         247           244   \n",
       "\n",
       "       seed-size shriveling roots  \n",
       "count        278        272   300  \n",
       "unique         2          2     3  \n",
       "top            0          0     0  \n",
       "freq         251        256   260  \n",
       "\n",
       "[4 rows x 32 columns]"
      ]
     },
     "execution_count": 65,
     "metadata": {},
     "output_type": "execute_result"
    }
   ],
   "source": [
    "data.describe(include = [object])"
   ]
  },
  {
   "cell_type": "code",
   "execution_count": 66,
   "metadata": {},
   "outputs": [
    {
     "data": {
      "text/html": [
       "<div>\n",
       "<style scoped>\n",
       "    .dataframe tbody tr th:only-of-type {\n",
       "        vertical-align: middle;\n",
       "    }\n",
       "\n",
       "    .dataframe tbody tr th {\n",
       "        vertical-align: top;\n",
       "    }\n",
       "\n",
       "    .dataframe thead th {\n",
       "        text-align: right;\n",
       "    }\n",
       "</style>\n",
       "<table border=\"1\" class=\"dataframe\">\n",
       "  <thead>\n",
       "    <tr style=\"text-align: right;\">\n",
       "      <th></th>\n",
       "      <th>precip</th>\n",
       "      <th>temp</th>\n",
       "      <th>severity</th>\n",
       "      <th>germination</th>\n",
       "      <th>date_num</th>\n",
       "    </tr>\n",
       "  </thead>\n",
       "  <tbody>\n",
       "    <tr>\n",
       "      <th>count</th>\n",
       "      <td>296.000000</td>\n",
       "      <td>300.000000</td>\n",
       "      <td>266.000000</td>\n",
       "      <td>271.000000</td>\n",
       "      <td>306.000000</td>\n",
       "    </tr>\n",
       "    <tr>\n",
       "      <th>mean</th>\n",
       "      <td>1.577703</td>\n",
       "      <td>1.130000</td>\n",
       "      <td>0.778195</td>\n",
       "      <td>1.014760</td>\n",
       "      <td>3.529412</td>\n",
       "    </tr>\n",
       "    <tr>\n",
       "      <th>std</th>\n",
       "      <td>0.713580</td>\n",
       "      <td>0.622676</td>\n",
       "      <td>0.620145</td>\n",
       "      <td>0.798009</td>\n",
       "      <td>1.712285</td>\n",
       "    </tr>\n",
       "    <tr>\n",
       "      <th>min</th>\n",
       "      <td>0.000000</td>\n",
       "      <td>0.000000</td>\n",
       "      <td>0.000000</td>\n",
       "      <td>0.000000</td>\n",
       "      <td>0.000000</td>\n",
       "    </tr>\n",
       "    <tr>\n",
       "      <th>25%</th>\n",
       "      <td>1.000000</td>\n",
       "      <td>1.000000</td>\n",
       "      <td>0.000000</td>\n",
       "      <td>0.000000</td>\n",
       "      <td>2.000000</td>\n",
       "    </tr>\n",
       "    <tr>\n",
       "      <th>50%</th>\n",
       "      <td>2.000000</td>\n",
       "      <td>1.000000</td>\n",
       "      <td>1.000000</td>\n",
       "      <td>1.000000</td>\n",
       "      <td>4.000000</td>\n",
       "    </tr>\n",
       "    <tr>\n",
       "      <th>75%</th>\n",
       "      <td>2.000000</td>\n",
       "      <td>2.000000</td>\n",
       "      <td>1.000000</td>\n",
       "      <td>2.000000</td>\n",
       "      <td>5.000000</td>\n",
       "    </tr>\n",
       "    <tr>\n",
       "      <th>max</th>\n",
       "      <td>2.000000</td>\n",
       "      <td>2.000000</td>\n",
       "      <td>2.000000</td>\n",
       "      <td>2.000000</td>\n",
       "      <td>6.000000</td>\n",
       "    </tr>\n",
       "  </tbody>\n",
       "</table>\n",
       "</div>"
      ],
      "text/plain": [
       "           precip        temp    severity  germination    date_num\n",
       "count  296.000000  300.000000  266.000000   271.000000  306.000000\n",
       "mean     1.577703    1.130000    0.778195     1.014760    3.529412\n",
       "std      0.713580    0.622676    0.620145     0.798009    1.712285\n",
       "min      0.000000    0.000000    0.000000     0.000000    0.000000\n",
       "25%      1.000000    1.000000    0.000000     0.000000    2.000000\n",
       "50%      2.000000    1.000000    1.000000     1.000000    4.000000\n",
       "75%      2.000000    2.000000    1.000000     2.000000    5.000000\n",
       "max      2.000000    2.000000    2.000000     2.000000    6.000000"
      ]
     },
     "execution_count": 66,
     "metadata": {},
     "output_type": "execute_result"
    }
   ],
   "source": [
    "data.describe()"
   ]
  },
  {
   "cell_type": "code",
   "execution_count": 67,
   "metadata": {},
   "outputs": [
    {
     "data": {
      "text/html": [
       "<div>\n",
       "<style scoped>\n",
       "    .dataframe tbody tr th:only-of-type {\n",
       "        vertical-align: middle;\n",
       "    }\n",
       "\n",
       "    .dataframe tbody tr th {\n",
       "        vertical-align: top;\n",
       "    }\n",
       "\n",
       "    .dataframe thead th {\n",
       "        text-align: right;\n",
       "    }\n",
       "</style>\n",
       "<table border=\"1\" class=\"dataframe\">\n",
       "  <thead>\n",
       "    <tr style=\"text-align: right;\">\n",
       "      <th></th>\n",
       "      <th>precip</th>\n",
       "      <th>temp</th>\n",
       "      <th>severity</th>\n",
       "      <th>germination</th>\n",
       "      <th>date_num</th>\n",
       "    </tr>\n",
       "  </thead>\n",
       "  <tbody>\n",
       "    <tr>\n",
       "      <th>precip</th>\n",
       "      <td>1.000000</td>\n",
       "      <td>0.024490</td>\n",
       "      <td>0.048159</td>\n",
       "      <td>0.042828</td>\n",
       "      <td>-0.070206</td>\n",
       "    </tr>\n",
       "    <tr>\n",
       "      <th>temp</th>\n",
       "      <td>0.024490</td>\n",
       "      <td>1.000000</td>\n",
       "      <td>-0.283291</td>\n",
       "      <td>-0.033750</td>\n",
       "      <td>0.280312</td>\n",
       "    </tr>\n",
       "    <tr>\n",
       "      <th>severity</th>\n",
       "      <td>0.048159</td>\n",
       "      <td>-0.283291</td>\n",
       "      <td>1.000000</td>\n",
       "      <td>-0.005116</td>\n",
       "      <td>-0.391065</td>\n",
       "    </tr>\n",
       "    <tr>\n",
       "      <th>germination</th>\n",
       "      <td>0.042828</td>\n",
       "      <td>-0.033750</td>\n",
       "      <td>-0.005116</td>\n",
       "      <td>1.000000</td>\n",
       "      <td>-0.018206</td>\n",
       "    </tr>\n",
       "    <tr>\n",
       "      <th>date_num</th>\n",
       "      <td>-0.070206</td>\n",
       "      <td>0.280312</td>\n",
       "      <td>-0.391065</td>\n",
       "      <td>-0.018206</td>\n",
       "      <td>1.000000</td>\n",
       "    </tr>\n",
       "  </tbody>\n",
       "</table>\n",
       "</div>"
      ],
      "text/plain": [
       "               precip      temp  severity  germination  date_num\n",
       "precip       1.000000  0.024490  0.048159     0.042828 -0.070206\n",
       "temp         0.024490  1.000000 -0.283291    -0.033750  0.280312\n",
       "severity     0.048159 -0.283291  1.000000    -0.005116 -0.391065\n",
       "germination  0.042828 -0.033750 -0.005116     1.000000 -0.018206\n",
       "date_num    -0.070206  0.280312 -0.391065    -0.018206  1.000000"
      ]
     },
     "execution_count": 67,
     "metadata": {},
     "output_type": "execute_result"
    }
   ],
   "source": [
    "data.corr()"
   ]
  },
  {
   "cell_type": "markdown",
   "metadata": {},
   "source": [
    "# Handling missing values\n",
    "If the data contains missing values, then there are two simple alternatives:\n",
    "\n",
    "    drop columns with such values ​​(data = data.dropna(axis = 1)),\n",
    "\n",
    "    delete rows with such values ​​(data = data.dropna(axis = 0)).\n",
    "\n",
    "After that, the data may become very small.\n",
    "\n",
    "A much more efficient (and still simple) method is usually to fill in the missing values ​​for each scale variable with their mean or median. For categorical features, missing values ​​can be filled in with the most popular value in the column."
   ]
  },
  {
   "cell_type": "code",
   "execution_count": 68,
   "metadata": {},
   "outputs": [
    {
     "data": {
      "text/html": [
       "<div>\n",
       "<style scoped>\n",
       "    .dataframe tbody tr th:only-of-type {\n",
       "        vertical-align: middle;\n",
       "    }\n",
       "\n",
       "    .dataframe tbody tr th {\n",
       "        vertical-align: top;\n",
       "    }\n",
       "\n",
       "    .dataframe thead th {\n",
       "        text-align: right;\n",
       "    }\n",
       "</style>\n",
       "<table border=\"1\" class=\"dataframe\">\n",
       "  <thead>\n",
       "    <tr style=\"text-align: right;\">\n",
       "      <th></th>\n",
       "      <th>class</th>\n",
       "      <th>date</th>\n",
       "      <th>plant-stand</th>\n",
       "      <th>hail</th>\n",
       "      <th>crop-hist</th>\n",
       "      <th>area-damaged</th>\n",
       "      <th>seed-tmt</th>\n",
       "      <th>plant-growth</th>\n",
       "      <th>leaves</th>\n",
       "      <th>leafspots-halo</th>\n",
       "      <th>...</th>\n",
       "      <th>int-discolor</th>\n",
       "      <th>sclerotia</th>\n",
       "      <th>fruit-pods</th>\n",
       "      <th>fruit spots</th>\n",
       "      <th>seed</th>\n",
       "      <th>mold-growth</th>\n",
       "      <th>seed-discolor</th>\n",
       "      <th>seed-size</th>\n",
       "      <th>shriveling</th>\n",
       "      <th>roots</th>\n",
       "    </tr>\n",
       "  </thead>\n",
       "  <tbody>\n",
       "    <tr>\n",
       "      <th>count</th>\n",
       "      <td>306</td>\n",
       "      <td>306</td>\n",
       "      <td>299</td>\n",
       "      <td>266</td>\n",
       "      <td>306</td>\n",
       "      <td>306</td>\n",
       "      <td>266</td>\n",
       "      <td>306</td>\n",
       "      <td>306</td>\n",
       "      <td>281</td>\n",
       "      <td>...</td>\n",
       "      <td>296</td>\n",
       "      <td>296</td>\n",
       "      <td>252</td>\n",
       "      <td>218</td>\n",
       "      <td>278</td>\n",
       "      <td>278</td>\n",
       "      <td>272</td>\n",
       "      <td>278</td>\n",
       "      <td>272</td>\n",
       "      <td>300</td>\n",
       "    </tr>\n",
       "    <tr>\n",
       "      <th>unique</th>\n",
       "      <td>18</td>\n",
       "      <td>7</td>\n",
       "      <td>2</td>\n",
       "      <td>2</td>\n",
       "      <td>4</td>\n",
       "      <td>4</td>\n",
       "      <td>3</td>\n",
       "      <td>2</td>\n",
       "      <td>2</td>\n",
       "      <td>3</td>\n",
       "      <td>...</td>\n",
       "      <td>3</td>\n",
       "      <td>2</td>\n",
       "      <td>3</td>\n",
       "      <td>3</td>\n",
       "      <td>2</td>\n",
       "      <td>2</td>\n",
       "      <td>2</td>\n",
       "      <td>2</td>\n",
       "      <td>2</td>\n",
       "      <td>3</td>\n",
       "    </tr>\n",
       "    <tr>\n",
       "      <th>top</th>\n",
       "      <td>frog-eye-leaf-spot</td>\n",
       "      <td>5</td>\n",
       "      <td>0</td>\n",
       "      <td>0</td>\n",
       "      <td>2</td>\n",
       "      <td>1</td>\n",
       "      <td>0</td>\n",
       "      <td>0</td>\n",
       "      <td>1</td>\n",
       "      <td>2</td>\n",
       "      <td>...</td>\n",
       "      <td>0</td>\n",
       "      <td>0</td>\n",
       "      <td>0</td>\n",
       "      <td>0</td>\n",
       "      <td>0</td>\n",
       "      <td>0</td>\n",
       "      <td>0</td>\n",
       "      <td>0</td>\n",
       "      <td>0</td>\n",
       "      <td>0</td>\n",
       "    </tr>\n",
       "    <tr>\n",
       "      <th>freq</th>\n",
       "      <td>40</td>\n",
       "      <td>65</td>\n",
       "      <td>160</td>\n",
       "      <td>211</td>\n",
       "      <td>99</td>\n",
       "      <td>101</td>\n",
       "      <td>140</td>\n",
       "      <td>202</td>\n",
       "      <td>273</td>\n",
       "      <td>152</td>\n",
       "      <td>...</td>\n",
       "      <td>266</td>\n",
       "      <td>286</td>\n",
       "      <td>193</td>\n",
       "      <td>164</td>\n",
       "      <td>227</td>\n",
       "      <td>247</td>\n",
       "      <td>244</td>\n",
       "      <td>251</td>\n",
       "      <td>256</td>\n",
       "      <td>260</td>\n",
       "    </tr>\n",
       "  </tbody>\n",
       "</table>\n",
       "<p>4 rows × 32 columns</p>\n",
       "</div>"
      ],
      "text/plain": [
       "                     class date plant-stand hail crop-hist area-damaged  \\\n",
       "count                  306  306         299  266       306          306   \n",
       "unique                  18    7           2    2         4            4   \n",
       "top     frog-eye-leaf-spot    5           0    0         2            1   \n",
       "freq                    40   65         160  211        99          101   \n",
       "\n",
       "       seed-tmt plant-growth leaves leafspots-halo  ... int-discolor  \\\n",
       "count       266          306    306            281  ...          296   \n",
       "unique        3            2      2              3  ...            3   \n",
       "top           0            0      1              2  ...            0   \n",
       "freq        140          202    273            152  ...          266   \n",
       "\n",
       "       sclerotia fruit-pods fruit spots seed mold-growth seed-discolor  \\\n",
       "count        296        252         218  278         278           272   \n",
       "unique         2          3           3    2           2             2   \n",
       "top            0          0           0    0           0             0   \n",
       "freq         286        193         164  227         247           244   \n",
       "\n",
       "       seed-size shriveling roots  \n",
       "count        278        272   300  \n",
       "unique         2          2     3  \n",
       "top            0          0     0  \n",
       "freq         251        256   260  \n",
       "\n",
       "[4 rows x 32 columns]"
      ]
     },
     "execution_count": 68,
     "metadata": {},
     "output_type": "execute_result"
    }
   ],
   "source": [
    "data_describe = data.describe(include = [object])\n",
    "data_describe"
   ]
  },
  {
   "cell_type": "code",
   "execution_count": 69,
   "metadata": {},
   "outputs": [
    {
     "name": "stderr",
     "output_type": "stream",
     "text": [
      "C:\\Users\\mokse\\AppData\\Local\\Temp/ipykernel_10104/413672352.py:1: FutureWarning: Dropping of nuisance columns in DataFrame reductions (with 'numeric_only=None') is deprecated; in a future version this will raise TypeError.  Select only valid columns before calling the reduction.\n",
      "  data.median(axis = 0)\n"
     ]
    },
    {
     "data": {
      "text/plain": [
       "date               4.0\n",
       "plant-stand        0.0\n",
       "hail               0.0\n",
       "crop-hist          2.0\n",
       "area-damaged       2.0\n",
       "seed-tmt           0.0\n",
       "plant-growth       0.0\n",
       "leaves             1.0\n",
       "leafspots-halo     2.0\n",
       "leafspots-marg     0.0\n",
       "leafspot-size      1.0\n",
       "leaf-shread        0.0\n",
       "leaf-malf          0.0\n",
       "leaf-mild          0.0\n",
       "stem               1.0\n",
       "lodging            0.0\n",
       "stem-cankers       0.0\n",
       "canker-lesion      2.0\n",
       "fruiting-bodies    0.0\n",
       "external decay     0.0\n",
       "mycelium           0.0\n",
       "int-discolor       0.0\n",
       "sclerotia          0.0\n",
       "fruit-pods         0.0\n",
       "fruit spots        0.0\n",
       "seed               0.0\n",
       "mold-growth        0.0\n",
       "seed-discolor      0.0\n",
       "seed-size          0.0\n",
       "shriveling         0.0\n",
       "roots              0.0\n",
       "precip             2.0\n",
       "temp               1.0\n",
       "severity           1.0\n",
       "germination        1.0\n",
       "date_num           4.0\n",
       "dtype: float64"
      ]
     },
     "execution_count": 69,
     "metadata": {},
     "output_type": "execute_result"
    }
   ],
   "source": [
    "data.median(axis = 0)"
   ]
  },
  {
   "cell_type": "code",
   "execution_count": 70,
   "metadata": {},
   "outputs": [
    {
     "name": "stderr",
     "output_type": "stream",
     "text": [
      "C:\\Users\\mokse\\AppData\\Local\\Temp/ipykernel_10104/2282753498.py:1: FutureWarning: Dropping of nuisance columns in DataFrame reductions (with 'numeric_only=None') is deprecated; in a future version this will raise TypeError.  Select only valid columns before calling the reduction.\n",
      "  data = data.fillna(data.median(axis = 0), axis = 0)\n"
     ]
    }
   ],
   "source": [
    "data = data.fillna(data.median(axis = 0), axis = 0)"
   ]
  },
  {
   "cell_type": "code",
   "execution_count": 71,
   "metadata": {},
   "outputs": [
    {
     "data": {
      "text/plain": [
       "32"
      ]
     },
     "execution_count": 71,
     "metadata": {},
     "output_type": "execute_result"
    }
   ],
   "source": [
    "len(categorical_columns)"
   ]
  },
  {
   "cell_type": "code",
   "execution_count": 72,
   "metadata": {},
   "outputs": [],
   "source": [
    "data_describe = data.describe(include = [object])\n",
    "for c in categorical_columns:\n",
    "    data[c] = data[c].fillna(data_describe[c]['top'])"
   ]
  },
  {
   "cell_type": "code",
   "execution_count": 73,
   "metadata": {},
   "outputs": [
    {
     "data": {
      "text/html": [
       "<div>\n",
       "<style scoped>\n",
       "    .dataframe tbody tr th:only-of-type {\n",
       "        vertical-align: middle;\n",
       "    }\n",
       "\n",
       "    .dataframe tbody tr th {\n",
       "        vertical-align: top;\n",
       "    }\n",
       "\n",
       "    .dataframe thead th {\n",
       "        text-align: right;\n",
       "    }\n",
       "</style>\n",
       "<table border=\"1\" class=\"dataframe\">\n",
       "  <thead>\n",
       "    <tr style=\"text-align: right;\">\n",
       "      <th></th>\n",
       "      <th>class</th>\n",
       "      <th>date</th>\n",
       "      <th>plant-stand</th>\n",
       "      <th>hail</th>\n",
       "      <th>crop-hist</th>\n",
       "      <th>area-damaged</th>\n",
       "      <th>seed-tmt</th>\n",
       "      <th>plant-growth</th>\n",
       "      <th>leaves</th>\n",
       "      <th>leafspots-halo</th>\n",
       "      <th>...</th>\n",
       "      <th>seed</th>\n",
       "      <th>mold-growth</th>\n",
       "      <th>seed-discolor</th>\n",
       "      <th>seed-size</th>\n",
       "      <th>shriveling</th>\n",
       "      <th>roots</th>\n",
       "      <th>precip</th>\n",
       "      <th>temp</th>\n",
       "      <th>severity</th>\n",
       "      <th>germination</th>\n",
       "    </tr>\n",
       "  </thead>\n",
       "  <tbody>\n",
       "    <tr>\n",
       "      <th>count</th>\n",
       "      <td>306</td>\n",
       "      <td>306</td>\n",
       "      <td>306</td>\n",
       "      <td>306</td>\n",
       "      <td>306</td>\n",
       "      <td>306</td>\n",
       "      <td>306</td>\n",
       "      <td>306</td>\n",
       "      <td>306</td>\n",
       "      <td>306</td>\n",
       "      <td>...</td>\n",
       "      <td>306</td>\n",
       "      <td>306</td>\n",
       "      <td>306</td>\n",
       "      <td>306</td>\n",
       "      <td>306</td>\n",
       "      <td>306</td>\n",
       "      <td>306.000000</td>\n",
       "      <td>306.000000</td>\n",
       "      <td>306.000000</td>\n",
       "      <td>306.000000</td>\n",
       "    </tr>\n",
       "    <tr>\n",
       "      <th>unique</th>\n",
       "      <td>18</td>\n",
       "      <td>7</td>\n",
       "      <td>3</td>\n",
       "      <td>3</td>\n",
       "      <td>4</td>\n",
       "      <td>4</td>\n",
       "      <td>4</td>\n",
       "      <td>2</td>\n",
       "      <td>2</td>\n",
       "      <td>4</td>\n",
       "      <td>...</td>\n",
       "      <td>3</td>\n",
       "      <td>3</td>\n",
       "      <td>3</td>\n",
       "      <td>3</td>\n",
       "      <td>3</td>\n",
       "      <td>4</td>\n",
       "      <td>NaN</td>\n",
       "      <td>NaN</td>\n",
       "      <td>NaN</td>\n",
       "      <td>NaN</td>\n",
       "    </tr>\n",
       "    <tr>\n",
       "      <th>top</th>\n",
       "      <td>frog-eye-leaf-spot</td>\n",
       "      <td>5</td>\n",
       "      <td>0</td>\n",
       "      <td>0</td>\n",
       "      <td>2</td>\n",
       "      <td>1</td>\n",
       "      <td>0</td>\n",
       "      <td>0</td>\n",
       "      <td>1</td>\n",
       "      <td>2</td>\n",
       "      <td>...</td>\n",
       "      <td>0</td>\n",
       "      <td>0</td>\n",
       "      <td>0</td>\n",
       "      <td>0</td>\n",
       "      <td>0</td>\n",
       "      <td>0</td>\n",
       "      <td>NaN</td>\n",
       "      <td>NaN</td>\n",
       "      <td>NaN</td>\n",
       "      <td>NaN</td>\n",
       "    </tr>\n",
       "    <tr>\n",
       "      <th>freq</th>\n",
       "      <td>40</td>\n",
       "      <td>65</td>\n",
       "      <td>160</td>\n",
       "      <td>211</td>\n",
       "      <td>99</td>\n",
       "      <td>101</td>\n",
       "      <td>140</td>\n",
       "      <td>202</td>\n",
       "      <td>273</td>\n",
       "      <td>152</td>\n",
       "      <td>...</td>\n",
       "      <td>227</td>\n",
       "      <td>247</td>\n",
       "      <td>244</td>\n",
       "      <td>251</td>\n",
       "      <td>256</td>\n",
       "      <td>260</td>\n",
       "      <td>NaN</td>\n",
       "      <td>NaN</td>\n",
       "      <td>NaN</td>\n",
       "      <td>NaN</td>\n",
       "    </tr>\n",
       "    <tr>\n",
       "      <th>mean</th>\n",
       "      <td>NaN</td>\n",
       "      <td>NaN</td>\n",
       "      <td>NaN</td>\n",
       "      <td>NaN</td>\n",
       "      <td>NaN</td>\n",
       "      <td>NaN</td>\n",
       "      <td>NaN</td>\n",
       "      <td>NaN</td>\n",
       "      <td>NaN</td>\n",
       "      <td>NaN</td>\n",
       "      <td>...</td>\n",
       "      <td>NaN</td>\n",
       "      <td>NaN</td>\n",
       "      <td>NaN</td>\n",
       "      <td>NaN</td>\n",
       "      <td>NaN</td>\n",
       "      <td>NaN</td>\n",
       "      <td>1.591503</td>\n",
       "      <td>1.127451</td>\n",
       "      <td>0.807190</td>\n",
       "      <td>1.013072</td>\n",
       "    </tr>\n",
       "    <tr>\n",
       "      <th>std</th>\n",
       "      <td>NaN</td>\n",
       "      <td>NaN</td>\n",
       "      <td>NaN</td>\n",
       "      <td>NaN</td>\n",
       "      <td>NaN</td>\n",
       "      <td>NaN</td>\n",
       "      <td>NaN</td>\n",
       "      <td>NaN</td>\n",
       "      <td>NaN</td>\n",
       "      <td>NaN</td>\n",
       "      <td>...</td>\n",
       "      <td>NaN</td>\n",
       "      <td>NaN</td>\n",
       "      <td>NaN</td>\n",
       "      <td>NaN</td>\n",
       "      <td>NaN</td>\n",
       "      <td>NaN</td>\n",
       "      <td>0.705802</td>\n",
       "      <td>0.616785</td>\n",
       "      <td>0.582882</td>\n",
       "      <td>0.750842</td>\n",
       "    </tr>\n",
       "    <tr>\n",
       "      <th>min</th>\n",
       "      <td>NaN</td>\n",
       "      <td>NaN</td>\n",
       "      <td>NaN</td>\n",
       "      <td>NaN</td>\n",
       "      <td>NaN</td>\n",
       "      <td>NaN</td>\n",
       "      <td>NaN</td>\n",
       "      <td>NaN</td>\n",
       "      <td>NaN</td>\n",
       "      <td>NaN</td>\n",
       "      <td>...</td>\n",
       "      <td>NaN</td>\n",
       "      <td>NaN</td>\n",
       "      <td>NaN</td>\n",
       "      <td>NaN</td>\n",
       "      <td>NaN</td>\n",
       "      <td>NaN</td>\n",
       "      <td>0.000000</td>\n",
       "      <td>0.000000</td>\n",
       "      <td>0.000000</td>\n",
       "      <td>0.000000</td>\n",
       "    </tr>\n",
       "    <tr>\n",
       "      <th>25%</th>\n",
       "      <td>NaN</td>\n",
       "      <td>NaN</td>\n",
       "      <td>NaN</td>\n",
       "      <td>NaN</td>\n",
       "      <td>NaN</td>\n",
       "      <td>NaN</td>\n",
       "      <td>NaN</td>\n",
       "      <td>NaN</td>\n",
       "      <td>NaN</td>\n",
       "      <td>NaN</td>\n",
       "      <td>...</td>\n",
       "      <td>NaN</td>\n",
       "      <td>NaN</td>\n",
       "      <td>NaN</td>\n",
       "      <td>NaN</td>\n",
       "      <td>NaN</td>\n",
       "      <td>NaN</td>\n",
       "      <td>1.000000</td>\n",
       "      <td>1.000000</td>\n",
       "      <td>0.000000</td>\n",
       "      <td>0.000000</td>\n",
       "    </tr>\n",
       "    <tr>\n",
       "      <th>50%</th>\n",
       "      <td>NaN</td>\n",
       "      <td>NaN</td>\n",
       "      <td>NaN</td>\n",
       "      <td>NaN</td>\n",
       "      <td>NaN</td>\n",
       "      <td>NaN</td>\n",
       "      <td>NaN</td>\n",
       "      <td>NaN</td>\n",
       "      <td>NaN</td>\n",
       "      <td>NaN</td>\n",
       "      <td>...</td>\n",
       "      <td>NaN</td>\n",
       "      <td>NaN</td>\n",
       "      <td>NaN</td>\n",
       "      <td>NaN</td>\n",
       "      <td>NaN</td>\n",
       "      <td>NaN</td>\n",
       "      <td>2.000000</td>\n",
       "      <td>1.000000</td>\n",
       "      <td>1.000000</td>\n",
       "      <td>1.000000</td>\n",
       "    </tr>\n",
       "    <tr>\n",
       "      <th>75%</th>\n",
       "      <td>NaN</td>\n",
       "      <td>NaN</td>\n",
       "      <td>NaN</td>\n",
       "      <td>NaN</td>\n",
       "      <td>NaN</td>\n",
       "      <td>NaN</td>\n",
       "      <td>NaN</td>\n",
       "      <td>NaN</td>\n",
       "      <td>NaN</td>\n",
       "      <td>NaN</td>\n",
       "      <td>...</td>\n",
       "      <td>NaN</td>\n",
       "      <td>NaN</td>\n",
       "      <td>NaN</td>\n",
       "      <td>NaN</td>\n",
       "      <td>NaN</td>\n",
       "      <td>NaN</td>\n",
       "      <td>2.000000</td>\n",
       "      <td>2.000000</td>\n",
       "      <td>1.000000</td>\n",
       "      <td>2.000000</td>\n",
       "    </tr>\n",
       "    <tr>\n",
       "      <th>max</th>\n",
       "      <td>NaN</td>\n",
       "      <td>NaN</td>\n",
       "      <td>NaN</td>\n",
       "      <td>NaN</td>\n",
       "      <td>NaN</td>\n",
       "      <td>NaN</td>\n",
       "      <td>NaN</td>\n",
       "      <td>NaN</td>\n",
       "      <td>NaN</td>\n",
       "      <td>NaN</td>\n",
       "      <td>...</td>\n",
       "      <td>NaN</td>\n",
       "      <td>NaN</td>\n",
       "      <td>NaN</td>\n",
       "      <td>NaN</td>\n",
       "      <td>NaN</td>\n",
       "      <td>NaN</td>\n",
       "      <td>2.000000</td>\n",
       "      <td>2.000000</td>\n",
       "      <td>2.000000</td>\n",
       "      <td>2.000000</td>\n",
       "    </tr>\n",
       "  </tbody>\n",
       "</table>\n",
       "<p>11 rows × 36 columns</p>\n",
       "</div>"
      ],
      "text/plain": [
       "                     class date plant-stand hail crop-hist area-damaged  \\\n",
       "count                  306  306         306  306       306          306   \n",
       "unique                  18    7           3    3         4            4   \n",
       "top     frog-eye-leaf-spot    5           0    0         2            1   \n",
       "freq                    40   65         160  211        99          101   \n",
       "mean                   NaN  NaN         NaN  NaN       NaN          NaN   \n",
       "std                    NaN  NaN         NaN  NaN       NaN          NaN   \n",
       "min                    NaN  NaN         NaN  NaN       NaN          NaN   \n",
       "25%                    NaN  NaN         NaN  NaN       NaN          NaN   \n",
       "50%                    NaN  NaN         NaN  NaN       NaN          NaN   \n",
       "75%                    NaN  NaN         NaN  NaN       NaN          NaN   \n",
       "max                    NaN  NaN         NaN  NaN       NaN          NaN   \n",
       "\n",
       "       seed-tmt plant-growth leaves leafspots-halo  ... seed mold-growth  \\\n",
       "count       306          306    306            306  ...  306         306   \n",
       "unique        4            2      2              4  ...    3           3   \n",
       "top           0            0      1              2  ...    0           0   \n",
       "freq        140          202    273            152  ...  227         247   \n",
       "mean        NaN          NaN    NaN            NaN  ...  NaN         NaN   \n",
       "std         NaN          NaN    NaN            NaN  ...  NaN         NaN   \n",
       "min         NaN          NaN    NaN            NaN  ...  NaN         NaN   \n",
       "25%         NaN          NaN    NaN            NaN  ...  NaN         NaN   \n",
       "50%         NaN          NaN    NaN            NaN  ...  NaN         NaN   \n",
       "75%         NaN          NaN    NaN            NaN  ...  NaN         NaN   \n",
       "max         NaN          NaN    NaN            NaN  ...  NaN         NaN   \n",
       "\n",
       "       seed-discolor seed-size shriveling roots      precip        temp  \\\n",
       "count            306       306        306   306  306.000000  306.000000   \n",
       "unique             3         3          3     4         NaN         NaN   \n",
       "top                0         0          0     0         NaN         NaN   \n",
       "freq             244       251        256   260         NaN         NaN   \n",
       "mean             NaN       NaN        NaN   NaN    1.591503    1.127451   \n",
       "std              NaN       NaN        NaN   NaN    0.705802    0.616785   \n",
       "min              NaN       NaN        NaN   NaN    0.000000    0.000000   \n",
       "25%              NaN       NaN        NaN   NaN    1.000000    1.000000   \n",
       "50%              NaN       NaN        NaN   NaN    2.000000    1.000000   \n",
       "75%              NaN       NaN        NaN   NaN    2.000000    2.000000   \n",
       "max              NaN       NaN        NaN   NaN    2.000000    2.000000   \n",
       "\n",
       "          severity germination  \n",
       "count   306.000000  306.000000  \n",
       "unique         NaN         NaN  \n",
       "top            NaN         NaN  \n",
       "freq           NaN         NaN  \n",
       "mean      0.807190    1.013072  \n",
       "std       0.582882    0.750842  \n",
       "min       0.000000    0.000000  \n",
       "25%       0.000000    0.000000  \n",
       "50%       1.000000    1.000000  \n",
       "75%       1.000000    2.000000  \n",
       "max       2.000000    2.000000  \n",
       "\n",
       "[11 rows x 36 columns]"
      ]
     },
     "execution_count": 73,
     "metadata": {},
     "output_type": "execute_result"
    }
   ],
   "source": [
    "data.describe(include = [object, float])"
   ]
  },
  {
   "cell_type": "code",
   "execution_count": 74,
   "metadata": {},
   "outputs": [
    {
     "name": "stdout",
     "output_type": "stream",
     "text": [
      "class ['diaporthe-stem-canker' 'charcoal-rot' 'rhizoctonia-root-rot'\n",
      " 'phytophthora-rot' 'brown-stem-rot' 'powdery-mildew' 'downy-mildew'\n",
      " 'brown-spot' 'bacterial-blight' 'bacterial-pustule' 'purple-seed-stain'\n",
      " 'anthracnose' 'phyllosticta-leaf-spot' 'alternarialeaf-spot'\n",
      " 'frog-eye-leaf-spot' 'diaporthe-pod-&-stem-blight' 'cyst-nematode'\n",
      " 'herbicide-injury']\n",
      "date ['6' '4' '3' '5' '1' '0' '2']\n",
      "plant-stand ['0' '1' 0.0]\n",
      "hail ['0' '1' 0.0]\n",
      "crop-hist ['1' '2' '3' '0']\n",
      "area-damaged ['1' '0' '3' '2']\n",
      "seed-tmt ['0' '1' 0.0 '2']\n",
      "plant-growth ['1' '0']\n",
      "leaves ['1' '0']\n",
      "leafspots-halo ['0' 2.0 '2' '1']\n",
      "leafspots-marg [0.0 '0' '1']\n",
      "leafspot-size [1.0 '1' '0']\n",
      "leaf-shread ['0' 0.0 '1']\n",
      "leaf-malf ['0' 0.0 '1']\n",
      "leaf-mild ['0' 0.0 '1' '2']\n",
      "stem ['1' '0']\n",
      "lodging ['1' '0' 0.0]\n",
      "stem-cankers ['3' '0' '1' '2' 0.0]\n",
      "canker-lesion ['1' 2.0 '3' '2']\n",
      "fruiting-bodies ['1' '0' 0.0]\n",
      "external decay ['1' '0' 0.0]\n",
      "mycelium ['0' '1' 0.0]\n",
      "int-discolor ['0' '2' '1' 0.0]\n",
      "sclerotia ['0' '1' 0.0]\n",
      "fruit-pods ['0' 0.0 '1' '2']\n",
      "fruit spots [0.0 '0' '1' '2']\n",
      "seed ['0' 0.0 '1']\n",
      "mold-growth ['0' 0.0 '1']\n",
      "seed-discolor ['0' 0.0 '1']\n",
      "seed-size ['0' 0.0 '1']\n",
      "shriveling ['0' 0.0 '1']\n",
      "roots ['0' '1' '2' 0.0]\n"
     ]
    }
   ],
   "source": [
    "for c in categorical_columns:\n",
    "    print(c, data[c].unique())"
   ]
  },
  {
   "cell_type": "markdown",
   "metadata": {},
   "source": [
    "# Normalization of Quantitative Features\n",
    "\n",
    "Many machine learning algorithms are sensitive to data scaling. Such algorithms, for example, include the nearest neighbors method, support vector machines, etc.\n",
    "\n",
    "In this case, it is useful to normalize quantitative features. This can be done in a variety of ways. For example, each quantitative feature will be reduced to zero mean and single standard deviation:"
   ]
  },
  {
   "cell_type": "code",
   "execution_count": 75,
   "metadata": {},
   "outputs": [
    {
     "data": {
      "text/html": [
       "<div>\n",
       "<style scoped>\n",
       "    .dataframe tbody tr th:only-of-type {\n",
       "        vertical-align: middle;\n",
       "    }\n",
       "\n",
       "    .dataframe tbody tr th {\n",
       "        vertical-align: top;\n",
       "    }\n",
       "\n",
       "    .dataframe thead th {\n",
       "        text-align: right;\n",
       "    }\n",
       "</style>\n",
       "<table border=\"1\" class=\"dataframe\">\n",
       "  <thead>\n",
       "    <tr style=\"text-align: right;\">\n",
       "      <th></th>\n",
       "      <th>precip</th>\n",
       "      <th>temp</th>\n",
       "      <th>severity</th>\n",
       "      <th>germination</th>\n",
       "      <th>date_num</th>\n",
       "    </tr>\n",
       "  </thead>\n",
       "  <tbody>\n",
       "    <tr>\n",
       "      <th>count</th>\n",
       "      <td>306.000000</td>\n",
       "      <td>306.000000</td>\n",
       "      <td>306.000000</td>\n",
       "      <td>306.000000</td>\n",
       "      <td>306.000000</td>\n",
       "    </tr>\n",
       "    <tr>\n",
       "      <th>mean</th>\n",
       "      <td>1.591503</td>\n",
       "      <td>1.127451</td>\n",
       "      <td>0.807190</td>\n",
       "      <td>1.013072</td>\n",
       "      <td>3.529412</td>\n",
       "    </tr>\n",
       "    <tr>\n",
       "      <th>std</th>\n",
       "      <td>0.705802</td>\n",
       "      <td>0.616785</td>\n",
       "      <td>0.582882</td>\n",
       "      <td>0.750842</td>\n",
       "      <td>1.712285</td>\n",
       "    </tr>\n",
       "    <tr>\n",
       "      <th>min</th>\n",
       "      <td>0.000000</td>\n",
       "      <td>0.000000</td>\n",
       "      <td>0.000000</td>\n",
       "      <td>0.000000</td>\n",
       "      <td>0.000000</td>\n",
       "    </tr>\n",
       "    <tr>\n",
       "      <th>25%</th>\n",
       "      <td>1.000000</td>\n",
       "      <td>1.000000</td>\n",
       "      <td>0.000000</td>\n",
       "      <td>0.000000</td>\n",
       "      <td>2.000000</td>\n",
       "    </tr>\n",
       "    <tr>\n",
       "      <th>50%</th>\n",
       "      <td>2.000000</td>\n",
       "      <td>1.000000</td>\n",
       "      <td>1.000000</td>\n",
       "      <td>1.000000</td>\n",
       "      <td>4.000000</td>\n",
       "    </tr>\n",
       "    <tr>\n",
       "      <th>75%</th>\n",
       "      <td>2.000000</td>\n",
       "      <td>2.000000</td>\n",
       "      <td>1.000000</td>\n",
       "      <td>2.000000</td>\n",
       "      <td>5.000000</td>\n",
       "    </tr>\n",
       "    <tr>\n",
       "      <th>max</th>\n",
       "      <td>2.000000</td>\n",
       "      <td>2.000000</td>\n",
       "      <td>2.000000</td>\n",
       "      <td>2.000000</td>\n",
       "      <td>6.000000</td>\n",
       "    </tr>\n",
       "  </tbody>\n",
       "</table>\n",
       "</div>"
      ],
      "text/plain": [
       "           precip        temp    severity  germination    date_num\n",
       "count  306.000000  306.000000  306.000000   306.000000  306.000000\n",
       "mean     1.591503    1.127451    0.807190     1.013072    3.529412\n",
       "std      0.705802    0.616785    0.582882     0.750842    1.712285\n",
       "min      0.000000    0.000000    0.000000     0.000000    0.000000\n",
       "25%      1.000000    1.000000    0.000000     0.000000    2.000000\n",
       "50%      2.000000    1.000000    1.000000     1.000000    4.000000\n",
       "75%      2.000000    2.000000    1.000000     2.000000    5.000000\n",
       "max      2.000000    2.000000    2.000000     2.000000    6.000000"
      ]
     },
     "execution_count": 75,
     "metadata": {},
     "output_type": "execute_result"
    }
   ],
   "source": [
    "data_numerical = data[ordered_columns]\n",
    "data_numerical.describe()"
   ]
  },
  {
   "cell_type": "code",
   "execution_count": 76,
   "metadata": {},
   "outputs": [],
   "source": [
    "data_numerical = (data_numerical - data_numerical.mean(axis = 0))/data_numerical.std(axis = 0)"
   ]
  },
  {
   "cell_type": "code",
   "execution_count": 77,
   "metadata": {},
   "outputs": [
    {
     "data": {
      "text/html": [
       "<div>\n",
       "<style scoped>\n",
       "    .dataframe tbody tr th:only-of-type {\n",
       "        vertical-align: middle;\n",
       "    }\n",
       "\n",
       "    .dataframe tbody tr th {\n",
       "        vertical-align: top;\n",
       "    }\n",
       "\n",
       "    .dataframe thead th {\n",
       "        text-align: right;\n",
       "    }\n",
       "</style>\n",
       "<table border=\"1\" class=\"dataframe\">\n",
       "  <thead>\n",
       "    <tr style=\"text-align: right;\">\n",
       "      <th></th>\n",
       "      <th>precip</th>\n",
       "      <th>temp</th>\n",
       "      <th>severity</th>\n",
       "      <th>germination</th>\n",
       "      <th>date_num</th>\n",
       "    </tr>\n",
       "  </thead>\n",
       "  <tbody>\n",
       "    <tr>\n",
       "      <th>count</th>\n",
       "      <td>3.060000e+02</td>\n",
       "      <td>306.000000</td>\n",
       "      <td>306.000000</td>\n",
       "      <td>3.060000e+02</td>\n",
       "      <td>3.060000e+02</td>\n",
       "    </tr>\n",
       "    <tr>\n",
       "      <th>mean</th>\n",
       "      <td>1.625425e-16</td>\n",
       "      <td>0.000000</td>\n",
       "      <td>0.000000</td>\n",
       "      <td>5.224579e-17</td>\n",
       "      <td>1.161018e-16</td>\n",
       "    </tr>\n",
       "    <tr>\n",
       "      <th>std</th>\n",
       "      <td>1.000000e+00</td>\n",
       "      <td>1.000000</td>\n",
       "      <td>1.000000</td>\n",
       "      <td>1.000000e+00</td>\n",
       "      <td>1.000000e+00</td>\n",
       "    </tr>\n",
       "    <tr>\n",
       "      <th>min</th>\n",
       "      <td>-2.254885e+00</td>\n",
       "      <td>-1.827947</td>\n",
       "      <td>-1.384825</td>\n",
       "      <td>-1.349249e+00</td>\n",
       "      <td>-2.061229e+00</td>\n",
       "    </tr>\n",
       "    <tr>\n",
       "      <th>25%</th>\n",
       "      <td>-8.380578e-01</td>\n",
       "      <td>-0.206637</td>\n",
       "      <td>-1.384825</td>\n",
       "      <td>-1.349249e+00</td>\n",
       "      <td>-8.931994e-01</td>\n",
       "    </tr>\n",
       "    <tr>\n",
       "      <th>50%</th>\n",
       "      <td>5.787692e-01</td>\n",
       "      <td>-0.206637</td>\n",
       "      <td>0.330788</td>\n",
       "      <td>-1.740966e-02</td>\n",
       "      <td>2.748306e-01</td>\n",
       "    </tr>\n",
       "    <tr>\n",
       "      <th>75%</th>\n",
       "      <td>5.787692e-01</td>\n",
       "      <td>1.414672</td>\n",
       "      <td>0.330788</td>\n",
       "      <td>1.314429e+00</td>\n",
       "      <td>8.588456e-01</td>\n",
       "    </tr>\n",
       "    <tr>\n",
       "      <th>max</th>\n",
       "      <td>5.787692e-01</td>\n",
       "      <td>1.414672</td>\n",
       "      <td>2.046401</td>\n",
       "      <td>1.314429e+00</td>\n",
       "      <td>1.442861e+00</td>\n",
       "    </tr>\n",
       "  </tbody>\n",
       "</table>\n",
       "</div>"
      ],
      "text/plain": [
       "             precip        temp    severity   germination      date_num\n",
       "count  3.060000e+02  306.000000  306.000000  3.060000e+02  3.060000e+02\n",
       "mean   1.625425e-16    0.000000    0.000000  5.224579e-17  1.161018e-16\n",
       "std    1.000000e+00    1.000000    1.000000  1.000000e+00  1.000000e+00\n",
       "min   -2.254885e+00   -1.827947   -1.384825 -1.349249e+00 -2.061229e+00\n",
       "25%   -8.380578e-01   -0.206637   -1.384825 -1.349249e+00 -8.931994e-01\n",
       "50%    5.787692e-01   -0.206637    0.330788 -1.740966e-02  2.748306e-01\n",
       "75%    5.787692e-01    1.414672    0.330788  1.314429e+00  8.588456e-01\n",
       "max    5.787692e-01    1.414672    2.046401  1.314429e+00  1.442861e+00"
      ]
     },
     "execution_count": 77,
     "metadata": {},
     "output_type": "execute_result"
    }
   ],
   "source": [
    "data_numerical.describe()"
   ]
  },
  {
   "cell_type": "code",
   "execution_count": 78,
   "metadata": {},
   "outputs": [
    {
     "name": "stdout",
     "output_type": "stream",
     "text": [
      "['plant-growth', 'leaves', 'stem'] ['date', 'plant-stand', 'hail', 'crop-hist', 'area-damaged', 'seed-tmt', 'leafspots-halo', 'leafspots-marg', 'leafspot-size', 'leaf-shread', 'leaf-malf', 'leaf-mild', 'lodging', 'stem-cankers', 'canker-lesion', 'fruiting-bodies', 'external decay', 'mycelium', 'int-discolor', 'sclerotia', 'fruit-pods', 'fruit spots', 'seed', 'mold-growth', 'seed-discolor', 'seed-size', 'shriveling', 'roots']\n"
     ]
    }
   ],
   "source": [
    "binary_columns    = [c for c in categorical_columns if data_describe[c]['unique'] == 2]\n",
    "nonbinary_columns = [c for c in categorical_columns if data_describe[c]['unique'] > 2 and c!='class']\n",
    "print(binary_columns, nonbinary_columns)"
   ]
  },
  {
   "cell_type": "code",
   "execution_count": 79,
   "metadata": {},
   "outputs": [],
   "source": [
    "for b in binary_columns:\n",
    "    data.at[data[b] == '0',b] = 0\n",
    "    data.at[data[b] == '1',b] = 1"
   ]
  },
  {
   "cell_type": "code",
   "execution_count": 80,
   "metadata": {},
   "outputs": [
    {
     "name": "stdout",
     "output_type": "stream",
     "text": [
      "class ['diaporthe-stem-canker' 'charcoal-rot' 'rhizoctonia-root-rot'\n",
      " 'phytophthora-rot' 'brown-stem-rot' 'powdery-mildew' 'downy-mildew'\n",
      " 'brown-spot' 'bacterial-blight' 'bacterial-pustule' 'purple-seed-stain'\n",
      " 'anthracnose' 'phyllosticta-leaf-spot' 'alternarialeaf-spot'\n",
      " 'frog-eye-leaf-spot' 'diaporthe-pod-&-stem-blight' 'cyst-nematode'\n",
      " 'herbicide-injury']\n",
      "date ['6' '4' '3' '5' '1' '0' '2']\n",
      "plant-stand ['0' '1' 0.0]\n",
      "hail ['0' '1' 0.0]\n",
      "crop-hist ['1' '2' '3' '0']\n",
      "area-damaged ['1' '0' '3' '2']\n",
      "seed-tmt ['0' '1' 0.0 '2']\n",
      "plant-growth [1 0]\n",
      "leaves [1 0]\n",
      "leafspots-halo ['0' 2.0 '2' '1']\n",
      "leafspots-marg [0.0 '0' '1']\n",
      "leafspot-size [1.0 '1' '0']\n",
      "leaf-shread ['0' 0.0 '1']\n",
      "leaf-malf ['0' 0.0 '1']\n",
      "leaf-mild ['0' 0.0 '1' '2']\n",
      "stem [1 0]\n",
      "lodging ['1' '0' 0.0]\n",
      "stem-cankers ['3' '0' '1' '2' 0.0]\n",
      "canker-lesion ['1' 2.0 '3' '2']\n",
      "fruiting-bodies ['1' '0' 0.0]\n",
      "external decay ['1' '0' 0.0]\n",
      "mycelium ['0' '1' 0.0]\n",
      "int-discolor ['0' '2' '1' 0.0]\n",
      "sclerotia ['0' '1' 0.0]\n",
      "fruit-pods ['0' 0.0 '1' '2']\n",
      "fruit spots [0.0 '0' '1' '2']\n",
      "seed ['0' 0.0 '1']\n",
      "mold-growth ['0' 0.0 '1']\n",
      "seed-discolor ['0' 0.0 '1']\n",
      "seed-size ['0' 0.0 '1']\n",
      "shriveling ['0' 0.0 '1']\n",
      "roots ['0' '1' '2' 0.0]\n"
     ]
    }
   ],
   "source": [
    "for b in categorical_columns:\n",
    "    print(b, data[b].unique())"
   ]
  },
  {
   "cell_type": "markdown",
   "metadata": {},
   "source": [
    "The vectorization method is applicable to non-binary features, which is as follows.\n",
    "\n",
    "The feature j, which takes s values, will be replaced by s features, which take the values 0 or 1, depending on what the value of the original feature j is.\n",
    "\n",
    "For example, in our task, the date feature takes 7 different values:"
   ]
  },
  {
   "cell_type": "code",
   "execution_count": null,
   "metadata": {},
   "outputs": [
    {
     "data": {
      "text/plain": [
       "array(['6', '4', '3', '5', '1', '0', '2'], dtype=object)"
      ]
     },
     "execution_count": 81,
     "metadata": {},
     "output_type": "execute_result"
    }
   ],
   "source": [
    "data['date'].unique()"
   ]
  },
  {
   "cell_type": "markdown",
   "metadata": {},
   "source": [
    "Let's replace the feature date 7 with features: 0,1,2,3,4,5,6 (april, may, june, july, august, september, october).\n",
    "\n",
    "If the date attribute is 0, then the date_0 attribute is 1 and all others are 0. If the date attribute is 1, then the date_1 attribute is 1 and all others are 0. and so on."
   ]
  },
  {
   "cell_type": "code",
   "execution_count": 82,
   "metadata": {},
   "outputs": [
    {
     "name": "stdout",
     "output_type": "stream",
     "text": [
      "Index(['date_0', 'date_1', 'date_2', 'date_3', 'date_4', 'date_5', 'date_6',\n",
      "       'plant-stand_0.0', 'plant-stand_0', 'plant-stand_1', 'hail_0.0',\n",
      "       'hail_0', 'hail_1', 'crop-hist_0', 'crop-hist_1', 'crop-hist_2',\n",
      "       'crop-hist_3', 'area-damaged_0', 'area-damaged_1', 'area-damaged_2',\n",
      "       'area-damaged_3', 'seed-tmt_0.0', 'seed-tmt_0', 'seed-tmt_1',\n",
      "       'seed-tmt_2', 'leafspots-halo_2.0', 'leafspots-halo_0',\n",
      "       'leafspots-halo_1', 'leafspots-halo_2', 'leafspots-marg_0.0',\n",
      "       'leafspots-marg_0', 'leafspots-marg_1', 'leafspot-size_1.0',\n",
      "       'leafspot-size_0', 'leafspot-size_1', 'leaf-shread_0.0',\n",
      "       'leaf-shread_0', 'leaf-shread_1', 'leaf-malf_0.0', 'leaf-malf_0',\n",
      "       'leaf-malf_1', 'leaf-mild_0.0', 'leaf-mild_0', 'leaf-mild_1',\n",
      "       'leaf-mild_2', 'lodging_0.0', 'lodging_0', 'lodging_1',\n",
      "       'stem-cankers_0.0', 'stem-cankers_0', 'stem-cankers_1',\n",
      "       'stem-cankers_2', 'stem-cankers_3', 'canker-lesion_2.0',\n",
      "       'canker-lesion_1', 'canker-lesion_2', 'canker-lesion_3',\n",
      "       'fruiting-bodies_0.0', 'fruiting-bodies_0', 'fruiting-bodies_1',\n",
      "       'external decay_0.0', 'external decay_0', 'external decay_1',\n",
      "       'mycelium_0.0', 'mycelium_0', 'mycelium_1', 'int-discolor_0.0',\n",
      "       'int-discolor_0', 'int-discolor_1', 'int-discolor_2', 'sclerotia_0.0',\n",
      "       'sclerotia_0', 'sclerotia_1', 'fruit-pods_0.0', 'fruit-pods_0',\n",
      "       'fruit-pods_1', 'fruit-pods_2', 'fruit spots_0.0', 'fruit spots_0',\n",
      "       'fruit spots_1', 'fruit spots_2', 'seed_0.0', 'seed_0', 'seed_1',\n",
      "       'mold-growth_0.0', 'mold-growth_0', 'mold-growth_1',\n",
      "       'seed-discolor_0.0', 'seed-discolor_0', 'seed-discolor_1',\n",
      "       'seed-size_0.0', 'seed-size_0', 'seed-size_1', 'shriveling_0.0',\n",
      "       'shriveling_0', 'shriveling_1', 'roots_0.0', 'roots_0', 'roots_1',\n",
      "       'roots_2'],\n",
      "      dtype='object')\n"
     ]
    }
   ],
   "source": [
    "data_nonbinary = pd.get_dummies(data[nonbinary_columns])\n",
    "print(data_nonbinary.columns)"
   ]
  },
  {
   "cell_type": "code",
   "execution_count": 83,
   "metadata": {},
   "outputs": [
    {
     "data": {
      "text/plain": [
       "array(['diaporthe-stem-canker', 'charcoal-rot', 'rhizoctonia-root-rot',\n",
       "       'phytophthora-rot', 'brown-stem-rot', 'powdery-mildew',\n",
       "       'downy-mildew', 'brown-spot', 'bacterial-blight',\n",
       "       'bacterial-pustule', 'purple-seed-stain', 'anthracnose',\n",
       "       'phyllosticta-leaf-spot', 'alternarialeaf-spot',\n",
       "       'frog-eye-leaf-spot', 'diaporthe-pod-&-stem-blight',\n",
       "       'cyst-nematode', 'herbicide-injury'], dtype=object)"
      ]
     },
     "execution_count": 83,
     "metadata": {},
     "output_type": "execute_result"
    }
   ],
   "source": [
    "data['class'].unique()"
   ]
  },
  {
   "cell_type": "markdown",
   "metadata": {},
   "source": [
    "# Joining everything in one table"
   ]
  },
  {
   "cell_type": "code",
   "execution_count": 84,
   "metadata": {},
   "outputs": [
    {
     "name": "stdout",
     "output_type": "stream",
     "text": [
      "(306, 109)\n"
     ]
    }
   ],
   "source": [
    "data = pd.concat((data_nonbinary, data[binary_columns], data_numerical, data['class']), axis = 1)\n",
    "print(data.shape)"
   ]
  },
  {
   "cell_type": "code",
   "execution_count": 85,
   "metadata": {},
   "outputs": [
    {
     "data": {
      "text/html": [
       "<div>\n",
       "<style scoped>\n",
       "    .dataframe tbody tr th:only-of-type {\n",
       "        vertical-align: middle;\n",
       "    }\n",
       "\n",
       "    .dataframe tbody tr th {\n",
       "        vertical-align: top;\n",
       "    }\n",
       "\n",
       "    .dataframe thead th {\n",
       "        text-align: right;\n",
       "    }\n",
       "</style>\n",
       "<table border=\"1\" class=\"dataframe\">\n",
       "  <thead>\n",
       "    <tr style=\"text-align: right;\">\n",
       "      <th></th>\n",
       "      <th>date_0</th>\n",
       "      <th>date_1</th>\n",
       "      <th>date_2</th>\n",
       "      <th>date_3</th>\n",
       "      <th>date_4</th>\n",
       "      <th>date_5</th>\n",
       "      <th>date_6</th>\n",
       "      <th>plant-stand_0.0</th>\n",
       "      <th>plant-stand_0</th>\n",
       "      <th>plant-stand_1</th>\n",
       "      <th>...</th>\n",
       "      <th>shriveling_1</th>\n",
       "      <th>roots_0.0</th>\n",
       "      <th>roots_0</th>\n",
       "      <th>roots_1</th>\n",
       "      <th>roots_2</th>\n",
       "      <th>precip</th>\n",
       "      <th>temp</th>\n",
       "      <th>severity</th>\n",
       "      <th>germination</th>\n",
       "      <th>date_num</th>\n",
       "    </tr>\n",
       "  </thead>\n",
       "  <tbody>\n",
       "    <tr>\n",
       "      <th>count</th>\n",
       "      <td>306.000000</td>\n",
       "      <td>306.000000</td>\n",
       "      <td>306.000000</td>\n",
       "      <td>306.000000</td>\n",
       "      <td>306.000000</td>\n",
       "      <td>306.000000</td>\n",
       "      <td>306.000000</td>\n",
       "      <td>306.000000</td>\n",
       "      <td>306.000000</td>\n",
       "      <td>306.000000</td>\n",
       "      <td>...</td>\n",
       "      <td>306.000000</td>\n",
       "      <td>306.000000</td>\n",
       "      <td>306.000000</td>\n",
       "      <td>306.000000</td>\n",
       "      <td>306.000000</td>\n",
       "      <td>3.060000e+02</td>\n",
       "      <td>306.000000</td>\n",
       "      <td>306.000000</td>\n",
       "      <td>3.060000e+02</td>\n",
       "      <td>3.060000e+02</td>\n",
       "    </tr>\n",
       "    <tr>\n",
       "      <th>mean</th>\n",
       "      <td>0.039216</td>\n",
       "      <td>0.117647</td>\n",
       "      <td>0.133987</td>\n",
       "      <td>0.173203</td>\n",
       "      <td>0.189542</td>\n",
       "      <td>0.212418</td>\n",
       "      <td>0.133987</td>\n",
       "      <td>0.022876</td>\n",
       "      <td>0.522876</td>\n",
       "      <td>0.454248</td>\n",
       "      <td>...</td>\n",
       "      <td>0.052288</td>\n",
       "      <td>0.019608</td>\n",
       "      <td>0.849673</td>\n",
       "      <td>0.107843</td>\n",
       "      <td>0.022876</td>\n",
       "      <td>1.625425e-16</td>\n",
       "      <td>0.000000</td>\n",
       "      <td>0.000000</td>\n",
       "      <td>5.224579e-17</td>\n",
       "      <td>1.161018e-16</td>\n",
       "    </tr>\n",
       "    <tr>\n",
       "      <th>std</th>\n",
       "      <td>0.194426</td>\n",
       "      <td>0.322717</td>\n",
       "      <td>0.341196</td>\n",
       "      <td>0.379042</td>\n",
       "      <td>0.392581</td>\n",
       "      <td>0.409689</td>\n",
       "      <td>0.341196</td>\n",
       "      <td>0.149752</td>\n",
       "      <td>0.500295</td>\n",
       "      <td>0.498718</td>\n",
       "      <td>...</td>\n",
       "      <td>0.222971</td>\n",
       "      <td>0.138875</td>\n",
       "      <td>0.357977</td>\n",
       "      <td>0.310690</td>\n",
       "      <td>0.149752</td>\n",
       "      <td>1.000000e+00</td>\n",
       "      <td>1.000000</td>\n",
       "      <td>1.000000</td>\n",
       "      <td>1.000000e+00</td>\n",
       "      <td>1.000000e+00</td>\n",
       "    </tr>\n",
       "    <tr>\n",
       "      <th>min</th>\n",
       "      <td>0.000000</td>\n",
       "      <td>0.000000</td>\n",
       "      <td>0.000000</td>\n",
       "      <td>0.000000</td>\n",
       "      <td>0.000000</td>\n",
       "      <td>0.000000</td>\n",
       "      <td>0.000000</td>\n",
       "      <td>0.000000</td>\n",
       "      <td>0.000000</td>\n",
       "      <td>0.000000</td>\n",
       "      <td>...</td>\n",
       "      <td>0.000000</td>\n",
       "      <td>0.000000</td>\n",
       "      <td>0.000000</td>\n",
       "      <td>0.000000</td>\n",
       "      <td>0.000000</td>\n",
       "      <td>-2.254885e+00</td>\n",
       "      <td>-1.827947</td>\n",
       "      <td>-1.384825</td>\n",
       "      <td>-1.349249e+00</td>\n",
       "      <td>-2.061229e+00</td>\n",
       "    </tr>\n",
       "    <tr>\n",
       "      <th>25%</th>\n",
       "      <td>0.000000</td>\n",
       "      <td>0.000000</td>\n",
       "      <td>0.000000</td>\n",
       "      <td>0.000000</td>\n",
       "      <td>0.000000</td>\n",
       "      <td>0.000000</td>\n",
       "      <td>0.000000</td>\n",
       "      <td>0.000000</td>\n",
       "      <td>0.000000</td>\n",
       "      <td>0.000000</td>\n",
       "      <td>...</td>\n",
       "      <td>0.000000</td>\n",
       "      <td>0.000000</td>\n",
       "      <td>1.000000</td>\n",
       "      <td>0.000000</td>\n",
       "      <td>0.000000</td>\n",
       "      <td>-8.380578e-01</td>\n",
       "      <td>-0.206637</td>\n",
       "      <td>-1.384825</td>\n",
       "      <td>-1.349249e+00</td>\n",
       "      <td>-8.931994e-01</td>\n",
       "    </tr>\n",
       "    <tr>\n",
       "      <th>50%</th>\n",
       "      <td>0.000000</td>\n",
       "      <td>0.000000</td>\n",
       "      <td>0.000000</td>\n",
       "      <td>0.000000</td>\n",
       "      <td>0.000000</td>\n",
       "      <td>0.000000</td>\n",
       "      <td>0.000000</td>\n",
       "      <td>0.000000</td>\n",
       "      <td>1.000000</td>\n",
       "      <td>0.000000</td>\n",
       "      <td>...</td>\n",
       "      <td>0.000000</td>\n",
       "      <td>0.000000</td>\n",
       "      <td>1.000000</td>\n",
       "      <td>0.000000</td>\n",
       "      <td>0.000000</td>\n",
       "      <td>5.787692e-01</td>\n",
       "      <td>-0.206637</td>\n",
       "      <td>0.330788</td>\n",
       "      <td>-1.740966e-02</td>\n",
       "      <td>2.748306e-01</td>\n",
       "    </tr>\n",
       "    <tr>\n",
       "      <th>75%</th>\n",
       "      <td>0.000000</td>\n",
       "      <td>0.000000</td>\n",
       "      <td>0.000000</td>\n",
       "      <td>0.000000</td>\n",
       "      <td>0.000000</td>\n",
       "      <td>0.000000</td>\n",
       "      <td>0.000000</td>\n",
       "      <td>0.000000</td>\n",
       "      <td>1.000000</td>\n",
       "      <td>1.000000</td>\n",
       "      <td>...</td>\n",
       "      <td>0.000000</td>\n",
       "      <td>0.000000</td>\n",
       "      <td>1.000000</td>\n",
       "      <td>0.000000</td>\n",
       "      <td>0.000000</td>\n",
       "      <td>5.787692e-01</td>\n",
       "      <td>1.414672</td>\n",
       "      <td>0.330788</td>\n",
       "      <td>1.314429e+00</td>\n",
       "      <td>8.588456e-01</td>\n",
       "    </tr>\n",
       "    <tr>\n",
       "      <th>max</th>\n",
       "      <td>1.000000</td>\n",
       "      <td>1.000000</td>\n",
       "      <td>1.000000</td>\n",
       "      <td>1.000000</td>\n",
       "      <td>1.000000</td>\n",
       "      <td>1.000000</td>\n",
       "      <td>1.000000</td>\n",
       "      <td>1.000000</td>\n",
       "      <td>1.000000</td>\n",
       "      <td>1.000000</td>\n",
       "      <td>...</td>\n",
       "      <td>1.000000</td>\n",
       "      <td>1.000000</td>\n",
       "      <td>1.000000</td>\n",
       "      <td>1.000000</td>\n",
       "      <td>1.000000</td>\n",
       "      <td>5.787692e-01</td>\n",
       "      <td>1.414672</td>\n",
       "      <td>2.046401</td>\n",
       "      <td>1.314429e+00</td>\n",
       "      <td>1.442861e+00</td>\n",
       "    </tr>\n",
       "  </tbody>\n",
       "</table>\n",
       "<p>8 rows × 105 columns</p>\n",
       "</div>"
      ],
      "text/plain": [
       "           date_0      date_1      date_2      date_3      date_4      date_5  \\\n",
       "count  306.000000  306.000000  306.000000  306.000000  306.000000  306.000000   \n",
       "mean     0.039216    0.117647    0.133987    0.173203    0.189542    0.212418   \n",
       "std      0.194426    0.322717    0.341196    0.379042    0.392581    0.409689   \n",
       "min      0.000000    0.000000    0.000000    0.000000    0.000000    0.000000   \n",
       "25%      0.000000    0.000000    0.000000    0.000000    0.000000    0.000000   \n",
       "50%      0.000000    0.000000    0.000000    0.000000    0.000000    0.000000   \n",
       "75%      0.000000    0.000000    0.000000    0.000000    0.000000    0.000000   \n",
       "max      1.000000    1.000000    1.000000    1.000000    1.000000    1.000000   \n",
       "\n",
       "           date_6  plant-stand_0.0  plant-stand_0  plant-stand_1  ...  \\\n",
       "count  306.000000       306.000000     306.000000     306.000000  ...   \n",
       "mean     0.133987         0.022876       0.522876       0.454248  ...   \n",
       "std      0.341196         0.149752       0.500295       0.498718  ...   \n",
       "min      0.000000         0.000000       0.000000       0.000000  ...   \n",
       "25%      0.000000         0.000000       0.000000       0.000000  ...   \n",
       "50%      0.000000         0.000000       1.000000       0.000000  ...   \n",
       "75%      0.000000         0.000000       1.000000       1.000000  ...   \n",
       "max      1.000000         1.000000       1.000000       1.000000  ...   \n",
       "\n",
       "       shriveling_1   roots_0.0     roots_0     roots_1     roots_2  \\\n",
       "count    306.000000  306.000000  306.000000  306.000000  306.000000   \n",
       "mean       0.052288    0.019608    0.849673    0.107843    0.022876   \n",
       "std        0.222971    0.138875    0.357977    0.310690    0.149752   \n",
       "min        0.000000    0.000000    0.000000    0.000000    0.000000   \n",
       "25%        0.000000    0.000000    1.000000    0.000000    0.000000   \n",
       "50%        0.000000    0.000000    1.000000    0.000000    0.000000   \n",
       "75%        0.000000    0.000000    1.000000    0.000000    0.000000   \n",
       "max        1.000000    1.000000    1.000000    1.000000    1.000000   \n",
       "\n",
       "             precip        temp    severity   germination      date_num  \n",
       "count  3.060000e+02  306.000000  306.000000  3.060000e+02  3.060000e+02  \n",
       "mean   1.625425e-16    0.000000    0.000000  5.224579e-17  1.161018e-16  \n",
       "std    1.000000e+00    1.000000    1.000000  1.000000e+00  1.000000e+00  \n",
       "min   -2.254885e+00   -1.827947   -1.384825 -1.349249e+00 -2.061229e+00  \n",
       "25%   -8.380578e-01   -0.206637   -1.384825 -1.349249e+00 -8.931994e-01  \n",
       "50%    5.787692e-01   -0.206637    0.330788 -1.740966e-02  2.748306e-01  \n",
       "75%    5.787692e-01    1.414672    0.330788  1.314429e+00  8.588456e-01  \n",
       "max    5.787692e-01    1.414672    2.046401  1.314429e+00  1.442861e+00  \n",
       "\n",
       "[8 rows x 105 columns]"
      ]
     },
     "execution_count": 85,
     "metadata": {},
     "output_type": "execute_result"
    }
   ],
   "source": [
    "data.describe()"
   ]
  },
  {
   "cell_type": "markdown",
   "metadata": {},
   "source": [
    "# x and y"
   ]
  },
  {
   "cell_type": "code",
   "execution_count": 86,
   "metadata": {},
   "outputs": [],
   "source": [
    "X = data.drop(('class'), axis = 1) # выбрасываем столбец 'class'\n",
    "y = data['class']\n",
    "feature_names = X.columns"
   ]
  },
  {
   "cell_type": "code",
   "execution_count": 87,
   "metadata": {},
   "outputs": [
    {
     "data": {
      "text/plain": [
       "Index(['date_0', 'date_1', 'date_2', 'date_3', 'date_4', 'date_5', 'date_6',\n",
       "       'plant-stand_0.0', 'plant-stand_0', 'plant-stand_1',\n",
       "       ...\n",
       "       'roots_1', 'roots_2', 'plant-growth', 'leaves', 'stem', 'precip',\n",
       "       'temp', 'severity', 'germination', 'date_num'],\n",
       "      dtype='object', length=108)"
      ]
     },
     "execution_count": 87,
     "metadata": {},
     "output_type": "execute_result"
    }
   ],
   "source": [
    "feature_names"
   ]
  },
  {
   "cell_type": "code",
   "execution_count": 88,
   "metadata": {},
   "outputs": [
    {
     "name": "stdout",
     "output_type": "stream",
     "text": [
      "(306, 108)\n",
      "(306,)\n"
     ]
    }
   ],
   "source": [
    "print(X.shape)\n",
    "print(y.shape)\n",
    "N, d = X.shape"
   ]
  },
  {
   "cell_type": "code",
   "execution_count": 89,
   "metadata": {},
   "outputs": [
    {
     "data": {
      "text/plain": [
       "pandas.core.series.Series"
      ]
     },
     "execution_count": 89,
     "metadata": {},
     "output_type": "execute_result"
    }
   ],
   "source": [
    "type (y)"
   ]
  },
  {
   "cell_type": "code",
   "execution_count": 90,
   "metadata": {},
   "outputs": [
    {
     "name": "stdout",
     "output_type": "stream",
     "text": [
      "214 92\n"
     ]
    }
   ],
   "source": [
    "from sklearn.model_selection import train_test_split\n",
    "X_train, X_test, y_train, y_test = train_test_split(X, y, test_size = 0.3, random_state = 1)\n",
    "\n",
    "N_train, _ = X_train.shape \n",
    "N_test,  _ = X_test.shape \n",
    "\n",
    "print(N_train, N_test)"
   ]
  },
  {
   "cell_type": "markdown",
   "metadata": {},
   "source": [
    "# Secondary functions\n",
    "Before we begin to consider the work of various machine learning methods using the example of soy, we will compose a few auxiliary functions."
   ]
  },
  {
   "cell_type": "code",
   "execution_count": 91,
   "metadata": {},
   "outputs": [],
   "source": [
    "#from sklearn import cross_validation \n",
    "from sklearn.model_selection import cross_val_score"
   ]
  },
  {
   "cell_type": "markdown",
   "metadata": {},
   "source": [
    "# Error Matrix\n",
    "The error matrix is ​​one of the performance metrics of a classifier. Represents a two-dimensional matrix of size x, where is the number of classes. Each element shows how many objects of the class were recognized as objects of class .\n",
    "\n",
    "## binary case\n",
    "In a binary classifier, the error matrix can be viewed as follows:\n",
    "\n",
    "a(x)=0 a(x)=1\n",
    "y=0 TN FP\n",
    "y=1 FN TP ,\n",
    "where:\n",
    "\n",
    "TN (true negative) - true negatives\n",
    "FP (false positive) - false positives (errors of the first kind)\n",
    "FN (false negative) - false negatives (errors of the second kind)\n",
    "TN (false positive) - true positive responses"
   ]
  },
  {
   "cell_type": "code",
   "execution_count": 92,
   "metadata": {},
   "outputs": [],
   "source": [
    "def plot_confusion_matrix(y_test, y_test_predict):\n",
    "    plt.imshow(sk.metrics.confusion_matrix(y_test, y_test_predict), \n",
    "           interpolation='nearest', cmap = plt.cm.binary)\n",
    "    plt.colorbar()\n",
    "    plt.xlabel(\"predicted label\")\n",
    "    plt.ylabel(\"true label\")\n",
    "    plt.xticks([0, 1])\n",
    "    plt.yticks([0, 1])"
   ]
  },
  {
   "cell_type": "markdown",
   "metadata": {},
   "source": [
    "# Cross control\n",
    "Cross-validation (cross-validation, cross-validation, English cross-validation) is a method for assessing the success of the model and its behavior on independent data. Cross-validation is important to guard against data-driven hypotheses (“Type III errors”), especially when obtaining additional data is difficult or impossible. One round of cross-validation involves splitting the dataset into parts, then building the model on one part (called the training set), and validating the model on the other part (called the test set).\n",
    "\n",
    "In this work, cross-validation by blocks is used. When evaluating the model, the available data is broken down into parts. Then, the model is trained on parts of the data, and the rest of the data is used for testing. The procedure is repeated once; in the end, each of the pieces of data is used for testing. The result is an estimate of the effectiveness of the chosen model with the most uniform use of the available data.\n",
    "\n",
    "There is also validation by sequential random sampling, where the training and test sets at each iteration are determined randomly, and element-wise cross-validation, the test set at the iteration of which is a single observation. In the latter case, the cycle is repeated until each observation is used once as a test."
   ]
  },
  {
   "cell_type": "code",
   "execution_count": 93,
   "metadata": {},
   "outputs": [],
   "source": [
    "def print_cross_validation_scores(model, X, y):\n",
    "    scores = cross_val_score(model, X, y, cv = 4)\n",
    "    print( scores)\n",
    "    print(\"Accuracy: %0.2f (+/- %0.2f)\" % (scores.mean(), scores.std() * 2))\n",
    "    print(\"Error:    %0.2f (+/- %0.2f)\" % (1 - scores.mean(), scores.std() * 2))"
   ]
  },
  {
   "cell_type": "markdown",
   "metadata": {},
   "source": [
    "# KNN\n",
    "  K Nearest Neighbors (KNN) can be called one of the simplest classification and sometimes regression algorithms. In the simplest implementation, the algorithm looks like this:\n",
    "\n",
    "the distances to each of the objects of the training sample are calculated;\n",
    "k objects of the training sample are selected, the distance to which is minimal;\n",
    "the class of the classified object is considered to be the class that occurs most often among the k nearest neighbors."
   ]
  },
  {
   "cell_type": "code",
   "execution_count": 94,
   "metadata": {},
   "outputs": [
    {
     "data": {
      "text/plain": [
       "KNeighborsClassifier(n_neighbors=10)"
      ]
     },
     "execution_count": 94,
     "metadata": {},
     "output_type": "execute_result"
    }
   ],
   "source": [
    "from sklearn.neighbors import KNeighborsClassifier\n",
    "\n",
    "knn = KNeighborsClassifier(n_neighbors = 10)\n",
    "knn.fit(X_train, y_train)"
   ]
  },
  {
   "cell_type": "code",
   "execution_count": 95,
   "metadata": {},
   "outputs": [
    {
     "name": "stdout",
     "output_type": "stream",
     "text": [
      "0.21495327102803738 0.30434782608695654\n"
     ]
    }
   ],
   "source": [
    "y_train_predict = knn.predict(X_train)\n",
    "y_test_predict = knn.predict(X_test)\n",
    "\n",
    "err_train = np.mean(y_train != y_train_predict)\n",
    "err_test  = np.mean(y_test  != y_test_predict)\n",
    "\n",
    "print(err_train, err_test)"
   ]
  },
  {
   "cell_type": "code",
   "execution_count": 96,
   "metadata": {},
   "outputs": [],
   "source": [
    "err_test = 1 - knn.score(X_test, y_test)"
   ]
  },
  {
   "cell_type": "code",
   "execution_count": 97,
   "metadata": {},
   "outputs": [
    {
     "data": {
      "text/plain": [
       "0.30434782608695654"
      ]
     },
     "execution_count": 97,
     "metadata": {},
     "output_type": "execute_result"
    }
   ],
   "source": [
    "err_test"
   ]
  },
  {
   "cell_type": "code",
   "execution_count": 98,
   "metadata": {},
   "outputs": [
    {
     "name": "stdout",
     "output_type": "stream",
     "text": [
      "[[11  0  0  0  0  0  0  0  0  0  0  1  0  0  0  0  0  0]\n",
      " [ 0  5  0  0  0  0  0  0  0  0  0  1  0  0  0  0  0  0]\n",
      " [ 1  0  2  0  0  0  0  0  0  0  0  0  0  0  0  0  0  0]\n",
      " [ 0  0  2  1  1  0  0  0  0  0  0  0  0  0  0  0  0  0]\n",
      " [ 1  0  0  0 12  0  0  0  0  0  0  0  0  0  0  0  0  0]\n",
      " [ 0  0  0  0  0  7  0  0  0  0  0  0  0  0  0  0  0  0]\n",
      " [ 0  0  0  0  0  5  0  0  0  0  0  0  0  0  0  0  0  0]\n",
      " [ 0  0  0  0  0  0  0  0  0  0  0  0  0  0  2  0  0  0]\n",
      " [ 0  1  0  0  0  0  0  0  0  0  0  0  0  0  0  0  0  0]\n",
      " [ 0  0  0  0  0  0  0  0  0  4  0  0  0  0  0  0  0  0]\n",
      " [ 3  0  0  0  1  0  0  0  0  0  2  0  0  0  0  0  0  0]\n",
      " [ 2  0  0  0  0  0  0  0  0  0  0  6  0  0  0  0  0  0]\n",
      " [ 0  0  0  0  0  0  0  0  0  0  0  0  0  0  4  0  0  0]\n",
      " [ 0  0  0  0  0  0  0  0  0  0  0  0  0  1  0  0  0  0]\n",
      " [ 0  0  0  0  0  0  0  0  0  0  0  0  0  0  8  0  0  0]\n",
      " [ 0  0  0  0  0  2  0  0  0  0  0  0  0  0  0  1  0  0]\n",
      " [ 1  0  0  0  0  0  0  0  0  0  0  0  0  0  0  0  2  0]\n",
      " [ 0  0  0  0  0  0  0  0  0  0  0  0  0  0  0  0  0  2]]\n"
     ]
    }
   ],
   "source": [
    "from sklearn.metrics import confusion_matrix\n",
    "mat = confusion_matrix(y_test, y_test_predict)\n",
    "print(confusion_matrix(y_test, y_test_predict))"
   ]
  },
  {
   "cell_type": "code",
   "execution_count": 99,
   "metadata": {},
   "outputs": [
    {
     "data": {
      "image/png": "[encoded data removed]",
      "text/plain": [
       "<Figure size 432x288 with 2 Axes>"
      ]
     },
     "metadata": {
      "needs_background": "light"
     },
     "output_type": "display_data"
    }
   ],
   "source": [
    "plot_confusion_matrix(y_test, y_test_predict)"
   ]
  },
  {
   "cell_type": "code",
   "execution_count": 100,
   "metadata": {},
   "outputs": [
    {
     "data": {
      "text/plain": [
       "array(['alternarialeaf-spot', 'anthracnose', 'bacterial-blight',\n",
       "       'bacterial-pustule', 'brown-spot', 'brown-stem-rot',\n",
       "       'diaporthe-stem-canker', 'downy-mildew', 'frog-eye-leaf-spot',\n",
       "       'phyllosticta-leaf-spot', 'phytophthora-rot', 'powdery-mildew',\n",
       "       'purple-seed-stain', 'rhizoctonia-root-rot'], dtype=object)"
      ]
     },
     "execution_count": 100,
     "metadata": {},
     "output_type": "execute_result"
    }
   ],
   "source": [
    "np.unique(y_test_predict)"
   ]
  },
  {
   "cell_type": "code",
   "execution_count": 101,
   "metadata": {},
   "outputs": [
    {
     "data": {
      "text/plain": [
       "array(['brown-stem-rot', 'phytophthora-rot', 'herbicide-injury',\n",
       "       'brown-spot', 'bacterial-pustule', 'purple-seed-stain',\n",
       "       'frog-eye-leaf-spot', 'powdery-mildew',\n",
       "       'diaporthe-pod-&-stem-blight', 'alternarialeaf-spot',\n",
       "       'cyst-nematode', 'charcoal-rot', 'anthracnose',\n",
       "       'rhizoctonia-root-rot', 'downy-mildew', 'phyllosticta-leaf-spot',\n",
       "       'diaporthe-stem-canker', 'bacterial-blight'], dtype=object)"
      ]
     },
     "execution_count": 101,
     "metadata": {},
     "output_type": "execute_result"
    }
   ],
   "source": [
    "y_test.unique()"
   ]
  },
  {
   "cell_type": "code",
   "execution_count": 102,
   "metadata": {},
   "outputs": [
    {
     "data": {
      "text/plain": [
       "array(['phytophthora-rot', 'anthracnose', 'frog-eye-leaf-spot',\n",
       "       'bacterial-blight', 'phyllosticta-leaf-spot', 'charcoal-rot',\n",
       "       'powdery-mildew', 'alternarialeaf-spot',\n",
       "       'diaporthe-pod-&-stem-blight', 'purple-seed-stain', 'brown-spot',\n",
       "       'brown-stem-rot', 'diaporthe-stem-canker', 'rhizoctonia-root-rot',\n",
       "       'downy-mildew', 'bacterial-pustule', 'cyst-nematode'], dtype=object)"
      ]
     },
     "execution_count": 102,
     "metadata": {},
     "output_type": "execute_result"
    }
   ],
   "source": [
    "y_train.unique()"
   ]
  },
  {
   "cell_type": "code",
   "execution_count": 103,
   "metadata": {},
   "outputs": [
    {
     "data": {
      "text/plain": [
       "17"
      ]
     },
     "execution_count": 103,
     "metadata": {},
     "output_type": "execute_result"
    }
   ],
   "source": [
    "len(y_train.unique())"
   ]
  },
  {
   "cell_type": "markdown",
   "metadata": {},
   "source": [
    "The method could not determine one of the classes, the defeat of the herbicide, because. representatives of this class were not included in the training sample, and, therefore, could not be among the nearest neighbors."
   ]
  },
  {
   "cell_type": "code",
   "execution_count": 104,
   "metadata": {},
   "outputs": [
    {
     "name": "stdout",
     "output_type": "stream",
     "text": [
      "[0.80519481 0.83116883 0.80263158 0.77631579]\n",
      "Accuracy: 0.80 (+/- 0.04)\n",
      "Error:    0.20 (+/- 0.04)\n"
     ]
    }
   ],
   "source": [
    "print_cross_validation_scores(knn, X, y)"
   ]
  },
  {
   "cell_type": "code",
   "execution_count": 105,
   "metadata": {},
   "outputs": [
    {
     "name": "stderr",
     "output_type": "stream",
     "text": [
      "C:\\Python39\\lib\\site-packages\\sklearn\\model_selection\\_split.py:676: UserWarning: The least populated class in y has only 4 members, which is less than n_splits=20.\n",
      "  warnings.warn(\n",
      "C:\\Python39\\lib\\site-packages\\sklearn\\model_selection\\_split.py:676: UserWarning: The least populated class in y has only 4 members, which is less than n_splits=20.\n",
      "  warnings.warn(\n",
      "C:\\Python39\\lib\\site-packages\\sklearn\\model_selection\\_split.py:676: UserWarning: The least populated class in y has only 4 members, which is less than n_splits=20.\n",
      "  warnings.warn(\n",
      "C:\\Python39\\lib\\site-packages\\sklearn\\model_selection\\_split.py:676: UserWarning: The least populated class in y has only 4 members, which is less than n_splits=20.\n",
      "  warnings.warn(\n",
      "C:\\Python39\\lib\\site-packages\\sklearn\\model_selection\\_split.py:676: UserWarning: The least populated class in y has only 4 members, which is less than n_splits=20.\n",
      "  warnings.warn(\n",
      "C:\\Python39\\lib\\site-packages\\sklearn\\model_selection\\_split.py:676: UserWarning: The least populated class in y has only 4 members, which is less than n_splits=20.\n",
      "  warnings.warn(\n",
      "C:\\Python39\\lib\\site-packages\\sklearn\\model_selection\\_split.py:676: UserWarning: The least populated class in y has only 4 members, which is less than n_splits=20.\n",
      "  warnings.warn(\n",
      "C:\\Python39\\lib\\site-packages\\sklearn\\model_selection\\_split.py:676: UserWarning: The least populated class in y has only 4 members, which is less than n_splits=20.\n",
      "  warnings.warn(\n",
      "C:\\Python39\\lib\\site-packages\\sklearn\\model_selection\\_split.py:676: UserWarning: The least populated class in y has only 4 members, which is less than n_splits=20.\n",
      "  warnings.warn(\n",
      "C:\\Python39\\lib\\site-packages\\sklearn\\model_selection\\_split.py:676: UserWarning: The least populated class in y has only 4 members, which is less than n_splits=20.\n",
      "  warnings.warn(\n",
      "C:\\Python39\\lib\\site-packages\\sklearn\\model_selection\\_split.py:676: UserWarning: The least populated class in y has only 4 members, which is less than n_splits=20.\n",
      "  warnings.warn(\n",
      "C:\\Python39\\lib\\site-packages\\sklearn\\model_selection\\_split.py:676: UserWarning: The least populated class in y has only 4 members, which is less than n_splits=20.\n",
      "  warnings.warn(\n",
      "C:\\Python39\\lib\\site-packages\\sklearn\\model_selection\\_split.py:676: UserWarning: The least populated class in y has only 4 members, which is less than n_splits=20.\n",
      "  warnings.warn(\n",
      "C:\\Python39\\lib\\site-packages\\sklearn\\model_selection\\_split.py:676: UserWarning: The least populated class in y has only 4 members, which is less than n_splits=20.\n",
      "  warnings.warn(\n",
      "C:\\Python39\\lib\\site-packages\\sklearn\\model_selection\\_split.py:676: UserWarning: The least populated class in y has only 4 members, which is less than n_splits=20.\n",
      "  warnings.warn(\n",
      "C:\\Python39\\lib\\site-packages\\sklearn\\model_selection\\_split.py:676: UserWarning: The least populated class in y has only 4 members, which is less than n_splits=20.\n",
      "  warnings.warn(\n",
      "C:\\Python39\\lib\\site-packages\\sklearn\\model_selection\\_split.py:676: UserWarning: The least populated class in y has only 4 members, which is less than n_splits=20.\n",
      "  warnings.warn(\n",
      "C:\\Python39\\lib\\site-packages\\sklearn\\model_selection\\_split.py:676: UserWarning: The least populated class in y has only 4 members, which is less than n_splits=20.\n",
      "  warnings.warn(\n",
      "C:\\Python39\\lib\\site-packages\\sklearn\\model_selection\\_split.py:676: UserWarning: The least populated class in y has only 4 members, which is less than n_splits=20.\n",
      "  warnings.warn(\n"
     ]
    }
   ],
   "source": [
    "kk = [1, 3, 5, 7] + list(range(10, 85, 5))\n",
    "err_cv = []\n",
    "for k in kk:\n",
    "    model = KNeighborsClassifier(n_neighbors = k)\n",
    "    model.fit(X, y)\n",
    "    scores = cross_val_score(model, X, y, cv = 20)\n",
    "    err_cv.append(1 - scores.mean())"
   ]
  },
  {
   "cell_type": "code",
   "execution_count": 106,
   "metadata": {},
   "outputs": [],
   "source": [
    "err_train = []\n",
    "err_test = []\n",
    "kk2 = [1, 2, 3, 4] + list(range(5, 21, 2))\n",
    "for k in kk2:\n",
    "    model = KNeighborsClassifier(n_neighbors = k)\n",
    "    model.fit(X_train, y_train)\n",
    "    err_train.append(np.mean(model.predict(X_train) != y_train))\n",
    "    err_test.append(np.mean(model.predict(X_test) != y_test))"
   ]
  },
  {
   "cell_type": "code",
   "execution_count": 107,
   "metadata": {},
   "outputs": [
    {
     "data": {
      "text/plain": [
       "<matplotlib.legend.Legend at 0x198a55558e0>"
      ]
     },
     "execution_count": 107,
     "metadata": {},
     "output_type": "execute_result"
    },
    {
     "data": {
      "image/png": "[encoded data removed]",
      "text/plain": [
       "<Figure size 432x288 with 1 Axes>"
      ]
     },
     "metadata": {
      "needs_background": "light"
     },
     "output_type": "display_data"
    }
   ],
   "source": [
    "plt.plot(kk, err_cv, '.-m', label = 'CV error')\n",
    "plt.legend(loc = 'best')"
   ]
  },
  {
   "cell_type": "code",
   "execution_count": 108,
   "metadata": {},
   "outputs": [
    {
     "data": {
      "text/plain": [
       "<matplotlib.legend.Legend at 0x198a55fdc40>"
      ]
     },
     "execution_count": 108,
     "metadata": {},
     "output_type": "execute_result"
    },
    {
     "data": {
      "image/png": "[encoded data removed]",
      "text/plain": [
       "<Figure size 432x288 with 1 Axes>"
      ]
     },
     "metadata": {
      "needs_background": "light"
     },
     "output_type": "display_data"
    }
   ],
   "source": [
    "plt.plot(kk2, err_train, '*-g', label = 'Train error')\n",
    "plt.plot(kk2, err_test,  'o-y', label = 'Test error')    \n",
    "plt.legend(loc = 2)"
   ]
  },
  {
   "cell_type": "markdown",
   "metadata": {},
   "source": [
    "As you can see, the k-nearest neighbor method does not work very well on soy data, and the result of its work strongly depends on the choice of the parameter k.\n",
    "\n",
    "# Logistic regression\n",
    "### Linear Regression\n",
    "Regression Model\n",
    ", where the model parameters are the random error of the model; is called linear regression if the regression function has the form:\n",
    ", where\n",
    " — parameters (coefficients) of regression,\n",
    " — regressors (factors of the model), — number of factors of the model. Variables . It is assumed that the random variable is normally distributed with zero mean and fixed variance\n",
    ", which does not depend on the variables . Under such assumptions, the parameters of the regression model are calculated using the least squares method. If linearly dependent on , then linear regression will give the best estimate of .\n",
    "\n",
    "However, what to do in the case of a binary classifier? Think that\n",
    " equal to one if\n",
    " \n",
    ", and zero otherwise? From the example below it becomes clear that this approach may not work:"
   ]
  },
  {
   "cell_type": "code",
   "execution_count": 109,
   "metadata": {},
   "outputs": [],
   "source": [
    "from sklearn.linear_model import LinearRegression"
   ]
  },
  {
   "cell_type": "code",
   "execution_count": 110,
   "metadata": {},
   "outputs": [
    {
     "data": {
      "text/plain": [
       "LinearRegression()"
      ]
     },
     "execution_count": 110,
     "metadata": {},
     "output_type": "execute_result"
    }
   ],
   "source": [
    "model = LinearRegression()\n",
    "model.fit([[-6], [-5], [-4], [-3], [-2], [-1], [0], [1], [2], [3], [4], [5], [6]], [0,0,0,0,0,1,1,1,1,1,0,1,1])"
   ]
  },
  {
   "cell_type": "code",
   "execution_count": 111,
   "metadata": {},
   "outputs": [
    {
     "data": {
      "text/plain": [
       "(0.5384615384615384, array([0.08791209]))"
      ]
     },
     "execution_count": 111,
     "metadata": {},
     "output_type": "execute_result"
    }
   ],
   "source": [
    "model.intercept_, model.coef_"
   ]
  },
  {
   "cell_type": "code",
   "execution_count": 112,
   "metadata": {},
   "outputs": [
    {
     "data": {
      "text/plain": [
       "Text(0.5, 0, 'x')"
      ]
     },
     "execution_count": 112,
     "metadata": {},
     "output_type": "execute_result"
    },
    {
     "data": {
      "image/png": "[encoded data removed]",
      "text/plain": [
       "<Figure size 720x144 with 1 Axes>"
      ]
     },
     "metadata": {
      "needs_background": "light"
     },
     "output_type": "display_data"
    }
   ],
   "source": [
    "plt.figure(figsize = (10, 2))\n",
    "z = np.linspace(-6, 6, 300)\n",
    "b0 = 0.5 #beta0\n",
    "b1 = 1/12 #beta1\n",
    "plt.plot(range(-6,7), [0,0,0,0,0,1,1,1,1,1,1,1,1], 'ro')\n",
    "plt.plot(z, model.intercept_+model.coef_[0]*z)\n",
    "plt.ylabel('y,y_hat')\n",
    "plt.xlabel('x')"
   ]
  },
  {
   "cell_type": "markdown",
   "metadata": {},
   "source": [
    "This is where logistic regression comes to the rescue.\n",
    "\n",
    "Logistic regression\n",
    "Let\n",
    " \n",
    "\n",
    "Elementary logistic function (elementary sigmoid):"
   ]
  },
  {
   "cell_type": "code",
   "execution_count": 113,
   "metadata": {},
   "outputs": [
    {
     "data": {
      "text/plain": [
       "[<matplotlib.lines.Line2D at 0x198a547fe80>]"
      ]
     },
     "execution_count": 113,
     "metadata": {},
     "output_type": "execute_result"
    },
    {
     "data": {
      "image/png": "[encoded data removed]",
      "text/plain": [
       "<Figure size 720x144 with 1 Axes>"
      ]
     },
     "metadata": {
      "needs_background": "light"
     },
     "output_type": "display_data"
    }
   ],
   "source": [
    "plt.figure(figsize = (10, 2))\n",
    "z = np.linspace(-6, 6, 300)\n",
    "sigma = 1/(1 + np.exp(-z))\n",
    "plt.plot(z, sigma)"
   ]
  },
  {
   "cell_type": "markdown",
   "metadata": {},
   "source": [
    "# The Case of Classes\n",
    "Let\n",
    "\n",
    " \n",
    " \n",
    "Let's transform and rename:\n",
    "\n",
    " \n",
    " \n",
    "Linear separating surfaces:\n",
    "\n",
    "## Calculation of parameters\n",
    "\n",
    "In logistic regression, parameters are usually fitted using the maximum likelihood method.\n",
    "\n",
    "Log-likelihood function\n",
    " \n",
    "where\n",
    "\n",
    "Let's consider the case in detail: .\n",
    "\n",
    " \n",
    "It is required to maximize the log-likelihood function\n",
    " \n",
    "\n",
    "It is easy to prove that\n",
    " \n",
    " \n",
    " \n",
    " \n",
    "\n",
    "Now we can use the gradient descent method or a more advanced optimization method (conjugate gradients, BFGS, L-BFGS, etc.).\n",
    "\n",
    "Comment\n",
    "\n",
    "It is easy to see that maximizing the log-likelihood function is equivalent to minimizing the empirical risk\n",
    " \n",
    " \n",
    " \n",
    "if we consider cross-entropy as a penalty function:"
   ]
  },
  {
   "cell_type": "code",
   "execution_count": 114,
   "metadata": {},
   "outputs": [
    {
     "data": {
      "text/plain": [
       "LogisticRegression(max_iter=1000)"
      ]
     },
     "execution_count": 114,
     "metadata": {},
     "output_type": "execute_result"
    }
   ],
   "source": [
    "from sklearn.linear_model import LogisticRegression\n",
    "logistic_model = LogisticRegression(max_iter=1000)\n",
    "logistic_model.fit(X_train, y_train)"
   ]
  },
  {
   "cell_type": "code",
   "execution_count": 115,
   "metadata": {},
   "outputs": [],
   "source": [
    "err_test = 1 - logistic_model.score(X_test, y_test)"
   ]
  },
  {
   "cell_type": "code",
   "execution_count": 116,
   "metadata": {},
   "outputs": [
    {
     "name": "stdout",
     "output_type": "stream",
     "text": [
      "0.018691588785046728 0.09782608695652174\n"
     ]
    }
   ],
   "source": [
    "y_train_predict = logistic_model.predict(X_train)\n",
    "y_test_predict = logistic_model.predict(X_test)\n",
    "\n",
    "err_train = np.mean(y_train != y_train_predict)\n",
    "err_test  = np.mean(y_test  != y_test_predict)\n",
    "\n",
    "print(err_train, err_test)"
   ]
  },
  {
   "cell_type": "code",
   "execution_count": 117,
   "metadata": {},
   "outputs": [
    {
     "name": "stdout",
     "output_type": "stream",
     "text": [
      "[[10  0  0  0  0  0  0  0  0  0  0  2  0  0  0  0  0  0]\n",
      " [ 0  6  0  0  0  0  0  0  0  0  0  0  0  0  0  0  0  0]\n",
      " [ 0  0  3  0  0  0  0  0  0  0  0  0  0  0  0  0  0  0]\n",
      " [ 0  0  0  4  0  0  0  0  0  0  0  0  0  0  0  0  0  0]\n",
      " [ 1  0  0  0 12  0  0  0  0  0  0  0  0  0  0  0  0  0]\n",
      " [ 0  0  0  0  0  7  0  0  0  0  0  0  0  0  0  0  0  0]\n",
      " [ 0  0  0  0  0  0  5  0  0  0  0  0  0  0  0  0  0  0]\n",
      " [ 0  0  0  0  0  0  0  2  0  0  0  0  0  0  0  0  0  0]\n",
      " [ 0  0  0  0  0  0  0  0  1  0  0  0  0  0  0  0  0  0]\n",
      " [ 0  0  0  0  0  0  0  0  0  4  0  0  0  0  0  0  0  0]\n",
      " [ 0  0  0  0  0  0  0  0  0  0  6  0  0  0  0  0  0  0]\n",
      " [ 2  0  0  0  0  0  0  0  0  0  0  6  0  0  0  0  0  0]\n",
      " [ 0  0  0  0  1  0  0  0  0  0  0  0  0  0  3  0  0  0]\n",
      " [ 0  0  0  0  0  0  0  0  0  0  0  0  0  1  0  0  0  0]\n",
      " [ 0  0  0  0  0  0  0  0  0  0  0  0  0  0  8  0  0  0]\n",
      " [ 0  0  0  0  0  0  0  0  0  0  0  0  0  0  0  3  0  0]\n",
      " [ 0  0  0  0  0  0  0  0  0  0  0  0  0  0  0  0  3  0]\n",
      " [ 0  0  0  0  0  0  0  0  0  0  0  0  0  0  0  0  0  2]]\n"
     ]
    }
   ],
   "source": [
    "mat = confusion_matrix(y_test, y_test_predict)\n",
    "print(confusion_matrix(y_test, y_test_predict))"
   ]
  },
  {
   "cell_type": "code",
   "execution_count": 118,
   "metadata": {},
   "outputs": [
    {
     "data": {
      "image/png": "[encoded data removed]",
      "text/plain": [
       "<Figure size 432x288 with 2 Axes>"
      ]
     },
     "metadata": {
      "needs_background": "light"
     },
     "output_type": "display_data"
    }
   ],
   "source": [
    "plot_confusion_matrix(y_test, y_test_predict)"
   ]
  },
  {
   "cell_type": "markdown",
   "metadata": {},
   "source": [
    " The situation already looks much better than with the nearest neighbors method."
   ]
  },
  {
   "cell_type": "code",
   "execution_count": 119,
   "metadata": {},
   "outputs": [
    {
     "name": "stdout",
     "output_type": "stream",
     "text": [
      "[0.8961039  0.92207792 0.90789474 0.86842105]\n",
      "Accuracy: 0.90 (+/- 0.04)\n",
      "Error:    0.10 (+/- 0.04)\n"
     ]
    }
   ],
   "source": [
    "print_cross_validation_scores(logistic_model, X, y)"
   ]
  },
  {
   "cell_type": "markdown",
   "metadata": {},
   "source": [
    "# LDA, QDA\n",
    "Linear Discriminant Analysis\n",
    "Prior probability:\n",
    "\n",
    "Posterior Probability:\n",
    "\n",
    " \n",
    "Linear discriminant analysis (LDA) makes two assumptions:\n",
    "\n",
    "objects of each class are distributed according to the normal law:\n",
    " \n",
    " \n",
    "covariance matrices\n",
    " the same for all classes\n",
    "We need to compare two posterior probabilities:\n",
    "\n",
    "Substituting expressions for and\n",
    " and taking logarithms, we arrive at the inequality:\n",
    "\n",
    " \n",
    " \n",
    "Where\n",
    "\n",
    " \n",
    " \n",
    "i.e.\n",
    "where\n",
    ", and is some constant.\n",
    "\n",
    "In this way,\n",
    "\n",
    "the equation defines a separating hyperplane between the classes and\n",
    "important linear combination of features with coefficients\n",
    "Let us introduce a linear discriminant function: $$ \\delta_y(x) =\n",
    "\n",
    "\\frac{1}{2}(x-\\mu_y)^{\\top}\\Sigma^{-1}(x-\\mu_y) + \\frac{1}{2}x^{\\top}\\Sigma^ {-1}x + \\ln {\\rm Pr}\\,y = \\mu_y^{\\top} \\Sigma^{-1} x - \\frac{1}{2}\\mu_y^{\\top}\\Sigma ^{-1}\\mu_y + \\ln {\\rm Pr}\\,y $$\n",
    "Classifier: the object belongs to the class for which\n",
    " maximum.\n",
    "\n",
    "Here\n",
    "is the Mahalanobis distance."
   ]
  },
  {
   "cell_type": "code",
   "execution_count": 120,
   "metadata": {},
   "outputs": [],
   "source": [
    "from sklearn import discriminant_analysis"
   ]
  },
  {
   "cell_type": "code",
   "execution_count": 121,
   "metadata": {},
   "outputs": [
    {
     "data": {
      "text/plain": [
       "LinearDiscriminantAnalysis()"
      ]
     },
     "execution_count": 121,
     "metadata": {},
     "output_type": "execute_result"
    }
   ],
   "source": [
    "lda_model = discriminant_analysis.LinearDiscriminantAnalysis()\n",
    "lda_model.fit(X_train, y_train)"
   ]
  },
  {
   "cell_type": "code",
   "execution_count": 122,
   "metadata": {},
   "outputs": [
    {
     "data": {
      "text/plain": [
       "0.8804347826086957"
      ]
     },
     "execution_count": 122,
     "metadata": {},
     "output_type": "execute_result"
    }
   ],
   "source": [
    "lda_model.score(X_test, y_test)"
   ]
  },
  {
   "cell_type": "code",
   "execution_count": 123,
   "metadata": {},
   "outputs": [
    {
     "name": "stdout",
     "output_type": "stream",
     "text": [
      "0.056074766355140186 0.11956521739130435\n"
     ]
    }
   ],
   "source": [
    "y_train_predict = lda_model.predict(X_train)\n",
    "y_test_predict = lda_model.predict(X_test)\n",
    "\n",
    "err_train = np.mean(y_train != y_train_predict)\n",
    "err_test  = np.mean(y_test  != y_test_predict)\n",
    "\n",
    "print(err_train, err_test)"
   ]
  },
  {
   "cell_type": "code",
   "execution_count": 124,
   "metadata": {},
   "outputs": [
    {
     "name": "stdout",
     "output_type": "stream",
     "text": [
      "[[10  0  0  0  0  0  0  0  0  0  0  0  0  2  0  0  0  0]\n",
      " [ 0  6  0  0  0  0  0  0  0  0  0  0  0  0  0  0  0  0]\n",
      " [ 0  0  3  0  0  0  0  0  0  0  0  0  0  0  0  0  0  0]\n",
      " [ 0  0  0  4  0  0  0  0  0  0  0  0  0  0  0  0  0  0]\n",
      " [ 1  0  0  0 12  0  0  0  0  0  0  0  0  0  0  0  0  0]\n",
      " [ 0  0  0  0  0  6  1  0  0  0  0  0  0  0  0  0  0  0]\n",
      " [ 0  0  0  0  0  0  5  0  0  0  0  0  0  0  0  0  0  0]\n",
      " [ 0  0  0  0  0  0  0  2  0  0  0  0  0  0  0  0  0  0]\n",
      " [ 0  0  0  0  0  0  0  0  1  0  0  0  0  0  0  0  0  0]\n",
      " [ 0  0  0  0  0  0  0  0  0  4  0  0  0  0  0  0  0  0]\n",
      " [ 0  0  0  0  0  0  0  0  0  0  6  0  0  0  0  0  0  0]\n",
      " [ 2  0  0  0  0  0  0  0  0  0  0  5  0  1  0  0  0  0]\n",
      " [ 0  0  0  0  0  0  0  0  0  0  0  0  0  0  2  0  0  2]\n",
      " [ 0  0  0  0  0  0  0  0  0  0  0  0  0  1  0  0  0  0]\n",
      " [ 0  0  0  0  0  0  0  0  0  0  0  0  0  0  8  0  0  0]\n",
      " [ 0  0  0  0  0  0  0  0  0  0  0  0  0  0  0  3  0  0]\n",
      " [ 0  0  0  0  0  0  0  0  0  0  0  0  0  0  0  0  3  0]\n",
      " [ 0  0  0  0  0  0  0  0  0  0  0  0  0  0  0  0  0  2]]\n"
     ]
    }
   ],
   "source": [
    "mat = confusion_matrix(y_test, y_test_predict)\n",
    "print(confusion_matrix(y_test, y_test_predict))"
   ]
  },
  {
   "cell_type": "code",
   "execution_count": 125,
   "metadata": {},
   "outputs": [
    {
     "data": {
      "image/png": "[encoded data removed]",
      "text/plain": [
       "<Figure size 432x288 with 2 Axes>"
      ]
     },
     "metadata": {
      "needs_background": "light"
     },
     "output_type": "display_data"
    }
   ],
   "source": [
    "plot_confusion_matrix(y_test, y_test_predict)"
   ]
  },
  {
   "cell_type": "code",
   "execution_count": 126,
   "metadata": {},
   "outputs": [
    {
     "name": "stdout",
     "output_type": "stream",
     "text": [
      "[0.88311688 0.96103896 0.89473684 0.90789474]\n",
      "Accuracy: 0.91 (+/- 0.06)\n",
      "Error:    0.09 (+/- 0.06)\n"
     ]
    }
   ],
   "source": [
    "print_cross_validation_scores(lda_model, X, y)"
   ]
  },
  {
   "cell_type": "markdown",
   "metadata": {},
   "source": [
    "# Quadratic Discriminant Analysis\n",
    "Quadratic Discriminant Analysis, QDA (Quadratic Discriminant Analysis) is a natural generalization of the LDA method. QDA is a multi-class method and can be used to classify multiple classes k=1,…, K at the same time.\n",
    "\n",
    "The training set consists of K matrices\n",
    ", in which there is\n",
    " lines (samples). The number of variables (columns) is the same and equals D. Keeping the first LDA assumption, we discard the second one, i.e. Let us assume that the covariance matrices in each class are different. Then QDA-accounts are calculated by the formula\n",
    "The QDA classification rule is that the new sample x belongs to the class for which the QDA score is the smallest."
   ]
  },
  {
   "cell_type": "code",
   "execution_count": 127,
   "metadata": {},
   "outputs": [
    {
     "name": "stderr",
     "output_type": "stream",
     "text": [
      "C:\\Python39\\lib\\site-packages\\sklearn\\discriminant_analysis.py:878: UserWarning: Variables are collinear\n",
      "  warnings.warn(\"Variables are collinear\")\n"
     ]
    },
    {
     "data": {
      "text/plain": [
       "QuadraticDiscriminantAnalysis()"
      ]
     },
     "execution_count": 127,
     "metadata": {},
     "output_type": "execute_result"
    }
   ],
   "source": [
    "qda_model = discriminant_analysis.QuadraticDiscriminantAnalysis()\n",
    "qda_model.fit(X_train, y_train)"
   ]
  },
  {
   "cell_type": "code",
   "execution_count": 128,
   "metadata": {},
   "outputs": [
    {
     "name": "stdout",
     "output_type": "stream",
     "text": [
      "0.2523364485981308 0.6413043478260869\n"
     ]
    }
   ],
   "source": [
    "y_train_predict = qda_model.predict(X_train)\n",
    "y_test_predict = qda_model.predict(X_test)\n",
    "\n",
    "err_train = np.mean(y_train != y_train_predict)\n",
    "err_test  = np.mean(y_test  != y_test_predict)\n",
    "\n",
    "print(err_train, err_test)"
   ]
  },
  {
   "cell_type": "code",
   "execution_count": 129,
   "metadata": {},
   "outputs": [
    {
     "name": "stdout",
     "output_type": "stream",
     "text": [
      "[[10  0  0  0  0  0  1  0  0  0  0  1  0  0  0  0  0  0]\n",
      " [ 4  0  0  1  0  0  0  1  0  0  0  0  0  0  0  0  0  0]\n",
      " [ 1  0  0  0  0  0  0  2  0  0  0  0  0  0  0  0  0  0]\n",
      " [ 2  0  0  0  0  0  0  2  0  0  0  0  0  0  0  0  0  0]\n",
      " [ 5  0  0  0  8  0  0  0  0  0  0  0  0  0  0  0  0  0]\n",
      " [ 6  0  0  0  0  0  0  1  0  0  0  0  0  0  0  0  0  0]\n",
      " [ 2  0  0  0  0  0  0  2  0  1  0  0  0  0  0  0  0  0]\n",
      " [ 0  0  0  0  0  0  0  2  0  0  0  0  0  0  0  0  0  0]\n",
      " [ 0  0  0  0  0  0  0  0  0  1  0  0  0  0  0  0  0  0]\n",
      " [ 4  0  0  0  0  0  0  0  0  0  0  0  0  0  0  0  0  0]\n",
      " [ 2  0  0  0  0  0  0  2  0  0  0  0  0  1  0  0  1  0]\n",
      " [ 3  0  0  0  0  0  0  0  0  0  0  5  0  0  0  0  0  0]\n",
      " [ 0  1  0  0  0  0  0  0  2  0  0  0  0  0  0  1  0  0]\n",
      " [ 0  0  0  0  0  0  0  1  0  0  0  0  0  0  0  0  0  0]\n",
      " [ 0  0  0  0  0  0  0  0  0  0  0  0  0  0  8  0  0  0]\n",
      " [ 1  0  0  0  0  1  0  0  0  1  0  0  0  0  0  0  0  0]\n",
      " [ 2  0  0  0  0  0  0  1  0  0  0  0  0  0  0  0  0  0]\n",
      " [ 0  0  0  0  0  0  0  2  0  0  0  0  0  0  0  0  0  0]]\n"
     ]
    }
   ],
   "source": [
    "mat = confusion_matrix(y_test, y_test_predict)\n",
    "print(confusion_matrix(y_test, y_test_predict))"
   ]
  },
  {
   "cell_type": "code",
   "execution_count": 130,
   "metadata": {},
   "outputs": [
    {
     "data": {
      "image/png": "[encoded data removed]",
      "text/plain": [
       "<Figure size 432x288 with 2 Axes>"
      ]
     },
     "metadata": {
      "needs_background": "light"
     },
     "output_type": "display_data"
    }
   ],
   "source": [
    "plot_confusion_matrix(y_test, y_test_predict)"
   ]
  },
  {
   "cell_type": "code",
   "execution_count": 131,
   "metadata": {},
   "outputs": [
    {
     "name": "stdout",
     "output_type": "stream",
     "text": [
      "[0.4025974  0.42857143 0.42105263 0.01315789]\n",
      "Accuracy: 0.32 (+/- 0.35)\n",
      "Error:    0.68 (+/- 0.35)\n"
     ]
    },
    {
     "name": "stderr",
     "output_type": "stream",
     "text": [
      "C:\\Python39\\lib\\site-packages\\sklearn\\discriminant_analysis.py:878: UserWarning: Variables are collinear\n",
      "  warnings.warn(\"Variables are collinear\")\n",
      "C:\\Python39\\lib\\site-packages\\sklearn\\discriminant_analysis.py:878: UserWarning: Variables are collinear\n",
      "  warnings.warn(\"Variables are collinear\")\n",
      "C:\\Python39\\lib\\site-packages\\sklearn\\discriminant_analysis.py:878: UserWarning: Variables are collinear\n",
      "  warnings.warn(\"Variables are collinear\")\n",
      "C:\\Python39\\lib\\site-packages\\sklearn\\discriminant_analysis.py:878: UserWarning: Variables are collinear\n",
      "  warnings.warn(\"Variables are collinear\")\n",
      "C:\\Python39\\lib\\site-packages\\sklearn\\discriminant_analysis.py:903: RuntimeWarning: divide by zero encountered in power\n",
      "  X2 = np.dot(Xm, R * (S ** (-0.5)))\n",
      "C:\\Python39\\lib\\site-packages\\sklearn\\discriminant_analysis.py:903: RuntimeWarning: invalid value encountered in multiply\n",
      "  X2 = np.dot(Xm, R * (S ** (-0.5)))\n",
      "C:\\Python39\\lib\\site-packages\\sklearn\\discriminant_analysis.py:906: RuntimeWarning: divide by zero encountered in log\n",
      "  u = np.asarray([np.sum(np.log(s)) for s in self.scalings_])\n"
     ]
    }
   ],
   "source": [
    "print_cross_validation_scores(qda_model, X, y)"
   ]
  },
  {
   "cell_type": "markdown",
   "metadata": {},
   "source": [
    "# SVM\n",
    "\n",
    "The main idea of ​​the method is to translate the original vectors into a higher-dimensional space and search for a separating hyperplane with the maximum gap in this space. Two parallel hyperplanes are built on both sides of the hyperplane that separates the classes. The separating hyperplane will be the hyperplane that maximizes the distance to two parallel hyperplanes. The algorithm works under the assumption that the greater the difference or distance between these parallel hyperplanes, the smaller the average classifier error will be."
   ]
  },
  {
   "cell_type": "code",
   "execution_count": 132,
   "metadata": {},
   "outputs": [
    {
     "data": {
      "text/plain": [
       "SVC(kernel='linear')"
      ]
     },
     "execution_count": 132,
     "metadata": {},
     "output_type": "execute_result"
    }
   ],
   "source": [
    "from sklearn.svm import SVC # \"Support Vector Classifier\"\n",
    "svc_model = SVC(kernel = 'linear')\n",
    "svc_model.fit(X_train, y_train)"
   ]
  },
  {
   "cell_type": "code",
   "execution_count": 133,
   "metadata": {},
   "outputs": [
    {
     "name": "stdout",
     "output_type": "stream",
     "text": [
      "0.014018691588785047 0.11956521739130435\n"
     ]
    }
   ],
   "source": [
    "y_train_predict = svc_model.predict(X_train)\n",
    "y_test_predict = svc_model.predict(X_test)\n",
    "\n",
    "err_train = np.mean(y_train != y_train_predict)\n",
    "err_test  = np.mean(y_test  != y_test_predict)\n",
    "\n",
    "print(err_train, err_test)"
   ]
  },
  {
   "cell_type": "code",
   "execution_count": 134,
   "metadata": {},
   "outputs": [
    {
     "name": "stdout",
     "output_type": "stream",
     "text": [
      "[[ 8  0  0  0  0  0  0  0  0  0  0  4  0  0  0  0  0  0]\n",
      " [ 0  6  0  0  0  0  0  0  0  0  0  0  0  0  0  0  0  0]\n",
      " [ 0  0  3  0  0  0  0  0  0  0  0  0  0  0  0  0  0  0]\n",
      " [ 0  0  0  4  0  0  0  0  0  0  0  0  0  0  0  0  0  0]\n",
      " [ 1  0  0  0 12  0  0  0  0  0  0  0  0  0  0  0  0  0]\n",
      " [ 0  0  0  0  0  7  0  0  0  0  0  0  0  0  0  0  0  0]\n",
      " [ 0  0  0  0  0  0  5  0  0  0  0  0  0  0  0  0  0  0]\n",
      " [ 0  0  0  0  0  0  0  2  0  0  0  0  0  0  0  0  0  0]\n",
      " [ 0  0  0  0  0  0  0  0  1  0  0  0  0  0  0  0  0  0]\n",
      " [ 0  0  0  0  0  0  0  0  0  4  0  0  0  0  0  0  0  0]\n",
      " [ 0  0  0  0  0  0  0  0  0  0  6  0  0  0  0  0  0  0]\n",
      " [ 1  0  0  0  1  0  0  0  0  0  0  6  0  0  0  0  0  0]\n",
      " [ 0  0  0  0  0  0  0  0  0  0  0  0  0  0  4  0  0  0]\n",
      " [ 0  0  0  0  0  0  0  0  0  0  0  0  0  1  0  0  0  0]\n",
      " [ 0  0  0  0  0  0  0  0  0  0  0  0  0  0  8  0  0  0]\n",
      " [ 0  0  0  0  0  0  0  0  0  0  0  0  0  0  0  3  0  0]\n",
      " [ 0  0  0  0  0  0  0  0  0  0  0  0  0  0  0  0  3  0]\n",
      " [ 0  0  0  0  0  0  0  0  0  0  0  0  0  0  0  0  0  2]]\n"
     ]
    }
   ],
   "source": [
    "mat = confusion_matrix(y_test, y_test_predict)\n",
    "print(confusion_matrix(y_test, y_test_predict))"
   ]
  },
  {
   "cell_type": "code",
   "execution_count": 135,
   "metadata": {},
   "outputs": [
    {
     "data": {
      "image/png": "[encoded data removed]",
      "text/plain": [
       "<Figure size 432x288 with 2 Axes>"
      ]
     },
     "metadata": {
      "needs_background": "light"
     },
     "output_type": "display_data"
    }
   ],
   "source": [
    "plot_confusion_matrix(y_test, y_test_predict)"
   ]
  },
  {
   "cell_type": "markdown",
   "metadata": {},
   "source": [
    "So far this method has the best results!"
   ]
  },
  {
   "cell_type": "code",
   "execution_count": 136,
   "metadata": {},
   "outputs": [
    {
     "name": "stdout",
     "output_type": "stream",
     "text": [
      "[0.87012987 0.92207792 0.90789474 0.85526316]\n",
      "Accuracy: 0.89 (+/- 0.05)\n",
      "Error:    0.11 (+/- 0.05)\n"
     ]
    }
   ],
   "source": [
    "print_cross_validation_scores(svc_model, X, y)"
   ]
  },
  {
   "cell_type": "code",
   "execution_count": 137,
   "metadata": {},
   "outputs": [],
   "source": [
    "kk = np.arange(0.01, 10.0, 0.1)\n",
    "err_cv = []\n",
    "for k in kk:\n",
    "    model = SVC(kernel = 'linear', C=k)\n",
    "    scores = cross_val_score(model, X, y, cv = 4)\n",
    "    err_cv.append(1 - scores.mean())"
   ]
  },
  {
   "cell_type": "code",
   "execution_count": 138,
   "metadata": {},
   "outputs": [],
   "source": [
    "err_train = []\n",
    "err_test = []\n",
    "kk2 =np.arange(0.01, 10.0, 0.1)\n",
    "for k in kk2:\n",
    "    model = SVC(kernel = 'linear', C=k)\n",
    "    model.fit(X_train, y_train)\n",
    "    err_train.append(np.mean(model.predict(X_train) != y_train))\n",
    "    err_test.append(np.mean(model.predict(X_test) != y_test))"
   ]
  },
  {
   "cell_type": "code",
   "execution_count": 139,
   "metadata": {},
   "outputs": [
    {
     "data": {
      "text/plain": [
       "<matplotlib.legend.Legend at 0x198a5841070>"
      ]
     },
     "execution_count": 139,
     "metadata": {},
     "output_type": "execute_result"
    },
    {
     "data": {
      "image/png": "[encoded data removed]",
      "text/plain": [
       "<Figure size 432x288 with 1 Axes>"
      ]
     },
     "metadata": {
      "needs_background": "light"
     },
     "output_type": "display_data"
    }
   ],
   "source": [
    "plt.plot(kk, err_cv, '.-m', label = 'CV error')\n",
    "plt.legend(loc = 'best')"
   ]
  },
  {
   "cell_type": "code",
   "execution_count": 140,
   "metadata": {},
   "outputs": [
    {
     "data": {
      "text/plain": [
       "<matplotlib.legend.Legend at 0x198a5988cd0>"
      ]
     },
     "execution_count": 140,
     "metadata": {},
     "output_type": "execute_result"
    },
    {
     "data": {
      "image/png": "[encoded data removed]",
      "text/plain": [
       "<Figure size 432x288 with 1 Axes>"
      ]
     },
     "metadata": {
      "needs_background": "light"
     },
     "output_type": "display_data"
    }
   ],
   "source": [
    "plt.plot(kk2, err_train, '*-g', label = 'Train error')\n",
    "plt.plot(kk2, err_test,  'o-y', label = 'Test error')    \n",
    "plt.legend(loc = 2)"
   ]
  },
  {
   "cell_type": "markdown",
   "metadata": {},
   "source": [
    "# Nuclei\n",
    "Let's see how the classifier behaves on different cores:\n",
    "\n",
    "## Radial core\n",
    "Radial basis function (RBF):\n",
    "Radial core:"
   ]
  },
  {
   "cell_type": "code",
   "execution_count": 141,
   "metadata": {},
   "outputs": [
    {
     "data": {
      "text/plain": [
       "SVC()"
      ]
     },
     "execution_count": 141,
     "metadata": {},
     "output_type": "execute_result"
    }
   ],
   "source": [
    "svc_model = SVC(kernel = 'rbf')\n",
    "svc_model.fit(X_train, y_train)"
   ]
  },
  {
   "cell_type": "code",
   "execution_count": 142,
   "metadata": {},
   "outputs": [
    {
     "data": {
      "text/plain": [
       "(0.9130434782608695, 0.9439252336448598)"
      ]
     },
     "execution_count": 142,
     "metadata": {},
     "output_type": "execute_result"
    }
   ],
   "source": [
    "svc_model.score(X_test, y_test), svc_model.score(X_train, y_train)"
   ]
  },
  {
   "cell_type": "code",
   "execution_count": 143,
   "metadata": {},
   "outputs": [],
   "source": [
    "cc = np.arange(0.01, 10.0, 0.2)\n",
    "gg = np.arange(0.01, 1.0, 0.1)\n",
    "err_cv = np.zeros((len(cc), len(gg)))\n",
    "for i in range(len(cc)):\n",
    "    for j in range(len(gg)):\n",
    "        model = SVC(kernel = 'rbf', C=cc[i], gamma = gg[j])\n",
    "        scores = cross_val_score(model, X, y, cv = 4)\n",
    "        err_cv[i][j] = (1 - scores.mean())"
   ]
  },
  {
   "cell_type": "code",
   "execution_count": 144,
   "metadata": {},
   "outputs": [],
   "source": [
    "err_train = np.zeros((len(cc), len(gg)))\n",
    "err_test = np.zeros((len(cc), len(gg)))\n",
    "for i in range(len(cc)):\n",
    "    for j in range(len(gg)):\n",
    "        model = SVC(kernel = 'rbf', C=cc[i], gamma = gg[j])\n",
    "        model.fit(X_train, y_train)\n",
    "        err_train[i,j] = (np.mean(model.predict(X_train) != y_train))\n",
    "        err_test[i,j] = (np.mean(model.predict(X_test) != y_test))"
   ]
  },
  {
   "cell_type": "code",
   "execution_count": 145,
   "metadata": {},
   "outputs": [
    {
     "data": {
      "text/plain": [
       "Text(0.5, 0, 'c')"
      ]
     },
     "execution_count": 145,
     "metadata": {},
     "output_type": "execute_result"
    },
    {
     "data": {
      "image/png": "[encoded data removed]",
      "text/plain": [
       "<Figure size 432x288 with 1 Axes>"
      ]
     },
     "metadata": {
      "needs_background": "light"
     },
     "output_type": "display_data"
    }
   ],
   "source": [
    "for i in range(len(cc)-1,-1,-1):\n",
    "    for j in range(len(gg)-1,-1,-1):\n",
    "        plt.scatter(cc[i], gg[j], alpha=err_cv[i][j], c='k')\n",
    "plt.ylabel('gamma')\n",
    "plt.xlabel('c')"
   ]
  },
  {
   "cell_type": "code",
   "execution_count": 146,
   "metadata": {},
   "outputs": [
    {
     "data": {
      "text/plain": [
       "Text(0.5, 0, 'c')"
      ]
     },
     "execution_count": 146,
     "metadata": {},
     "output_type": "execute_result"
    },
    {
     "data": {
      "image/png": "[encoded data removed]",
      "text/plain": [
       "<Figure size 432x288 with 1 Axes>"
      ]
     },
     "metadata": {
      "needs_background": "light"
     },
     "output_type": "display_data"
    }
   ],
   "source": [
    "for i in range(len(cc)-1,-1,-1):\n",
    "    for j in range(len(gg)-1,-1,-1):\n",
    "        plt.scatter(cc[i], gg[j], alpha=err_test[i][j], c='r')\n",
    "plt.ylabel('gamma')\n",
    "plt.xlabel('c')"
   ]
  },
  {
   "cell_type": "code",
   "execution_count": 147,
   "metadata": {},
   "outputs": [
    {
     "data": {
      "text/plain": [
       "Text(0.5, 0, 'c')"
      ]
     },
     "execution_count": 147,
     "metadata": {},
     "output_type": "execute_result"
    },
    {
     "data": {
      "image/png": "[encoded data removed]",
      "text/plain": [
       "<Figure size 432x288 with 1 Axes>"
      ]
     },
     "metadata": {
      "needs_background": "light"
     },
     "output_type": "display_data"
    }
   ],
   "source": [
    "for i in range(len(cc)-1,-1,-1):\n",
    "    for j in range(len(gg)-1,-1,-1):\n",
    "        plt.scatter(cc[i], gg[j], alpha=err_train[i][j], c='g')\n",
    "plt.ylabel('gamma')\n",
    "plt.xlabel('c')"
   ]
  },
  {
   "cell_type": "code",
   "execution_count": 148,
   "metadata": {},
   "outputs": [
    {
     "data": {
      "text/plain": [
       "(160, 0.07608695652173914)"
      ]
     },
     "execution_count": 148,
     "metadata": {},
     "output_type": "execute_result"
    }
   ],
   "source": [
    "np.argmin(err_test), np.min(err_test)"
   ]
  },
  {
   "cell_type": "code",
   "execution_count": 149,
   "metadata": {},
   "outputs": [
    {
     "data": {
      "text/plain": [
       "(170, 0.06536226930963773)"
      ]
     },
     "execution_count": 149,
     "metadata": {},
     "output_type": "execute_result"
    }
   ],
   "source": [
    "np.argmin(err_cv), np.min(err_cv)"
   ]
  },
  {
   "cell_type": "markdown",
   "metadata": {},
   "source": [
    "# Polynomial Kernel"
   ]
  },
  {
   "cell_type": "code",
   "execution_count": 150,
   "metadata": {},
   "outputs": [],
   "source": [
    "cc = np.arange(0.01, 10.0, 0.2)\n",
    "gg = np.arange(0.01, 1.0, 0.1)\n",
    "dd = range(1, 8, 1)\n",
    "err_cv = np.zeros((len(cc), len(gg), len(dd)))\n",
    "err_train = np.zeros((len(cc), len(gg), len(dd)))\n",
    "err_test = np.zeros((len(cc), len(gg), len(dd)))\n",
    "for i in range(len(cc)):\n",
    "    for j in range(len(gg)):\n",
    "        for d in range(len(dd)):\n",
    "            model = SVC(kernel = 'poly', C = cc[i], degree = dd[d], \n",
    "                    gamma = gg[j], coef0 = 10)\n",
    "            scores = cross_val_score(model, X, y, cv = 4)\n",
    "            err_cv[i,j,d] = (1 - scores.mean())\n",
    "            model.fit(X_train, y_train)\n",
    "            err_train[i,j,d] = (np.mean(model.predict(X_train) != y_train))\n",
    "            err_test[i,j,d] = (np.mean(model.predict(X_test) != y_test))"
   ]
  },
  {
   "cell_type": "code",
   "execution_count": 151,
   "metadata": {},
   "outputs": [
    {
     "name": "stderr",
     "output_type": "stream",
     "text": [
      "C:\\Users\\mokse\\AppData\\Local\\Temp/ipykernel_10104/4119417211.py:3: MatplotlibDeprecationWarning: Calling gca() with keyword arguments was deprecated in Matplotlib 3.4. Starting two minor releases later, gca() will take no keyword arguments. The gca() function should only be used to get the current axes, or if no axes exist, create new axes with default keyword arguments. To create a new axes with non-default arguments, use plt.axes() or plt.subplot().\n",
      "  ax = fig.gca(projection='3d')\n"
     ]
    },
    {
     "data": {
      "text/plain": [
       "Text(0.5, 0, 'degree')"
      ]
     },
     "execution_count": 151,
     "metadata": {},
     "output_type": "execute_result"
    },
    {
     "data": {
      "image/png": "[encoded data removed]",
      "text/plain": [
       "<Figure size 432x288 with 1 Axes>"
      ]
     },
     "metadata": {
      "needs_background": "light"
     },
     "output_type": "display_data"
    }
   ],
   "source": [
    "from mpl_toolkits.mplot3d import Axes3D\n",
    "fig = plt.figure()\n",
    "ax = fig.gca(projection='3d')\n",
    "for i in range(len(cc)):\n",
    "    for j in range(len(gg)):\n",
    "        for d in range(len(dd)):\n",
    "            ax.scatter(cc[i],gg[j],dd[d],c='k', alpha=err_cv[i][j][d])\n",
    "ax.set_xlabel('C')\n",
    "ax.set_ylabel('gamma')\n",
    "ax.set_zlabel('degree')"
   ]
  },
  {
   "cell_type": "code",
   "execution_count": 152,
   "metadata": {},
   "outputs": [
    {
     "name": "stderr",
     "output_type": "stream",
     "text": [
      "C:\\Users\\mokse\\AppData\\Local\\Temp/ipykernel_10104/1301491307.py:3: MatplotlibDeprecationWarning: Calling gca() with keyword arguments was deprecated in Matplotlib 3.4. Starting two minor releases later, gca() will take no keyword arguments. The gca() function should only be used to get the current axes, or if no axes exist, create new axes with default keyword arguments. To create a new axes with non-default arguments, use plt.axes() or plt.subplot().\n",
      "  ax = fig.gca(projection='3d')\n"
     ]
    },
    {
     "data": {
      "text/plain": [
       "Text(0.5, 0, 'degree')"
      ]
     },
     "execution_count": 152,
     "metadata": {},
     "output_type": "execute_result"
    },
    {
     "data": {
      "image/png": "[encoded data removed]",
      "text/plain": [
       "<Figure size 432x288 with 1 Axes>"
      ]
     },
     "metadata": {
      "needs_background": "light"
     },
     "output_type": "display_data"
    }
   ],
   "source": [
    "from mpl_toolkits.mplot3d import Axes3D\n",
    "fig = plt.figure()\n",
    "ax = fig.gca(projection='3d')\n",
    "for i in range(len(cc)):\n",
    "    for j in range(len(gg)):\n",
    "        for d in range(len(dd)):\n",
    "            ax.scatter(cc[i],gg[j],dd[d],c='r', alpha=err_test[i][j][d])\n",
    "ax.set_xlabel('C')\n",
    "ax.set_ylabel('gamma')\n",
    "ax.set_zlabel('degree')"
   ]
  },
  {
   "cell_type": "code",
   "execution_count": 153,
   "metadata": {},
   "outputs": [
    {
     "name": "stderr",
     "output_type": "stream",
     "text": [
      "C:\\Users\\mokse\\AppData\\Local\\Temp/ipykernel_10104/1904884929.py:3: MatplotlibDeprecationWarning: Calling gca() with keyword arguments was deprecated in Matplotlib 3.4. Starting two minor releases later, gca() will take no keyword arguments. The gca() function should only be used to get the current axes, or if no axes exist, create new axes with default keyword arguments. To create a new axes with non-default arguments, use plt.axes() or plt.subplot().\n",
      "  ax = fig.gca(projection='3d')\n"
     ]
    },
    {
     "data": {
      "text/plain": [
       "Text(0.5, 0, 'degree')"
      ]
     },
     "execution_count": 153,
     "metadata": {},
     "output_type": "execute_result"
    },
    {
     "data": {
      "image/png": "[encoded data removed]",
      "text/plain": [
       "<Figure size 432x288 with 1 Axes>"
      ]
     },
     "metadata": {
      "needs_background": "light"
     },
     "output_type": "display_data"
    }
   ],
   "source": [
    "from mpl_toolkits.mplot3d import Axes3D\n",
    "fig = plt.figure()\n",
    "ax = fig.gca(projection='3d')\n",
    "for i in range(len(cc)):\n",
    "    for j in range(len(gg)):\n",
    "        for d in range(len(dd)):\n",
    "            ax.scatter(cc[i],gg[j],dd[d],c='g', alpha=err_train[i][j][d])\n",
    "ax.set_xlabel('C')\n",
    "ax.set_ylabel('gamma')\n",
    "ax.set_zlabel('degree')"
   ]
  },
  {
   "cell_type": "code",
   "execution_count": 154,
   "metadata": {},
   "outputs": [
    {
     "data": {
      "text/plain": [
       "(15, 0.06521739130434782)"
      ]
     },
     "execution_count": 154,
     "metadata": {},
     "output_type": "execute_result"
    }
   ],
   "source": [
    "np.argmin(err_test),np.min(err_test)"
   ]
  },
  {
   "cell_type": "markdown",
   "metadata": {},
   "source": [
    "# Naive Bayes Classifier\n",
    "Let all components of the random variable\n",
    "  discrete, i.e. all features are nominal\n",
    "\n",
    " \n",
    " \n",
    "The basic assumption of a naive bayes classifier is:\n",
    "\n",
    "variables\n",
    "  are conditionally independent for any given , i.e.,\n",
    "\n",
    "or, in short,\n",
    " \n",
    "\n",
    "According to the principle of maximum a posteriori probability\n",
    " \n",
    "\n",
    "We replace the probabilities with the frequency:"
   ]
  },
  {
   "cell_type": "code",
   "execution_count": 155,
   "metadata": {},
   "outputs": [
    {
     "data": {
      "text/plain": [
       "BernoulliNB()"
      ]
     },
     "execution_count": 155,
     "metadata": {},
     "output_type": "execute_result"
    }
   ],
   "source": [
    "from sklearn.naive_bayes import BernoulliNB\n",
    "nb_model = BernoulliNB()\n",
    "nb_model.fit(X_train, y_train)"
   ]
  },
  {
   "cell_type": "code",
   "execution_count": 156,
   "metadata": {},
   "outputs": [
    {
     "data": {
      "text/plain": [
       "0.8586956521739131"
      ]
     },
     "execution_count": 156,
     "metadata": {},
     "output_type": "execute_result"
    }
   ],
   "source": [
    "nb_model.score(X_test, y_test)"
   ]
  },
  {
   "cell_type": "code",
   "execution_count": 157,
   "metadata": {},
   "outputs": [
    {
     "name": "stdout",
     "output_type": "stream",
     "text": [
      "0.09813084112149532 0.14130434782608695\n"
     ]
    }
   ],
   "source": [
    "y_train_predict = nb_model.predict(X_train)\n",
    "y_test_predict = nb_model.predict(X_test)\n",
    "\n",
    "err_train = np.mean(y_train != y_train_predict)\n",
    "err_test  = np.mean(y_test  != y_test_predict)\n",
    "\n",
    "print(err_train, err_test)"
   ]
  },
  {
   "cell_type": "code",
   "execution_count": 158,
   "metadata": {},
   "outputs": [
    {
     "name": "stdout",
     "output_type": "stream",
     "text": [
      "[[11  0  0  0  0  0  0  0  0  0  0  0  0  1  0  0  0  0]\n",
      " [ 0  6  0  0  0  0  0  0  0  0  0  0  0  0  0  0  0  0]\n",
      " [ 1  0  2  0  0  0  0  0  0  0  0  0  0  0  0  0  0  0]\n",
      " [ 0  0  0  4  0  0  0  0  0  0  0  0  0  0  0  0  0  0]\n",
      " [ 1  0  0  0 11  0  0  0  0  0  0  1  0  0  0  0  0  0]\n",
      " [ 0  0  0  0  0  7  0  0  0  0  0  0  0  0  0  0  0  0]\n",
      " [ 0  0  0  0  0  0  5  0  0  0  0  0  0  0  0  0  0  0]\n",
      " [ 0  0  0  0  0  0  0  2  0  0  0  0  0  0  0  0  0  0]\n",
      " [ 0  0  0  0  0  0  0  0  1  0  0  0  0  0  0  0  0  0]\n",
      " [ 0  0  0  0  0  0  0  0  0  4  0  0  0  0  0  0  0  0]\n",
      " [ 0  0  0  0  0  0  0  0  0  0  6  0  0  0  0  0  0  0]\n",
      " [ 2  0  0  0  0  0  0  0  0  0  0  6  0  0  0  0  0  0]\n",
      " [ 0  0  0  0  0  0  0  4  0  0  0  0  0  0  0  0  0  0]\n",
      " [ 0  0  0  0  0  0  0  0  0  0  0  0  0  1  0  0  0  0]\n",
      " [ 0  0  0  0  0  0  0  0  0  0  0  0  0  0  5  0  0  3]\n",
      " [ 0  0  0  0  0  0  0  0  0  0  0  0  0  0  0  3  0  0]\n",
      " [ 0  0  0  0  0  0  0  0  0  0  0  0  0  0  0  0  3  0]\n",
      " [ 0  0  0  0  0  0  0  0  0  0  0  0  0  0  0  0  0  2]]\n"
     ]
    }
   ],
   "source": [
    "mat = confusion_matrix(y_test, y_test_predict)\n",
    "print(confusion_matrix(y_test, y_test_predict))"
   ]
  },
  {
   "cell_type": "code",
   "execution_count": 159,
   "metadata": {},
   "outputs": [
    {
     "data": {
      "image/png": "[encoded data removed]",
      "text/plain": [
       "<Figure size 432x288 with 2 Axes>"
      ]
     },
     "metadata": {
      "needs_background": "light"
     },
     "output_type": "display_data"
    }
   ],
   "source": [
    "plot_confusion_matrix(y_test, y_test_predict)"
   ]
  },
  {
   "cell_type": "code",
   "execution_count": 160,
   "metadata": {},
   "outputs": [
    {
     "name": "stdout",
     "output_type": "stream",
     "text": [
      "[0.85714286 0.87012987 0.89473684 0.88157895]\n",
      "Accuracy: 0.88 (+/- 0.03)\n",
      "Error:    0.12 (+/- 0.03)\n"
     ]
    }
   ],
   "source": [
    "print_cross_validation_scores(nb_model, X, y)"
   ]
  },
  {
   "cell_type": "code",
   "execution_count": 161,
   "metadata": {},
   "outputs": [
    {
     "data": {
      "text/plain": [
       "GaussianNB()"
      ]
     },
     "execution_count": 161,
     "metadata": {},
     "output_type": "execute_result"
    }
   ],
   "source": [
    "from sklearn.naive_bayes import GaussianNB\n",
    "nb_model = GaussianNB()\n",
    "nb_model.fit(X_train, y_train)"
   ]
  },
  {
   "cell_type": "code",
   "execution_count": 162,
   "metadata": {},
   "outputs": [
    {
     "data": {
      "text/plain": [
       "0.8152173913043478"
      ]
     },
     "execution_count": 162,
     "metadata": {},
     "output_type": "execute_result"
    }
   ],
   "source": [
    "nb_model.score(X_test, y_test)"
   ]
  },
  {
   "cell_type": "code",
   "execution_count": 163,
   "metadata": {},
   "outputs": [
    {
     "name": "stdout",
     "output_type": "stream",
     "text": [
      "0.1261682242990654 0.18478260869565216\n"
     ]
    }
   ],
   "source": [
    "y_train_predict = nb_model.predict(X_train)\n",
    "y_test_predict = nb_model.predict(X_test)\n",
    "\n",
    "err_train = np.mean(y_train != y_train_predict)\n",
    "err_test  = np.mean(y_test  != y_test_predict)\n",
    "\n",
    "print(err_train, err_test)"
   ]
  },
  {
   "cell_type": "code",
   "execution_count": 164,
   "metadata": {},
   "outputs": [
    {
     "name": "stdout",
     "output_type": "stream",
     "text": [
      "[[10  0  0  0  0  0  0  0  0  0  0  2  0  0  0  0  0  0]\n",
      " [ 0  6  0  0  0  0  0  0  0  0  0  0  0  0  0  0  0  0]\n",
      " [ 0  0  3  0  0  0  0  0  0  0  0  0  0  0  0  0  0  0]\n",
      " [ 0  0  0  4  0  0  0  0  0  0  0  0  0  0  0  0  0  0]\n",
      " [ 1  0  0  0  5  0  0  0  0  0  0  0  0  7  0  0  0  0]\n",
      " [ 0  0  0  0  0  7  0  0  0  0  0  0  0  0  0  0  0  0]\n",
      " [ 0  0  0  0  0  0  5  0  0  0  0  0  0  0  0  0  0  0]\n",
      " [ 0  0  0  0  0  0  0  2  0  0  0  0  0  0  0  0  0  0]\n",
      " [ 0  0  0  0  0  0  0  0  1  0  0  0  0  0  0  0  0  0]\n",
      " [ 0  1  0  0  0  0  0  0  0  3  0  0  0  0  0  0  0  0]\n",
      " [ 0  0  0  0  0  0  0  0  0  0  6  0  0  0  0  0  0  0]\n",
      " [ 2  0  0  0  0  0  0  0  0  0  0  6  0  0  0  0  0  0]\n",
      " [ 0  0  0  0  0  0  0  0  0  0  0  0  0  0  4  0  0  0]\n",
      " [ 0  0  0  0  0  0  0  0  0  0  0  0  0  1  0  0  0  0]\n",
      " [ 0  0  0  0  0  0  0  0  0  0  0  0  0  0  8  0  0  0]\n",
      " [ 0  0  0  0  0  0  0  0  0  0  0  0  0  0  0  3  0  0]\n",
      " [ 0  0  0  0  0  0  0  0  0  0  0  0  0  0  0  0  3  0]\n",
      " [ 0  0  0  0  0  0  0  0  0  0  0  0  0  0  0  0  0  2]]\n"
     ]
    }
   ],
   "source": [
    "mat = confusion_matrix(y_test, y_test_predict)\n",
    "print(confusion_matrix(y_test, y_test_predict))"
   ]
  },
  {
   "cell_type": "code",
   "execution_count": 165,
   "metadata": {},
   "outputs": [
    {
     "data": {
      "image/png": "[encoded data removed]",
      "text/plain": [
       "<Figure size 432x288 with 2 Axes>"
      ]
     },
     "metadata": {
      "needs_background": "light"
     },
     "output_type": "display_data"
    }
   ],
   "source": [
    "plot_confusion_matrix(y_test, y_test_predict)"
   ]
  },
  {
   "cell_type": "code",
   "execution_count": 166,
   "metadata": {},
   "outputs": [
    {
     "name": "stdout",
     "output_type": "stream",
     "text": [
      "[0.77922078 0.90909091 0.89473684 0.86842105]\n",
      "Accuracy: 0.86 (+/- 0.10)\n",
      "Error:    0.14 (+/- 0.10)\n"
     ]
    }
   ],
   "source": [
    "print_cross_validation_scores(nb_model, X, y)"
   ]
  },
  {
   "cell_type": "markdown",
   "metadata": {},
   "source": [
    "# conclusions\n",
    "Methods have proven to be different.\n",
    "Worst of all worked quadratic discriminant analysis - the error could exceed 50%.\n",
    "On average, the error was in the range of 10 to 15 percent.\n",
    "The best results were shown by the support vector machine, with the selection of the parameters of which the error decreased to 7.5%."
   ]
  }
 ],
 "metadata": {
  "interpreter": {
   "hash": "63fd5069d213b44bf678585dea6b12cceca9941eaf7f819626cde1f2670de90d"
  },
  "kernelspec": {
   "display_name": "Python 3.9.7 64-bit",
   "language": "python",
   "name": "python3"
  },
  "language_info": {
   "codemirror_mode": {
    "name": "ipython",
    "version": 3
   },
   "file_extension": ".py",
   "mimetype": "text/x-python",
   "name": "python",
   "nbconvert_exporter": "python",
   "pygments_lexer": "ipython3",
   "version": "3.9.7"
  },
  "orig_nbformat": 4
 },
 "nbformat": 4,
 "nbformat_minor": 2
}
